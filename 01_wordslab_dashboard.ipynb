{
 "cells": [
  {
   "cell_type": "markdown",
   "id": "8d84be03-3a31-4850-b942-1eab2ebfd96c",
   "metadata": {},
   "source": [
    "# Tutorial 1 - Dashboard\n",
    "\n",
    "## Prerequisites\n",
    "\n",
    "Follow the instructions on the main documentation page to discover and install wordslab-notebooks:\n",
    "\n",
    "[https://github.com/wordslab-org/wordslab-notebooks](https://github.com/wordslab-org/wordslab-notebooks?tab=readme-ov-file#overview)"
   ]
  },
  {
   "cell_type": "markdown",
   "id": "4365da36-b84b-4689-8368-f5e6e30e3c85",
   "metadata": {},
   "source": [
    "## Step 1 - Start wordslab-notebooks\n",
    "\n",
    "Open a Windows termninal.\n",
    "\n",
    "Execute the following command to launch wordslab-notebooks  :\n",
    "\n",
    "```shell\n",
    "set \"WORDSLAB_WINDOWS_HOME=C:\\wordslab\" && call \"%WORDSLAB_WINDOWS_HOME%\\start-wordslab-notebooks.bat\"\n",
    "```\n",
    "\n",
    "Notes: \n",
    "- Replace C:\\wordslab with the root directory you chose during the installation process\n",
    "- Add an IP address and port number at the end of the command if you installed wordslab-notebooks on a remote cloud machine\n",
    "\n",
    "![Start wordslab-notebooks](images/tutorial01/windows-start-command.jpg)"
   ]
  },
  {
   "cell_type": "markdown",
   "id": "ffe783ec-5aaf-428d-b8e2-9308ab15f4f2",
   "metadata": {},
   "source": [
    "## Step 2 - Click on the dashboard link\n",
    "\n",
    "Observe the logs displayed in the terminal until you see the following output :\n",
    "\n",
    "```\n",
    "------------------\n",
    "Open the DASHBOARD\n",
    "------------------\n",
    "\n",
    "http://127.0.0.1:8888\n",
    "\n",
    "------------------\n",
    "```\n",
    "\n",
    "Ctrl-click on the link, or copy-paste the URL to open the dashboard in your browser.\n",
    "\n",
    "![Open dashboard](images/tutorial01/windows-open-dashboard.jpg)"
   ]
  },
  {
   "cell_type": "markdown",
   "id": "1aad2d40-4b94-48fc-b293-fef299d149ca",
   "metadata": {},
   "source": [
    "## Step 3 - Understand the wordslab-notebooks dashboard\n",
    "\n",
    "The dashboard should look like this in your browser :\n",
    "\n",
    "![wordslab-notebooks dashboard](images/tutorial01/wordslab-2025-09-dashboard.jpg)\n",
    "\n",
    "You can click on the title to open the main documentation page.\n",
    "\n",
    "The first row with the title \"Applications\" gives you access to the three main applications packaged by wordslab-notebooks (more details in the next tutorials):\n",
    "- Click on the Open WebUI tile to chat with a generative AI model\n",
    "- Click on the JupyterLab tile to explore generative AI use cases in notebooks and terminals \n",
    "- Click on the Visual Studio tile to code with AI in an integrated development environment\n",
    "\n",
    "The \"User applications\" section can be used to access custom applications launched by the user from within the wordslab-nbotebooks virtual machine:\n",
    "- These links will point to nothing at wordslab-notebooks startup\n",
    "- See the JupyterLab tutorial for more details on how to launch a custom app\n",
    "\n",
    "The second row with the title \"Virtual Machine\" will show you the characteristics of the hardware you are running on, and the real time compute / memory / disk used by your workloads:\n",
    "- CPU and GPU (if there is one): refreshed every 2 sec\n",
    "- Disks: refreshed every 60 sec\n",
    "\n",
    "The disk space used by wordslab-notebooks is split in 3 virtual disks (Windows) or 3 directories (Linux), and it is refreshed every minute:\n",
    "- WORDSLAB_HOME: operating system, main applications, Python packages\n",
    "- WORDSLAB_WORKSPACE: user projects and files\n",
    "- WORDSLAB_MODELS: AI models\n",
    "\n",
    "The third row with the title \"Storage directories size\" helps you analyze the disk space used by each application, project, and model."
   ]
  },
  {
   "cell_type": "markdown",
   "id": "e1bfddc5-612b-48d6-bff7-1491fa3086b6",
   "metadata": {},
   "source": [
    "## Step 4 - Access the main applications\n",
    "\n",
    "Click on any of the application tiles to access Open WebUI, Jupyterlab, or Visual Studio.\n",
    "\n",
    "The application is opened **in a new browser tab**: just click on the previous browser tab to come back to the dashboard, which stays opened to monitor the virtual machine resources or launch another application.\n",
    "\n",
    "![App opened in a new tab](images/tutorial01/openwebui-new-tab.jpg)"
   ]
  },
  {
   "attachments": {},
   "cell_type": "markdown",
   "id": "dd40f87c-1ddc-4722-be03-e034129e36db",
   "metadata": {},
   "source": [
    "## Step 5 - Stop wordslab-notebooks\n",
    "\n",
    "When your work session is finished:\n",
    "- close your browser tabs\n",
    "- click on the Terminal window in which you launched wordslab-notebooks\n",
    "- press Ctrl+C to stop wordslab-notebooks\n",
    "\n",
    "You should see the message \"Stopping all servers ...\"\n",
    "\n",
    "![Stop wordslab-notebooks](images/tutorial01/windows-stop.jpg)"
   ]
  }
 ],
 "metadata": {
  "kernelspec": {
   "display_name": "Python 3 (ipykernel)",
   "language": "python",
   "name": "python3"
  },
  "language_info": {
   "codemirror_mode": {
    "name": "ipython",
    "version": 3
   },
   "file_extension": ".py",
   "mimetype": "text/x-python",
   "name": "python",
   "nbconvert_exporter": "python",
   "pygments_lexer": "ipython3",
   "version": "3.12.11"
  }
 },
 "nbformat": 4,
 "nbformat_minor": 5
}
