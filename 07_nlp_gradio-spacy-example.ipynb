{
 "cells": [
  {
   "cell_type": "code",
   "execution_count": 1,
   "id": "5237fbad-87cc-4172-8aa3-efb3bfd50776",
   "metadata": {
    "execution": {
     "iopub.execute_input": "2024-10-07T23:18:29.286327Z",
     "iopub.status.busy": "2024-10-07T23:18:29.286220Z",
     "iopub.status.idle": "2024-10-07T23:18:29.289580Z",
     "shell.execute_reply": "2024-10-07T23:18:29.289184Z",
     "shell.execute_reply.started": "2024-10-07T23:18:29.286316Z"
    }
   },
   "outputs": [],
   "source": [
    "from importlib.metadata import version"
   ]
  },
  {
   "cell_type": "code",
   "execution_count": null,
   "id": "f6f3d90a-a067-464f-9ada-e5c25eae6c08",
   "metadata": {
    "tags": []
   },
   "outputs": [],
   "source": [
    "pip install gradio"
   ]
  },
  {
   "cell_type": "code",
   "execution_count": 5,
   "id": "f9ad4440-cfca-4357-83ee-8a8ee2576a53",
   "metadata": {
    "execution": {
     "iopub.execute_input": "2024-10-07T23:15:37.939639Z",
     "iopub.status.busy": "2024-10-07T23:15:37.938619Z",
     "iopub.status.idle": "2024-10-07T23:15:37.950104Z",
     "shell.execute_reply": "2024-10-07T23:15:37.949468Z",
     "shell.execute_reply.started": "2024-10-07T23:15:37.939603Z"
    }
   },
   "outputs": [
    {
     "data": {
      "text/plain": [
       "'4.44.1'"
      ]
     },
     "execution_count": 5,
     "metadata": {},
     "output_type": "execute_result"
    }
   ],
   "source": [
    "version('gradio')"
   ]
  },
  {
   "cell_type": "code",
   "execution_count": null,
   "id": "cb9a6061-4106-4b12-a7ef-a0c26babaed0",
   "metadata": {
    "tags": []
   },
   "outputs": [],
   "source": [
    "pip install spacy"
   ]
  },
  {
   "cell_type": "code",
   "execution_count": 6,
   "id": "2e07dcec-1731-4b42-be22-6b4db603f35f",
   "metadata": {
    "execution": {
     "iopub.execute_input": "2024-10-07T23:15:52.856868Z",
     "iopub.status.busy": "2024-10-07T23:15:52.856169Z",
     "iopub.status.idle": "2024-10-07T23:15:52.874038Z",
     "shell.execute_reply": "2024-10-07T23:15:52.873329Z",
     "shell.execute_reply.started": "2024-10-07T23:15:52.856831Z"
    }
   },
   "outputs": [
    {
     "data": {
      "text/plain": [
       "'3.8.2'"
      ]
     },
     "execution_count": 6,
     "metadata": {},
     "output_type": "execute_result"
    }
   ],
   "source": [
    "version('spacy')"
   ]
  },
  {
   "cell_type": "code",
   "execution_count": 3,
   "id": "a220d62f-b52f-4c13-9efd-cbff24a254ea",
   "metadata": {
    "execution": {
     "iopub.execute_input": "2024-10-07T23:21:04.551540Z",
     "iopub.status.busy": "2024-10-07T23:21:04.550588Z",
     "iopub.status.idle": "2024-10-07T23:21:04.568823Z",
     "shell.execute_reply": "2024-10-07T23:21:04.567899Z",
     "shell.execute_reply.started": "2024-10-07T23:21:04.551500Z"
    }
   },
   "outputs": [],
   "source": [
    "import importlib.util\n",
    "spec = importlib.util.find_spec('spacy')"
   ]
  },
  {
   "cell_type": "code",
   "execution_count": 7,
   "id": "bcd3c71f-5f07-4866-a0bf-d60e833a1250",
   "metadata": {
    "execution": {
     "iopub.execute_input": "2024-10-07T23:22:52.664606Z",
     "iopub.status.busy": "2024-10-07T23:22:52.663898Z",
     "iopub.status.idle": "2024-10-07T23:22:58.824987Z",
     "shell.execute_reply": "2024-10-07T23:22:58.823957Z",
     "shell.execute_reply.started": "2024-10-07T23:22:52.664576Z"
    },
    "tags": []
   },
   "outputs": [
    {
     "name": "stdout",
     "output_type": "stream",
     "text": [
      "Collecting en-core-web-sm==3.8.0\n",
      "  Downloading https://github.com/explosion/spacy-models/releases/download/en_core_web_sm-3.8.0/en_core_web_sm-3.8.0-py3-none-any.whl (12.8 MB)\n",
      "\u001b[2K     \u001b[90m━━━━━━━━━━━━━━━━━━━━━━━━━━━━━━━━━━━━━━━━\u001b[0m \u001b[32m12.8/12.8 MB\u001b[0m \u001b[31m58.7 MB/s\u001b[0m eta \u001b[36m0:00:00\u001b[0ma \u001b[36m0:00:01\u001b[0m\n",
      "\u001b[?25hInstalling collected packages: en-core-web-sm\n",
      "Successfully installed en-core-web-sm-3.8.0\n",
      "\u001b[38;5;2m✔ Download and installation successful\u001b[0m\n",
      "You can now load the package via spacy.load('en_core_web_sm')\n",
      "\u001b[38;5;3m⚠ Restart to reload dependencies\u001b[0m\n",
      "If you are in a Jupyter or Colab notebook, you may need to restart Python in\n",
      "order to load all the package's dependencies. You can do this by selecting the\n",
      "'Restart kernel' or 'Restart runtime' option.\n"
     ]
    }
   ],
   "source": [
    "%run {spec.origin.replace('__init__','__main__')} download en_core_web_sm"
   ]
  },
  {
   "cell_type": "code",
   "execution_count": 8,
   "id": "1fba33f0-2f2d-4af9-a99b-21f89dc7fbea",
   "metadata": {
    "execution": {
     "iopub.execute_input": "2024-10-07T23:23:16.789874Z",
     "iopub.status.busy": "2024-10-07T23:23:16.789440Z",
     "iopub.status.idle": "2024-10-07T23:23:17.114092Z",
     "shell.execute_reply": "2024-10-07T23:23:17.113036Z",
     "shell.execute_reply.started": "2024-10-07T23:23:16.789851Z"
    },
    "tags": []
   },
   "outputs": [],
   "source": [
    "import spacy\n",
    "from spacy import displacy\n",
    "\n",
    "nlp = spacy.load(\"en_core_web_sm\")"
   ]
  },
  {
   "cell_type": "code",
   "execution_count": 10,
   "id": "05ec92b5-ee8a-48d8-b84f-a59c0e5bf775",
   "metadata": {
    "execution": {
     "iopub.execute_input": "2024-10-07T23:24:10.277365Z",
     "iopub.status.busy": "2024-10-07T23:24:10.276783Z",
     "iopub.status.idle": "2024-10-07T23:24:12.235848Z",
     "shell.execute_reply": "2024-10-07T23:24:12.235294Z",
     "shell.execute_reply.started": "2024-10-07T23:24:10.277329Z"
    },
    "tags": []
   },
   "outputs": [
    {
     "name": "stdout",
     "output_type": "stream",
     "text": [
      "Running on local URL:  http://0.0.0.0:7860\n",
      "\n",
      "To create a public link, set `share=True` in `launch()`.\n"
     ]
    },
    {
     "data": {
      "text/plain": []
     },
     "execution_count": 10,
     "metadata": {},
     "output_type": "execute_result"
    }
   ],
   "source": [
    "import gradio as gr\n",
    "\n",
    "def text_analysis(text):\n",
    "    doc = nlp(text)\n",
    "    html = displacy.render(doc, style=\"dep\", page=True)\n",
    "    html = (\n",
    "        \"<div style='max-width:100%; max-height:360px; overflow:auto'>\"\n",
    "        + html\n",
    "        + \"</div>\"\n",
    "    )\n",
    "    pos_count = {\n",
    "        \"char_count\": len(text),\n",
    "        \"token_count\": 0,\n",
    "    }\n",
    "    pos_tokens = []\n",
    "\n",
    "    for token in doc:\n",
    "        pos_tokens.extend([(token.text, token.pos_), (\" \", None)])\n",
    "\n",
    "    return pos_tokens, pos_count, html\n",
    "\n",
    "demo = gr.Interface(\n",
    "    text_analysis,\n",
    "    gr.Textbox(placeholder=\"Enter sentence here...\"),\n",
    "    [\"highlight\", \"json\", \"html\"],\n",
    "    examples=[\n",
    "        [\"What a beautiful morning for a walk!\"],\n",
    "        [\"It was the best of times, it was the worst of times.\"],\n",
    "    ],\n",
    ")\n",
    "\n",
    "demo.launch(inline=False, share=False, server_name=\"0.0.0.0\")"
   ]
  },
  {
   "cell_type": "code",
   "execution_count": 9,
   "id": "f0b3a903-4c07-49cd-8e76-e6f7c26476d6",
   "metadata": {
    "execution": {
     "iopub.execute_input": "2024-10-07T23:23:56.332792Z",
     "iopub.status.busy": "2024-10-07T23:23:56.332233Z",
     "iopub.status.idle": "2024-10-07T23:23:56.338083Z",
     "shell.execute_reply": "2024-10-07T23:23:56.337521Z",
     "shell.execute_reply.started": "2024-10-07T23:23:56.332753Z"
    },
    "tags": []
   },
   "outputs": [
    {
     "data": {
      "text/html": [
       "<a href=\"http://127.0.0.1:7860/\" target=\"_blank\">Click here to access the gradio app</a>"
      ],
      "text/plain": [
       "<IPython.core.display.HTML object>"
      ]
     },
     "metadata": {},
     "output_type": "display_data"
    }
   ],
   "source": [
    "from IPython.display import display, HTML\n",
    "\n",
    "display(HTML(f'<a href=\"http://127.0.0.1:7860/\" target=\"_blank\">Click here to access the gradio app</a>'))"
   ]
  },
  {
   "cell_type": "code",
   "execution_count": 11,
   "id": "208c1287-3c0e-4aea-b655-fe30d7453f3c",
   "metadata": {
    "execution": {
     "iopub.execute_input": "2024-10-07T23:25:27.994962Z",
     "iopub.status.busy": "2024-10-07T23:25:27.994062Z",
     "iopub.status.idle": "2024-10-07T23:25:28.177336Z",
     "shell.execute_reply": "2024-10-07T23:25:28.176233Z",
     "shell.execute_reply.started": "2024-10-07T23:25:27.994916Z"
    },
    "tags": []
   },
   "outputs": [
    {
     "name": "stdout",
     "output_type": "stream",
     "text": [
      "Closing server running on port: 7860\n"
     ]
    }
   ],
   "source": [
    "demo.close()"
   ]
  },
  {
   "cell_type": "code",
   "execution_count": null,
   "id": "be3f952c-6c29-4036-bbfc-09147e521f80",
   "metadata": {},
   "outputs": [],
   "source": []
  }
 ],
 "metadata": {
  "kernelspec": {
   "display_name": "wordslab-notebooks-tutorials",
   "language": "python",
   "name": "wordslab-notebooks-tutorials"
  },
  "language_info": {
   "codemirror_mode": {
    "name": "ipython",
    "version": 3
   },
   "file_extension": ".py",
   "mimetype": "text/x-python",
   "name": "python",
   "nbconvert_exporter": "python",
   "pygments_lexer": "ipython3",
   "version": "3.12.7"
  }
 },
 "nbformat": 4,
 "nbformat_minor": 5
}
