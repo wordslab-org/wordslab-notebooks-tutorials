{
 "cells": [
  {
   "cell_type": "markdown",
   "id": "9e9b40a5-7d43-4a35-bfa0-037aa2fcd69f",
   "metadata": {},
   "source": [
    "# 02 - Software"
   ]
  },
  {
   "cell_type": "markdown",
   "id": "03a60ba2-23a5-4831-b5f6-9700d3ceb279",
   "metadata": {},
   "source": [
    "## Python packages"
   ]
  },
  {
   "cell_type": "code",
   "execution_count": 1,
   "id": "5c2aa311-5c7b-42b0-bebc-aad0c1c4552c",
   "metadata": {
    "execution": {
     "iopub.execute_input": "2024-10-07T23:08:25.414420Z",
     "iopub.status.busy": "2024-10-07T23:08:25.413708Z",
     "iopub.status.idle": "2024-10-07T23:08:25.421201Z",
     "shell.execute_reply": "2024-10-07T23:08:25.420359Z",
     "shell.execute_reply.started": "2024-10-07T23:08:25.414371Z"
    },
    "tags": []
   },
   "outputs": [],
   "source": [
    "import importlib.metadata"
   ]
  },
  {
   "cell_type": "markdown",
   "id": "5920ae9f-75e5-4908-b370-104b9bee3427",
   "metadata": {
    "execution": {
     "iopub.execute_input": "2023-09-16T12:52:25.153002Z",
     "iopub.status.busy": "2023-09-16T12:52:25.152040Z",
     "iopub.status.idle": "2023-09-16T12:52:25.165138Z",
     "shell.execute_reply": "2023-09-16T12:52:25.163485Z",
     "shell.execute_reply.started": "2023-09-16T12:52:25.152853Z"
    },
    "tags": []
   },
   "source": [
    "### Python runtime & utilities"
   ]
  },
  {
   "cell_type": "markdown",
   "id": "6911e59e-9f74-43a6-882a-c163097309c1",
   "metadata": {},
   "source": [
    "**python**\n",
    "\n",
    "Python is a programming language that lets you work quickly and integrate systems more effectively.\n",
    "\n",
    "https://www.python.org/"
   ]
  },
  {
   "cell_type": "code",
   "execution_count": 2,
   "id": "270d7504-96bc-4804-97f2-2ff236feadb8",
   "metadata": {
    "execution": {
     "iopub.execute_input": "2024-10-07T23:08:27.729833Z",
     "iopub.status.busy": "2024-10-07T23:08:27.729521Z",
     "iopub.status.idle": "2024-10-07T23:08:27.878175Z",
     "shell.execute_reply": "2024-10-07T23:08:27.876286Z",
     "shell.execute_reply.started": "2024-10-07T23:08:27.729810Z"
    },
    "tags": []
   },
   "outputs": [
    {
     "name": "stdout",
     "output_type": "stream",
     "text": [
      "Python 3.12.7\n"
     ]
    }
   ],
   "source": [
    "!python --version"
   ]
  },
  {
   "cell_type": "markdown",
   "id": "3b0c1068-de53-465d-9485-dd6947f66a5a",
   "metadata": {},
   "source": [
    "**ipython**\n",
    "\n",
    "IPython provides a rich toolkit to help you make the most out of using Python interactively.\n",
    "\n",
    "https://ipython.org/"
   ]
  },
  {
   "cell_type": "code",
   "execution_count": 3,
   "id": "c34cc6d1-639d-4ce4-84ea-8b1c1c3ec676",
   "metadata": {
    "execution": {
     "iopub.execute_input": "2024-10-07T23:08:30.731340Z",
     "iopub.status.busy": "2024-10-07T23:08:30.730976Z",
     "iopub.status.idle": "2024-10-07T23:08:30.755444Z",
     "shell.execute_reply": "2024-10-07T23:08:30.754707Z",
     "shell.execute_reply.started": "2024-10-07T23:08:30.731314Z"
    },
    "tags": []
   },
   "outputs": [
    {
     "data": {
      "text/plain": [
       "'8.28.0'"
      ]
     },
     "execution_count": 3,
     "metadata": {},
     "output_type": "execute_result"
    }
   ],
   "source": [
    "importlib.metadata.version('ipython')"
   ]
  },
  {
   "cell_type": "markdown",
   "id": "baf32ae3-fdb1-42fe-8ea5-bbfa4ddebbc1",
   "metadata": {},
   "source": [
    "**pip**\n",
    "\n",
    "pip is the package installer for Python. You can use pip to install packages from the Python Package Index and other indexes.\n",
    "\n",
    "https://pip.pypa.io/"
   ]
  },
  {
   "cell_type": "code",
   "execution_count": 4,
   "id": "2e1fc1c1-8569-48c2-9d0e-9babdc790782",
   "metadata": {
    "execution": {
     "iopub.execute_input": "2024-10-07T23:08:35.781307Z",
     "iopub.status.busy": "2024-10-07T23:08:35.780239Z",
     "iopub.status.idle": "2024-10-07T23:08:35.797504Z",
     "shell.execute_reply": "2024-10-07T23:08:35.796770Z",
     "shell.execute_reply.started": "2024-10-07T23:08:35.781271Z"
    },
    "tags": []
   },
   "outputs": [
    {
     "data": {
      "text/plain": [
       "'24.2'"
      ]
     },
     "execution_count": 4,
     "metadata": {},
     "output_type": "execute_result"
    }
   ],
   "source": [
    "importlib.metadata.version('pip')"
   ]
  },
  {
   "cell_type": "markdown",
   "id": "d936d46d-8583-4004-81c5-ec23d83d8512",
   "metadata": {},
   "source": [
    "**Pillow**\n",
    "\n",
    "Python Imaging Library (Fork).\n",
    "\n",
    "https://pillow.readthedocs.io/"
   ]
  },
  {
   "cell_type": "code",
   "execution_count": 5,
   "id": "b84f6a66-890c-40fc-9ddb-a7b2c47f3307",
   "metadata": {
    "execution": {
     "iopub.execute_input": "2024-10-07T23:08:57.187158Z",
     "iopub.status.busy": "2024-10-07T23:08:57.186281Z",
     "iopub.status.idle": "2024-10-07T23:08:57.204180Z",
     "shell.execute_reply": "2024-10-07T23:08:57.203483Z",
     "shell.execute_reply.started": "2024-10-07T23:08:57.187129Z"
    },
    "tags": []
   },
   "outputs": [
    {
     "data": {
      "text/plain": [
       "'10.4.0'"
      ]
     },
     "execution_count": 5,
     "metadata": {},
     "output_type": "execute_result"
    }
   ],
   "source": [
    "importlib.metadata.version('Pillow')"
   ]
  },
  {
   "cell_type": "markdown",
   "id": "8bf93a6f-3f79-45b5-9ee7-2a0409442782",
   "metadata": {},
   "source": [
    "### Data analysis"
   ]
  },
  {
   "cell_type": "markdown",
   "id": "876fa6c9-30d0-4617-b82c-b0ca9d6a89fa",
   "metadata": {
    "execution": {
     "iopub.execute_input": "2023-09-16T13:00:37.723742Z",
     "iopub.status.busy": "2023-09-16T13:00:37.723472Z",
     "iopub.status.idle": "2023-09-16T13:00:37.730043Z",
     "shell.execute_reply": "2023-09-16T13:00:37.728896Z",
     "shell.execute_reply.started": "2023-09-16T13:00:37.723723Z"
    },
    "tags": []
   },
   "source": [
    "**pandas**\n",
    "\n",
    "pandas is a Python package that provides fast, flexible, and expressive data structures designed to make working with \"relational\" or \"labeled\" data both easy and intuitive. \n",
    "\n",
    "https://pandas.pydata.org/docs/"
   ]
  },
  {
   "cell_type": "code",
   "execution_count": 6,
   "id": "4283d63a-7882-4d8c-bdb4-bb096326f09e",
   "metadata": {
    "execution": {
     "iopub.execute_input": "2024-10-07T23:08:59.714319Z",
     "iopub.status.busy": "2024-10-07T23:08:59.713917Z",
     "iopub.status.idle": "2024-10-07T23:08:59.731864Z",
     "shell.execute_reply": "2024-10-07T23:08:59.731370Z",
     "shell.execute_reply.started": "2024-10-07T23:08:59.714292Z"
    },
    "tags": []
   },
   "outputs": [
    {
     "data": {
      "text/plain": [
       "'2.2.3'"
      ]
     },
     "execution_count": 6,
     "metadata": {},
     "output_type": "execute_result"
    }
   ],
   "source": [
    "importlib.metadata.version('pandas')"
   ]
  },
  {
   "cell_type": "markdown",
   "id": "dd812ebd-9cb2-4c68-a591-4fca792082e0",
   "metadata": {},
   "source": [
    "**Matplotlib**\n",
    "\n",
    "Matplotlib is a comprehensive library for creating static, animated, and interactive visualizations in Python.\n",
    "\n",
    "https://matplotlib.org/"
   ]
  },
  {
   "cell_type": "code",
   "execution_count": 7,
   "id": "d88fef64-de02-47b0-ad3e-6af64baba7f7",
   "metadata": {
    "execution": {
     "iopub.execute_input": "2024-10-07T23:09:01.034643Z",
     "iopub.status.busy": "2024-10-07T23:09:01.034291Z",
     "iopub.status.idle": "2024-10-07T23:09:01.054581Z",
     "shell.execute_reply": "2024-10-07T23:09:01.053879Z",
     "shell.execute_reply.started": "2024-10-07T23:09:01.034622Z"
    },
    "tags": []
   },
   "outputs": [
    {
     "data": {
      "text/plain": [
       "'3.9.2'"
      ]
     },
     "execution_count": 7,
     "metadata": {},
     "output_type": "execute_result"
    }
   ],
   "source": [
    "importlib.metadata.version('matplotlib')"
   ]
  },
  {
   "cell_type": "markdown",
   "id": "4a2c2f8e-da55-461c-9df1-0dc5850b227f",
   "metadata": {},
   "source": [
    "### Machine learning"
   ]
  },
  {
   "cell_type": "markdown",
   "id": "a7577a43-6e21-46c9-8066-c18531cd03ad",
   "metadata": {},
   "source": [
    "**NumPy**\n",
    "\n",
    "NumPy is the fundamental package for scientific computing with Python.\n",
    "\n",
    "https://numpy.org/doc/1.26"
   ]
  },
  {
   "cell_type": "code",
   "execution_count": 8,
   "id": "5cc6d0e1-646c-4502-862a-713c0d84065d",
   "metadata": {
    "execution": {
     "iopub.execute_input": "2024-10-07T23:09:03.288745Z",
     "iopub.status.busy": "2024-10-07T23:09:03.288323Z",
     "iopub.status.idle": "2024-10-07T23:09:03.300005Z",
     "shell.execute_reply": "2024-10-07T23:09:03.299151Z",
     "shell.execute_reply.started": "2024-10-07T23:09:03.288719Z"
    },
    "tags": []
   },
   "outputs": [
    {
     "data": {
      "text/plain": [
       "'2.1.2'"
      ]
     },
     "execution_count": 8,
     "metadata": {},
     "output_type": "execute_result"
    }
   ],
   "source": [
    "importlib.metadata.version('numpy')"
   ]
  },
  {
   "cell_type": "markdown",
   "id": "3f3b3329-d27d-4745-b280-5e273b68a2cf",
   "metadata": {},
   "source": [
    "**scikit-learn**\n",
    "\n",
    "scikit-learn is a Python module for machine learning built on top of SciPy.\n",
    "\n",
    "https://scikit-learn.org/stable/documentation.html"
   ]
  },
  {
   "cell_type": "code",
   "execution_count": 9,
   "id": "87a0e73a-3064-461e-aaaf-2e4c99bee11f",
   "metadata": {
    "execution": {
     "iopub.execute_input": "2024-10-07T23:09:05.422910Z",
     "iopub.status.busy": "2024-10-07T23:09:05.422571Z",
     "iopub.status.idle": "2024-10-07T23:09:05.442019Z",
     "shell.execute_reply": "2024-10-07T23:09:05.441158Z",
     "shell.execute_reply.started": "2024-10-07T23:09:05.422891Z"
    },
    "tags": []
   },
   "outputs": [
    {
     "data": {
      "text/plain": [
       "'1.5.2'"
      ]
     },
     "execution_count": 9,
     "metadata": {},
     "output_type": "execute_result"
    }
   ],
   "source": [
    "importlib.metadata.version('scikit-learn')"
   ]
  },
  {
   "cell_type": "markdown",
   "id": "04846f94-6c97-477c-8206-7b86f8f83f1d",
   "metadata": {},
   "source": [
    "**SciPy**\n",
    "\n",
    "SciPy (pronounced “Sigh Pie”) is an open-source software for mathematics, science, and engineering. It includes modules for statistics, optimization, integration, linear algebra, Fourier transforms, signal and image processing, ODE solvers, and more.\n",
    "\n",
    "https://docs.scipy.org/doc/scipy/"
   ]
  },
  {
   "cell_type": "code",
   "execution_count": 10,
   "id": "81b40b9e-585d-4fba-aee6-22aba37c4740",
   "metadata": {
    "execution": {
     "iopub.execute_input": "2024-10-07T23:09:06.953610Z",
     "iopub.status.busy": "2024-10-07T23:09:06.953284Z",
     "iopub.status.idle": "2024-10-07T23:09:06.971696Z",
     "shell.execute_reply": "2024-10-07T23:09:06.970987Z",
     "shell.execute_reply.started": "2024-10-07T23:09:06.953590Z"
    },
    "tags": []
   },
   "outputs": [
    {
     "data": {
      "text/plain": [
       "'1.14.1'"
      ]
     },
     "execution_count": 10,
     "metadata": {},
     "output_type": "execute_result"
    }
   ],
   "source": [
    "importlib.metadata.version('scipy')"
   ]
  },
  {
   "cell_type": "markdown",
   "id": "aff4a17f-b62c-4a25-bd14-fca9bd704146",
   "metadata": {
    "execution": {
     "iopub.execute_input": "2024-06-08T18:00:25.541767Z",
     "iopub.status.busy": "2024-06-08T18:00:25.541579Z",
     "iopub.status.idle": "2024-06-08T18:00:25.546212Z",
     "shell.execute_reply": "2024-06-08T18:00:25.545669Z",
     "shell.execute_reply.started": "2024-06-08T18:00:25.541749Z"
    }
   },
   "source": [
    "### Deep learning"
   ]
  },
  {
   "cell_type": "markdown",
   "id": "1569d9d0-c573-4678-8f21-e5189c2fa504",
   "metadata": {},
   "source": [
    "**PyTorch**\n",
    "\n",
    "PyTorch is a Python package that provides two high-level features: Tensor computation (like NumPy) with strong GPU acceleration, Deep neural networks built on a tape-based autograd system.\n",
    "\n",
    "https://pytorch.org/"
   ]
  },
  {
   "cell_type": "code",
   "execution_count": 11,
   "id": "526e6c11-d129-48b3-9e6b-dbbbd63556fa",
   "metadata": {
    "execution": {
     "iopub.execute_input": "2024-10-07T23:09:08.737047Z",
     "iopub.status.busy": "2024-10-07T23:09:08.736736Z",
     "iopub.status.idle": "2024-10-07T23:09:08.748949Z",
     "shell.execute_reply": "2024-10-07T23:09:08.747866Z",
     "shell.execute_reply.started": "2024-10-07T23:09:08.737026Z"
    },
    "tags": []
   },
   "outputs": [
    {
     "data": {
      "text/plain": [
       "'2.4.0'"
      ]
     },
     "execution_count": 11,
     "metadata": {},
     "output_type": "execute_result"
    }
   ],
   "source": [
    "importlib.metadata.version('torch')"
   ]
  },
  {
   "cell_type": "markdown",
   "id": "7944590e-2154-42ab-ac8f-192ba1abf4c1",
   "metadata": {},
   "source": [
    "**torchvision**\n",
    "\n",
    "The torchvision package consists of popular datasets, model architectures, and common image transformations for computer vision.\n",
    "\n",
    "https://github.com/pytorch/vision"
   ]
  },
  {
   "cell_type": "code",
   "execution_count": 12,
   "id": "7abaac97-a229-4ac2-bbe4-d683f2eacf99",
   "metadata": {
    "execution": {
     "iopub.execute_input": "2024-10-07T23:09:10.100368Z",
     "iopub.status.busy": "2024-10-07T23:09:10.100045Z",
     "iopub.status.idle": "2024-10-07T23:09:10.110203Z",
     "shell.execute_reply": "2024-10-07T23:09:10.109244Z",
     "shell.execute_reply.started": "2024-10-07T23:09:10.100347Z"
    },
    "tags": []
   },
   "outputs": [
    {
     "data": {
      "text/plain": [
       "'0.19.0'"
      ]
     },
     "execution_count": 12,
     "metadata": {},
     "output_type": "execute_result"
    }
   ],
   "source": [
    "importlib.metadata.version('torchvision')"
   ]
  },
  {
   "cell_type": "markdown",
   "id": "9d15680d-68f5-4a64-92cf-aa01f0ab396b",
   "metadata": {},
   "source": [
    "**torchaudio**\n",
    "\n",
    "The aim of torchaudio is to apply PyTorch to the audio domain.\n",
    "\n",
    "https://github.com/pytorch/audio"
   ]
  },
  {
   "cell_type": "code",
   "execution_count": 13,
   "id": "b4ef7e05-452e-4193-949e-4f889f4d0ec6",
   "metadata": {
    "execution": {
     "iopub.execute_input": "2024-10-07T23:09:11.731947Z",
     "iopub.status.busy": "2024-10-07T23:09:11.731621Z",
     "iopub.status.idle": "2024-10-07T23:09:11.742033Z",
     "shell.execute_reply": "2024-10-07T23:09:11.741185Z",
     "shell.execute_reply.started": "2024-10-07T23:09:11.731926Z"
    }
   },
   "outputs": [
    {
     "data": {
      "text/plain": [
       "'2.4.0'"
      ]
     },
     "execution_count": 13,
     "metadata": {},
     "output_type": "execute_result"
    }
   ],
   "source": [
    "importlib.metadata.version('torchaudio')"
   ]
  },
  {
   "cell_type": "markdown",
   "id": "cf14d928-6c55-477b-b656-422e7403b658",
   "metadata": {},
   "source": [
    "### Requests & Web scraping"
   ]
  },
  {
   "cell_type": "markdown",
   "id": "4c4ba87a-cec7-4c19-a5ee-6c2f16862570",
   "metadata": {},
   "source": [
    "**requests**\n",
    "\n",
    "Requests allows you to send HTTP/1.1 requests extremely easily. \n",
    "\n",
    "https://requests.readthedocs.io/"
   ]
  },
  {
   "cell_type": "code",
   "execution_count": 14,
   "id": "5916b2bc-2bf4-44b4-bedd-f76bd44c995f",
   "metadata": {
    "execution": {
     "iopub.execute_input": "2024-10-07T23:09:13.585890Z",
     "iopub.status.busy": "2024-10-07T23:09:13.585573Z",
     "iopub.status.idle": "2024-10-07T23:09:13.596635Z",
     "shell.execute_reply": "2024-10-07T23:09:13.595844Z",
     "shell.execute_reply.started": "2024-10-07T23:09:13.585869Z"
    },
    "tags": []
   },
   "outputs": [
    {
     "data": {
      "text/plain": [
       "'2.32.3'"
      ]
     },
     "execution_count": 14,
     "metadata": {},
     "output_type": "execute_result"
    }
   ],
   "source": [
    "importlib.metadata.version('requests')"
   ]
  },
  {
   "cell_type": "markdown",
   "id": "0ed4cd6a-20ed-49af-b989-85b50c123b4d",
   "metadata": {},
   "source": [
    "**urllib3**\n",
    "\n",
    "urllib3 is a powerful, user-friendly HTTP client for Python. Much of the Python ecosystem already uses urllib3 and you should too. urllib3 brings many critical features that are missing from the Python standard libraries.\n",
    "\n",
    "https://urllib3.readthedocs.io/"
   ]
  },
  {
   "cell_type": "code",
   "execution_count": 15,
   "id": "fac1ec89-27a3-4359-94c4-fa240555eab3",
   "metadata": {
    "execution": {
     "iopub.execute_input": "2024-10-07T23:09:15.261320Z",
     "iopub.status.busy": "2024-10-07T23:09:15.260954Z",
     "iopub.status.idle": "2024-10-07T23:09:15.279066Z",
     "shell.execute_reply": "2024-10-07T23:09:15.278390Z",
     "shell.execute_reply.started": "2024-10-07T23:09:15.261294Z"
    },
    "tags": []
   },
   "outputs": [
    {
     "data": {
      "text/plain": [
       "'2.2.3'"
      ]
     },
     "execution_count": 15,
     "metadata": {},
     "output_type": "execute_result"
    }
   ],
   "source": [
    "importlib.metadata.version('urllib3')"
   ]
  },
  {
   "cell_type": "markdown",
   "id": "20594c0e-c543-4ee5-95f1-7aaee5c09b90",
   "metadata": {},
   "source": [
    "**Beautiful Soup**\n",
    "\n",
    "Beautiful Soup is a library that makes it easy to scrape information from web pages.\n",
    "\n",
    "https://www.crummy.com/software/BeautifulSoup/"
   ]
  },
  {
   "cell_type": "code",
   "execution_count": 16,
   "id": "c2528659-56ca-4206-9afb-5948beb1e65b",
   "metadata": {
    "execution": {
     "iopub.execute_input": "2024-10-07T23:09:16.350296Z",
     "iopub.status.busy": "2024-10-07T23:09:16.349941Z",
     "iopub.status.idle": "2024-10-07T23:09:16.359835Z",
     "shell.execute_reply": "2024-10-07T23:09:16.358993Z",
     "shell.execute_reply.started": "2024-10-07T23:09:16.350275Z"
    },
    "tags": []
   },
   "outputs": [
    {
     "data": {
      "text/plain": [
       "'4.12.3'"
      ]
     },
     "execution_count": 16,
     "metadata": {},
     "output_type": "execute_result"
    }
   ],
   "source": [
    "importlib.metadata.version('beautifulsoup4')"
   ]
  },
  {
   "cell_type": "markdown",
   "id": "00ebcb49-ab8b-446a-9c19-0afc163f0314",
   "metadata": {},
   "source": [
    "**Soup Sieve**\n",
    "\n",
    "Soup Sieve is a CSS selector library designed to be used with Beautiful Soup 4. It aims to provide selecting, matching, and filtering using modern CSS selectors. \n",
    "\n",
    "https://github.com/facelessuser/soupsieve"
   ]
  },
  {
   "cell_type": "code",
   "execution_count": 17,
   "id": "ac5416b4-5b8e-4db2-bcd9-d8722f403ebb",
   "metadata": {
    "execution": {
     "iopub.execute_input": "2024-10-07T23:09:17.419052Z",
     "iopub.status.busy": "2024-10-07T23:09:17.418752Z",
     "iopub.status.idle": "2024-10-07T23:09:17.426219Z",
     "shell.execute_reply": "2024-10-07T23:09:17.425455Z",
     "shell.execute_reply.started": "2024-10-07T23:09:17.419033Z"
    },
    "tags": []
   },
   "outputs": [
    {
     "data": {
      "text/plain": [
       "'2.5'"
      ]
     },
     "execution_count": 17,
     "metadata": {},
     "output_type": "execute_result"
    }
   ],
   "source": [
    "importlib.metadata.version('soupsieve')"
   ]
  },
  {
   "cell_type": "markdown",
   "id": "cc8d1477-3a21-4bd0-96b6-f374d10c7d57",
   "metadata": {},
   "source": [
    "### Jupyterlab & extensions"
   ]
  },
  {
   "cell_type": "markdown",
   "id": "a623ae1d-8a1b-4c2d-8777-35d9e6bfa379",
   "metadata": {},
   "source": [
    "**jupyterlab**\n",
    "\n",
    "An extensible environment for interactive and reproducible computing, based on the Jupyter Notebook and Architecture.\n",
    "\n",
    "https://jupyterlab.readthedocs.io/"
   ]
  },
  {
   "cell_type": "code",
   "execution_count": 18,
   "id": "25c9b75e-4e55-4ab6-a0f6-5dd8e7d43d52",
   "metadata": {
    "execution": {
     "iopub.execute_input": "2024-10-07T23:09:19.692964Z",
     "iopub.status.busy": "2024-10-07T23:09:19.692657Z",
     "iopub.status.idle": "2024-10-07T23:09:19.712579Z",
     "shell.execute_reply": "2024-10-07T23:09:19.711372Z",
     "shell.execute_reply.started": "2024-10-07T23:09:19.692944Z"
    },
    "tags": []
   },
   "outputs": [
    {
     "data": {
      "text/plain": [
       "'4.2.5'"
      ]
     },
     "execution_count": 18,
     "metadata": {},
     "output_type": "execute_result"
    }
   ],
   "source": [
    "importlib.metadata.version('jupyterlab')"
   ]
  },
  {
   "cell_type": "markdown",
   "id": "ee56dfb1-e65c-47b2-befb-0278beee554f",
   "metadata": {},
   "source": [
    "**ipywidgets**\n",
    "\n",
    "ipywidgets, also known as jupyter-widgets or simply widgets, are interactive HTML widgets for Jupyter notebooks and the IPython kernel.\n",
    "\n",
    "http://jupyter.org/"
   ]
  },
  {
   "cell_type": "code",
   "execution_count": 19,
   "id": "cf07f05c-35a0-433e-adf2-b1ae423dfd38",
   "metadata": {
    "execution": {
     "iopub.execute_input": "2024-10-07T23:09:20.825385Z",
     "iopub.status.busy": "2024-10-07T23:09:20.824938Z",
     "iopub.status.idle": "2024-10-07T23:09:20.835929Z",
     "shell.execute_reply": "2024-10-07T23:09:20.835162Z",
     "shell.execute_reply.started": "2024-10-07T23:09:20.825358Z"
    },
    "tags": []
   },
   "outputs": [
    {
     "data": {
      "text/plain": [
       "'8.1.5'"
      ]
     },
     "execution_count": 19,
     "metadata": {},
     "output_type": "execute_result"
    }
   ],
   "source": [
    "importlib.metadata.version('ipywidgets')"
   ]
  },
  {
   "cell_type": "markdown",
   "id": "f200043d-0206-4c00-b42c-51dbbd2fbc8a",
   "metadata": {},
   "source": [
    "**jupyterlab-execute-time**\n",
    "\n",
    "Display cell timings in Jupyter Lab.\n",
    "\n",
    "https://github.com/deshaw/jupyterlab-execute-time"
   ]
  },
  {
   "cell_type": "code",
   "execution_count": 20,
   "id": "fb6f592b-71f2-473f-be7a-a9cb438ab276",
   "metadata": {
    "execution": {
     "iopub.execute_input": "2024-10-07T23:09:21.870804Z",
     "iopub.status.busy": "2024-10-07T23:09:21.870438Z",
     "iopub.status.idle": "2024-10-07T23:09:21.877916Z",
     "shell.execute_reply": "2024-10-07T23:09:21.877184Z",
     "shell.execute_reply.started": "2024-10-07T23:09:21.870782Z"
    },
    "tags": []
   },
   "outputs": [
    {
     "data": {
      "text/plain": [
       "'3.2.0'"
      ]
     },
     "execution_count": 20,
     "metadata": {},
     "output_type": "execute_result"
    }
   ],
   "source": [
    "importlib.metadata.version('jupyterlab-execute-time')"
   ]
  },
  {
   "cell_type": "markdown",
   "id": "32aca234-4ee2-4319-8bc1-17bf2ded5181",
   "metadata": {},
   "source": [
    "**jupyterlab_git**\n",
    "\n",
    "A JupyterLab extension for version control using Git.\n",
    "\n",
    "https://github.com/jupyterlab/jupyterlab-git"
   ]
  },
  {
   "cell_type": "code",
   "execution_count": 21,
   "id": "79c5ecd1-4806-435c-95b0-b7d3a4f7df91",
   "metadata": {
    "execution": {
     "iopub.execute_input": "2024-10-07T23:09:23.321062Z",
     "iopub.status.busy": "2024-10-07T23:09:23.320705Z",
     "iopub.status.idle": "2024-10-07T23:09:23.338460Z",
     "shell.execute_reply": "2024-10-07T23:09:23.337763Z",
     "shell.execute_reply.started": "2024-10-07T23:09:23.321036Z"
    },
    "tags": []
   },
   "outputs": [
    {
     "data": {
      "text/plain": [
       "'0.50.1'"
      ]
     },
     "execution_count": 21,
     "metadata": {},
     "output_type": "execute_result"
    }
   ],
   "source": [
    "importlib.metadata.version('jupyterlab-git')"
   ]
  },
  {
   "cell_type": "markdown",
   "id": "783613d1-e788-4d04-b9e2-93c92796d76e",
   "metadata": {},
   "source": [
    "**jupyterlab-nvdashboard**\n",
    "\n",
    "A JupyterLab extension for displaying GPU usage dashboards.\n",
    "\n",
    "https://github.com/rapidsai/jupyterlab-nvdashboard"
   ]
  },
  {
   "cell_type": "code",
   "execution_count": 22,
   "id": "c02eefac-a6cf-45c2-9d63-18b635669796",
   "metadata": {
    "execution": {
     "iopub.execute_input": "2024-10-07T23:09:24.291335Z",
     "iopub.status.busy": "2024-10-07T23:09:24.290961Z",
     "iopub.status.idle": "2024-10-07T23:09:24.298192Z",
     "shell.execute_reply": "2024-10-07T23:09:24.297347Z",
     "shell.execute_reply.started": "2024-10-07T23:09:24.291309Z"
    },
    "tags": []
   },
   "outputs": [
    {
     "data": {
      "text/plain": [
       "'0.11.0'"
      ]
     },
     "execution_count": 22,
     "metadata": {},
     "output_type": "execute_result"
    }
   ],
   "source": [
    "importlib.metadata.version('jupyterlab-nvdashboard')"
   ]
  },
  {
   "cell_type": "markdown",
   "id": "354e02ab-5680-4494-9ee6-70121d1eeb46",
   "metadata": {},
   "source": [
    "**ipympl**\n",
    "\n",
    "Matplotlib Jupyter Extension.\n",
    "\n",
    "http://matplotlib.org/"
   ]
  },
  {
   "cell_type": "code",
   "execution_count": 23,
   "id": "53587c8d-7ab2-4f20-aedb-4c2747f07499",
   "metadata": {
    "execution": {
     "iopub.execute_input": "2024-10-07T23:09:25.292795Z",
     "iopub.status.busy": "2024-10-07T23:09:25.292291Z",
     "iopub.status.idle": "2024-10-07T23:09:25.310558Z",
     "shell.execute_reply": "2024-10-07T23:09:25.309779Z",
     "shell.execute_reply.started": "2024-10-07T23:09:25.292766Z"
    },
    "tags": []
   },
   "outputs": [
    {
     "data": {
      "text/plain": [
       "'0.9.4'"
      ]
     },
     "execution_count": 23,
     "metadata": {},
     "output_type": "execute_result"
    }
   ],
   "source": [
    "importlib.metadata.version('ipympl')"
   ]
  },
  {
   "cell_type": "markdown",
   "id": "864c1a17-d239-47b9-adcf-80e792de0574",
   "metadata": {},
   "source": [
    "### Performance monitoring"
   ]
  },
  {
   "cell_type": "markdown",
   "id": "11cf3f95-ce33-4224-8207-d5b0b9ce86c5",
   "metadata": {},
   "source": [
    "**psutil**\n",
    "\n",
    "Cross-platform lib for process and system monitoring in Python.\n",
    "\n",
    "https://github.com/giampaolo/psutil"
   ]
  },
  {
   "cell_type": "code",
   "execution_count": 24,
   "id": "71251021-3258-474d-8ed0-74da81ab06d0",
   "metadata": {
    "execution": {
     "iopub.execute_input": "2024-10-07T23:09:28.322124Z",
     "iopub.status.busy": "2024-10-07T23:09:28.321791Z",
     "iopub.status.idle": "2024-10-07T23:09:28.330601Z",
     "shell.execute_reply": "2024-10-07T23:09:28.329780Z",
     "shell.execute_reply.started": "2024-10-07T23:09:28.322104Z"
    },
    "tags": []
   },
   "outputs": [
    {
     "data": {
      "text/plain": [
       "'6.0.0'"
      ]
     },
     "execution_count": 24,
     "metadata": {},
     "output_type": "execute_result"
    }
   ],
   "source": [
    "importlib.metadata.version('psutil')"
   ]
  },
  {
   "cell_type": "markdown",
   "id": "1b58d398-ac41-4443-9ed2-6af5c63f5195",
   "metadata": {},
   "source": [
    "**pynvml**\n",
    "\n",
    "Provides a Python interface to GPU management and monitoring functions. This is a wrapper around the NVML library.\n",
    "\n",
    "http://developer.nvidia.com/nvidia-management-library-nvml"
   ]
  },
  {
   "cell_type": "code",
   "execution_count": 25,
   "id": "0eeef6bc-dd1b-4d13-af68-ba33857f93d4",
   "metadata": {
    "execution": {
     "iopub.execute_input": "2024-10-07T23:09:30.126699Z",
     "iopub.status.busy": "2024-10-07T23:09:30.126366Z",
     "iopub.status.idle": "2024-10-07T23:09:30.135397Z",
     "shell.execute_reply": "2024-10-07T23:09:30.134677Z",
     "shell.execute_reply.started": "2024-10-07T23:09:30.126677Z"
    },
    "tags": []
   },
   "outputs": [
    {
     "data": {
      "text/plain": [
       "'11.5.3'"
      ]
     },
     "execution_count": 25,
     "metadata": {},
     "output_type": "execute_result"
    }
   ],
   "source": [
    "importlib.metadata.version('pynvml')"
   ]
  },
  {
   "cell_type": "markdown",
   "id": "790740e8-fb25-41c6-96a9-02349144129b",
   "metadata": {},
   "source": [
    "**prometheus-client**\n",
    "\n",
    "Python client for the Prometheus monitoring system.\n",
    "\n",
    "https://github.com/prometheus/client_python"
   ]
  },
  {
   "cell_type": "code",
   "execution_count": 26,
   "id": "0b5f4c5f-3c6b-4907-a5a4-a7911a102774",
   "metadata": {
    "execution": {
     "iopub.execute_input": "2024-10-07T23:09:31.650074Z",
     "iopub.status.busy": "2024-10-07T23:09:31.649768Z",
     "iopub.status.idle": "2024-10-07T23:09:31.658473Z",
     "shell.execute_reply": "2024-10-07T23:09:31.657776Z",
     "shell.execute_reply.started": "2024-10-07T23:09:31.650053Z"
    },
    "tags": []
   },
   "outputs": [
    {
     "data": {
      "text/plain": [
       "'0.21.0'"
      ]
     },
     "execution_count": 26,
     "metadata": {},
     "output_type": "execute_result"
    }
   ],
   "source": [
    "importlib.metadata.version('prometheus-client')"
   ]
  },
  {
   "cell_type": "markdown",
   "id": "f37d727f-2acf-4238-a318-8995d4fe86e9",
   "metadata": {},
   "source": [
    "### Files & notebooks versioning"
   ]
  },
  {
   "cell_type": "markdown",
   "id": "e1525b6c-ce08-4347-a661-d852ccca0c76",
   "metadata": {},
   "source": [
    "**GitPython**\n",
    "\n",
    "GitPython is a python library used to interact with git repositories.\n",
    "\n",
    "https://github.com/gitpython-developers/GitPython"
   ]
  },
  {
   "cell_type": "code",
   "execution_count": 27,
   "id": "218dd497-a3f4-4d78-ad96-40edc2af1878",
   "metadata": {
    "execution": {
     "iopub.execute_input": "2024-10-07T23:09:40.582175Z",
     "iopub.status.busy": "2024-10-07T23:09:40.581804Z",
     "iopub.status.idle": "2024-10-07T23:09:40.599255Z",
     "shell.execute_reply": "2024-10-07T23:09:40.598745Z",
     "shell.execute_reply.started": "2024-10-07T23:09:40.582148Z"
    },
    "tags": []
   },
   "outputs": [
    {
     "data": {
      "text/plain": [
       "'3.1.43'"
      ]
     },
     "execution_count": 27,
     "metadata": {},
     "output_type": "execute_result"
    }
   ],
   "source": [
    "importlib.metadata.version('GitPython')"
   ]
  },
  {
   "cell_type": "markdown",
   "id": "4387b042-6fec-4bcd-882d-825f2435d489",
   "metadata": {},
   "source": [
    "**nbdime**\n",
    "\n",
    "Diff and merge of Jupyter Notebooks.\n",
    "\n",
    "https://nbdime.readthedocs.io/"
   ]
  },
  {
   "cell_type": "code",
   "execution_count": 28,
   "id": "d69afe7c-17ef-4c22-9b7f-6f7a236fc1b1",
   "metadata": {
    "execution": {
     "iopub.execute_input": "2024-10-07T23:09:43.460401Z",
     "iopub.status.busy": "2024-10-07T23:09:43.459358Z",
     "iopub.status.idle": "2024-10-07T23:09:43.476610Z",
     "shell.execute_reply": "2024-10-07T23:09:43.476009Z",
     "shell.execute_reply.started": "2024-10-07T23:09:43.460363Z"
    },
    "tags": []
   },
   "outputs": [
    {
     "data": {
      "text/plain": [
       "'4.0.2'"
      ]
     },
     "execution_count": 28,
     "metadata": {},
     "output_type": "execute_result"
    }
   ],
   "source": [
    "importlib.metadata.version('nbdime')"
   ]
  },
  {
   "cell_type": "markdown",
   "id": "8bba67b4-dc94-4efa-ab8f-5c44153dd473",
   "metadata": {},
   "source": [
    "## Linux Packages"
   ]
  },
  {
   "cell_type": "markdown",
   "id": "612beba8-edf6-4600-a8a5-918c83c47ac0",
   "metadata": {},
   "source": [
    "### Operating system"
   ]
  },
  {
   "cell_type": "markdown",
   "id": "17b54d24-4421-4c1d-b4de-938a86be3fa3",
   "metadata": {},
   "source": [
    "**Linux distribution**"
   ]
  },
  {
   "cell_type": "code",
   "execution_count": 29,
   "id": "b4c1f09c-c6d1-4b8e-927b-35dd0f4cc3e2",
   "metadata": {
    "execution": {
     "iopub.execute_input": "2024-10-07T23:09:46.170619Z",
     "iopub.status.busy": "2024-10-07T23:09:46.170420Z",
     "iopub.status.idle": "2024-10-07T23:09:46.317604Z",
     "shell.execute_reply": "2024-10-07T23:09:46.315940Z",
     "shell.execute_reply.started": "2024-10-07T23:09:46.170606Z"
    },
    "tags": []
   },
   "outputs": [
    {
     "name": "stdout",
     "output_type": "stream",
     "text": [
      "DISTRIB_ID=Ubuntu\n",
      "DISTRIB_RELEASE=24.04\n",
      "DISTRIB_CODENAME=noble\n",
      "DISTRIB_DESCRIPTION=\"Ubuntu 24.04.1 LTS\"\n"
     ]
    }
   ],
   "source": [
    "!cat /etc/lsb-release"
   ]
  },
  {
   "cell_type": "markdown",
   "id": "332ffc88-7e4a-4eb2-8b85-b654b93c722a",
   "metadata": {},
   "source": [
    "### Programming languages"
   ]
  },
  {
   "cell_type": "markdown",
   "id": "aef6f5ce-4454-4dba-ac3e-07cf099c2eb7",
   "metadata": {},
   "source": [
    "**python3**"
   ]
  },
  {
   "cell_type": "code",
   "execution_count": 30,
   "id": "bdf4147c-38b2-43ca-add9-42a5b384f502",
   "metadata": {
    "execution": {
     "iopub.execute_input": "2024-10-07T23:09:48.384519Z",
     "iopub.status.busy": "2024-10-07T23:09:48.383340Z",
     "iopub.status.idle": "2024-10-07T23:09:48.525960Z",
     "shell.execute_reply": "2024-10-07T23:09:48.524302Z",
     "shell.execute_reply.started": "2024-10-07T23:09:48.384480Z"
    },
    "tags": []
   },
   "outputs": [
    {
     "name": "stdout",
     "output_type": "stream",
     "text": [
      "Version: 3.12.3-0ubuntu2\n"
     ]
    }
   ],
   "source": [
    "!dpkg -s python3 | grep Version"
   ]
  },
  {
   "cell_type": "markdown",
   "id": "eb475a05-24b0-4593-8bc2-fb9870f6ff3b",
   "metadata": {},
   "source": [
    "**gcc/g++**"
   ]
  },
  {
   "cell_type": "code",
   "execution_count": 31,
   "id": "3fa4d6b1-337f-4d5d-96b8-6bb5b5edc83a",
   "metadata": {
    "execution": {
     "iopub.execute_input": "2024-10-07T23:09:51.124427Z",
     "iopub.status.busy": "2024-10-07T23:09:51.123942Z",
     "iopub.status.idle": "2024-10-07T23:09:51.249432Z",
     "shell.execute_reply": "2024-10-07T23:09:51.247597Z",
     "shell.execute_reply.started": "2024-10-07T23:09:51.124391Z"
    },
    "tags": []
   },
   "outputs": [
    {
     "name": "stdout",
     "output_type": "stream",
     "text": [
      "Version: 4:13.2.0-7ubuntu1\n"
     ]
    }
   ],
   "source": [
    "!dpkg -s gcc | grep Version"
   ]
  },
  {
   "cell_type": "markdown",
   "id": "e0a244c0-4e39-4913-a9b3-d9f396df3bba",
   "metadata": {
    "execution": {
     "iopub.execute_input": "2023-09-16T13:31:27.540063Z",
     "iopub.status.busy": "2023-09-16T13:31:27.539502Z",
     "iopub.status.idle": "2023-09-16T13:31:27.543644Z",
     "shell.execute_reply": "2023-09-16T13:31:27.542842Z",
     "shell.execute_reply.started": "2023-09-16T13:31:27.540040Z"
    },
    "tags": []
   },
   "source": [
    "### Terminal & version control"
   ]
  },
  {
   "cell_type": "markdown",
   "id": "8322579c-9908-4ec1-9acd-268e06491d3a",
   "metadata": {},
   "source": [
    "**bash**"
   ]
  },
  {
   "cell_type": "code",
   "execution_count": 32,
   "id": "7698aab6-d8e7-4d2e-988f-e789a971e9ea",
   "metadata": {
    "execution": {
     "iopub.execute_input": "2024-10-07T23:09:53.755628Z",
     "iopub.status.busy": "2024-10-07T23:09:53.755238Z",
     "iopub.status.idle": "2024-10-07T23:09:53.878100Z",
     "shell.execute_reply": "2024-10-07T23:09:53.876467Z",
     "shell.execute_reply.started": "2024-10-07T23:09:53.755597Z"
    },
    "tags": []
   },
   "outputs": [
    {
     "name": "stdout",
     "output_type": "stream",
     "text": [
      "Version: 5.2.21-2ubuntu4\n"
     ]
    }
   ],
   "source": [
    "!dpkg -s bash | grep Version"
   ]
  },
  {
   "cell_type": "markdown",
   "id": "56fcc603-cb3a-4597-a255-fee79d57d8c4",
   "metadata": {},
   "source": [
    "**tmux**"
   ]
  },
  {
   "cell_type": "code",
   "execution_count": 33,
   "id": "7e6340c7-d177-4312-b007-58617843b55d",
   "metadata": {
    "execution": {
     "iopub.execute_input": "2024-10-07T23:09:55.424700Z",
     "iopub.status.busy": "2024-10-07T23:09:55.424370Z",
     "iopub.status.idle": "2024-10-07T23:09:55.546560Z",
     "shell.execute_reply": "2024-10-07T23:09:55.544454Z",
     "shell.execute_reply.started": "2024-10-07T23:09:55.424676Z"
    },
    "tags": []
   },
   "outputs": [
    {
     "name": "stdout",
     "output_type": "stream",
     "text": [
      "Version: 3.4-1ubuntu0.1\n"
     ]
    }
   ],
   "source": [
    "!dpkg -s tmux | grep Version"
   ]
  },
  {
   "cell_type": "markdown",
   "id": "133c4eef-69d6-4b28-8427-9b53ba8223e7",
   "metadata": {},
   "source": [
    "**git**"
   ]
  },
  {
   "cell_type": "code",
   "execution_count": 34,
   "id": "b8c08735-5102-4a80-919d-92004688ac0f",
   "metadata": {
    "execution": {
     "iopub.execute_input": "2024-10-07T23:09:56.464353Z",
     "iopub.status.busy": "2024-10-07T23:09:56.463360Z",
     "iopub.status.idle": "2024-10-07T23:09:56.580050Z",
     "shell.execute_reply": "2024-10-07T23:09:56.578781Z",
     "shell.execute_reply.started": "2024-10-07T23:09:56.464330Z"
    },
    "tags": []
   },
   "outputs": [
    {
     "name": "stdout",
     "output_type": "stream",
     "text": [
      "Version: 1:2.43.0-1ubuntu7.1\n"
     ]
    }
   ],
   "source": [
    "!dpkg -s git | grep Version"
   ]
  },
  {
   "cell_type": "markdown",
   "id": "396bcb8b-c0f4-4913-9ae2-4880fb98e127",
   "metadata": {},
   "source": [
    "### Files download"
   ]
  },
  {
   "cell_type": "markdown",
   "id": "5d140386-bad6-4032-8df7-1e3dd9c9f882",
   "metadata": {},
   "source": [
    "**curl**"
   ]
  },
  {
   "cell_type": "code",
   "execution_count": 35,
   "id": "7780a784-e35f-455f-9d71-b83cea035324",
   "metadata": {
    "execution": {
     "iopub.execute_input": "2024-10-07T23:09:58.744866Z",
     "iopub.status.busy": "2024-10-07T23:09:58.744533Z",
     "iopub.status.idle": "2024-10-07T23:09:58.863784Z",
     "shell.execute_reply": "2024-10-07T23:09:58.862691Z",
     "shell.execute_reply.started": "2024-10-07T23:09:58.744842Z"
    },
    "tags": []
   },
   "outputs": [
    {
     "name": "stdout",
     "output_type": "stream",
     "text": [
      "Version: 8.5.0-2ubuntu10.4\n"
     ]
    }
   ],
   "source": [
    "!dpkg -s curl | grep Version"
   ]
  },
  {
   "cell_type": "markdown",
   "id": "9d49612d-b9b4-4dca-b67b-07a865693884",
   "metadata": {},
   "source": [
    "**wget**"
   ]
  },
  {
   "cell_type": "code",
   "execution_count": 36,
   "id": "877a3c8d-544b-43cd-9a85-97922d624f03",
   "metadata": {
    "execution": {
     "iopub.execute_input": "2024-10-07T23:09:59.744328Z",
     "iopub.status.busy": "2024-10-07T23:09:59.743938Z",
     "iopub.status.idle": "2024-10-07T23:09:59.861556Z",
     "shell.execute_reply": "2024-10-07T23:09:59.859934Z",
     "shell.execute_reply.started": "2024-10-07T23:09:59.744294Z"
    },
    "tags": []
   },
   "outputs": [
    {
     "name": "stdout",
     "output_type": "stream",
     "text": [
      "Version: 1.21.4-1ubuntu4.1\n"
     ]
    }
   ],
   "source": [
    "!dpkg -s wget | grep Version"
   ]
  },
  {
   "cell_type": "markdown",
   "id": "1033a1ca-f9ab-4665-8c72-c1c1151f6f3a",
   "metadata": {
    "execution": {
     "iopub.execute_input": "2023-09-16T13:32:39.171616Z",
     "iopub.status.busy": "2023-09-16T13:32:39.171343Z",
     "iopub.status.idle": "2023-09-16T13:32:39.175635Z",
     "shell.execute_reply": "2023-09-16T13:32:39.174695Z",
     "shell.execute_reply.started": "2023-09-16T13:32:39.171602Z"
    },
    "tags": []
   },
   "source": [
    "### Files archives & compression"
   ]
  },
  {
   "cell_type": "markdown",
   "id": "05d79094-398d-4ac5-8795-dd8e1f0e1a3d",
   "metadata": {},
   "source": [
    "**bzip2**"
   ]
  },
  {
   "cell_type": "code",
   "execution_count": 37,
   "id": "9efacf69-c891-4aad-9b94-a7b60c91d232",
   "metadata": {
    "execution": {
     "iopub.execute_input": "2024-10-07T23:10:01.152549Z",
     "iopub.status.busy": "2024-10-07T23:10:01.152218Z",
     "iopub.status.idle": "2024-10-07T23:10:01.275041Z",
     "shell.execute_reply": "2024-10-07T23:10:01.273078Z",
     "shell.execute_reply.started": "2024-10-07T23:10:01.152525Z"
    },
    "tags": []
   },
   "outputs": [
    {
     "name": "stdout",
     "output_type": "stream",
     "text": [
      "Version: 1.0.8-5.1build0.1\n"
     ]
    }
   ],
   "source": [
    "!dpkg -s bzip2 | grep Version"
   ]
  },
  {
   "cell_type": "markdown",
   "id": "2d5f54e2-f9fe-43cf-bd30-b633ff1b2e66",
   "metadata": {},
   "source": [
    "**gzip**"
   ]
  },
  {
   "cell_type": "code",
   "execution_count": 38,
   "id": "3988e458-7a81-4ba9-895a-5706618be333",
   "metadata": {
    "execution": {
     "iopub.execute_input": "2024-10-07T23:10:02.265126Z",
     "iopub.status.busy": "2024-10-07T23:10:02.264828Z",
     "iopub.status.idle": "2024-10-07T23:10:02.384260Z",
     "shell.execute_reply": "2024-10-07T23:10:02.381983Z",
     "shell.execute_reply.started": "2024-10-07T23:10:02.265106Z"
    },
    "tags": []
   },
   "outputs": [
    {
     "name": "stdout",
     "output_type": "stream",
     "text": [
      "Version: 1.12-1ubuntu3\n"
     ]
    }
   ],
   "source": [
    "!dpkg -s gzip | grep Version"
   ]
  },
  {
   "cell_type": "markdown",
   "id": "824cc23d-acca-4c3b-948b-326ee3e71981",
   "metadata": {},
   "source": [
    "**tar**"
   ]
  },
  {
   "cell_type": "code",
   "execution_count": 39,
   "id": "281a3942-26bc-4b9f-a1e8-fefd0b713724",
   "metadata": {
    "execution": {
     "iopub.execute_input": "2024-10-07T23:10:03.359103Z",
     "iopub.status.busy": "2024-10-07T23:10:03.358783Z",
     "iopub.status.idle": "2024-10-07T23:10:03.476264Z",
     "shell.execute_reply": "2024-10-07T23:10:03.474421Z",
     "shell.execute_reply.started": "2024-10-07T23:10:03.359080Z"
    },
    "tags": []
   },
   "outputs": [
    {
     "name": "stdout",
     "output_type": "stream",
     "text": [
      "Version: 1.35+dfsg-3build1\n"
     ]
    }
   ],
   "source": [
    "!dpkg -s tar | grep Version"
   ]
  },
  {
   "cell_type": "markdown",
   "id": "f9e701f0-2e09-4d56-be98-de9af4a7eac2",
   "metadata": {},
   "source": [
    "**unzip**"
   ]
  },
  {
   "cell_type": "code",
   "execution_count": 40,
   "id": "9c11a6d9-6aa6-4d7c-9b4e-2859fd477360",
   "metadata": {
    "execution": {
     "iopub.execute_input": "2024-10-07T23:10:05.771707Z",
     "iopub.status.busy": "2024-10-07T23:10:05.771355Z",
     "iopub.status.idle": "2024-10-07T23:10:05.892245Z",
     "shell.execute_reply": "2024-10-07T23:10:05.890250Z",
     "shell.execute_reply.started": "2024-10-07T23:10:05.771684Z"
    },
    "tags": []
   },
   "outputs": [
    {
     "name": "stdout",
     "output_type": "stream",
     "text": [
      "Version: 6.0-28ubuntu4.1\n"
     ]
    }
   ],
   "source": [
    "!dpkg -s unzip | grep Version"
   ]
  },
  {
   "cell_type": "markdown",
   "id": "c01c9a62-877a-47f1-8b26-534ad17fede8",
   "metadata": {},
   "source": [
    "### Text editors"
   ]
  },
  {
   "cell_type": "markdown",
   "id": "d296bab5-e989-4d6a-929a-a424c2bd66d6",
   "metadata": {},
   "source": [
    "**vim**"
   ]
  },
  {
   "cell_type": "code",
   "execution_count": 42,
   "id": "8d43e029-6d8a-4662-bdb2-d0b3687d32a8",
   "metadata": {
    "execution": {
     "iopub.execute_input": "2024-10-07T23:10:30.500079Z",
     "iopub.status.busy": "2024-10-07T23:10:30.499527Z",
     "iopub.status.idle": "2024-10-07T23:10:30.618584Z",
     "shell.execute_reply": "2024-10-07T23:10:30.616662Z",
     "shell.execute_reply.started": "2024-10-07T23:10:30.500038Z"
    },
    "tags": []
   },
   "outputs": [
    {
     "name": "stdout",
     "output_type": "stream",
     "text": [
      "Version: 2:9.1.0016-1ubuntu7.3\n"
     ]
    }
   ],
   "source": [
    "!dpkg -s vim | grep Version"
   ]
  },
  {
   "cell_type": "markdown",
   "id": "7773e2d8-c7f6-4e4d-bdba-085181374bc8",
   "metadata": {},
   "source": [
    "### Performance monintoring"
   ]
  },
  {
   "cell_type": "markdown",
   "id": "cd6ffafa-0292-43ba-83d1-6dd15f5a50d4",
   "metadata": {},
   "source": [
    "**htop**"
   ]
  },
  {
   "cell_type": "code",
   "execution_count": 43,
   "id": "8d927a92-db7e-4b76-9ba3-2d20f4a042f8",
   "metadata": {
    "execution": {
     "iopub.execute_input": "2024-10-07T23:10:33.081407Z",
     "iopub.status.busy": "2024-10-07T23:10:33.081063Z",
     "iopub.status.idle": "2024-10-07T23:10:33.201669Z",
     "shell.execute_reply": "2024-10-07T23:10:33.199669Z",
     "shell.execute_reply.started": "2024-10-07T23:10:33.081383Z"
    },
    "tags": []
   },
   "outputs": [
    {
     "name": "stdout",
     "output_type": "stream",
     "text": [
      "Version: 3.3.0-4build1\n"
     ]
    }
   ],
   "source": [
    "!dpkg -s htop | grep Version"
   ]
  },
  {
   "cell_type": "markdown",
   "id": "e98d2914-f0c5-4264-9a6f-29a92d1573ee",
   "metadata": {},
   "source": [
    "**nvtop**"
   ]
  },
  {
   "cell_type": "code",
   "execution_count": 44,
   "id": "9d8d9f86-1a3a-4dc7-b704-586d3a030706",
   "metadata": {
    "execution": {
     "iopub.execute_input": "2024-10-07T23:10:34.006063Z",
     "iopub.status.busy": "2024-10-07T23:10:34.005316Z",
     "iopub.status.idle": "2024-10-07T23:10:34.122817Z",
     "shell.execute_reply": "2024-10-07T23:10:34.121581Z",
     "shell.execute_reply.started": "2024-10-07T23:10:34.006038Z"
    },
    "tags": []
   },
   "outputs": [
    {
     "name": "stdout",
     "output_type": "stream",
     "text": [
      "Version: 3.0.2-1\n"
     ]
    }
   ],
   "source": [
    "!dpkg -s nvtop | grep Version"
   ]
  },
  {
   "cell_type": "code",
   "execution_count": null,
   "id": "bde4186c-a0d1-4b41-9af8-9e3ef2b7c0df",
   "metadata": {},
   "outputs": [],
   "source": []
  }
 ],
 "metadata": {
  "kernelspec": {
   "display_name": "Python 3 (ipykernel)",
   "language": "python",
   "name": "python3"
  },
  "language_info": {
   "codemirror_mode": {
    "name": "ipython",
    "version": 3
   },
   "file_extension": ".py",
   "mimetype": "text/x-python",
   "name": "python",
   "nbconvert_exporter": "python",
   "pygments_lexer": "ipython3",
   "version": "3.12.7"
  }
 },
 "nbformat": 4,
 "nbformat_minor": 5
}
