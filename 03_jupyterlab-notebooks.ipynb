{
 "cells": [
  {
   "cell_type": "markdown",
   "id": "ec3ba61c-ce5c-44e5-bb05-c2ba016d08d3",
   "metadata": {},
   "source": [
    "# Wordslab notebooks tutorials"
   ]
  },
  {
   "cell_type": "markdown",
   "id": "09cc537f-e6ab-4100-9e8b-0049aebc8c56",
   "metadata": {},
   "source": [
    "## Discover the Jupyterlab development environment\n",
    "\n",
    "Main features\n",
    "- [The JupyterLab Interface](https://jupyterlab.readthedocs.io/en/latest/user/interface.html)\n",
    "- [Working with Files](https://jupyterlab.readthedocs.io/en/latest/user/files.html)\n",
    "- [Notebooks](https://jupyterlab.readthedocs.io/en/latest/user/notebook.html)\n",
    "- [Terminals](https://jupyterlab.readthedocs.io/en/latest/user/terminal.html)\n",
    "\n",
    "Left sidebar\n",
    "- [Managing Kernels and Terminals](https://jupyterlab.readthedocs.io/en/latest/user/running.html)\n",
    "- [CPU and GPU usage dahsboards](https://github.com/rapidsai/jupyterlab-nvdashboard#jupyterlab-nvdashboard)\n",
    "- [Git version control](https://github.com/jupyterlab/jupyterlab-git#jupyterlab-git)\n",
    "\n",
    "Development tools\n",
    "- [Debugger](https://jupyterlab.readthedocs.io/en/latest/user/debugger.html)"
   ]
  }
 ],
 "metadata": {
  "kernelspec": {
   "display_name": "Python 3 (ipykernel)",
   "language": "python",
   "name": "python3"
  },
  "language_info": {
   "codemirror_mode": {
    "name": "ipython",
    "version": 3
   },
   "file_extension": ".py",
   "mimetype": "text/x-python",
   "name": "python",
   "nbconvert_exporter": "python",
   "pygments_lexer": "ipython3",
   "version": "3.12.11"
  }
 },
 "nbformat": 4,
 "nbformat_minor": 5
}
