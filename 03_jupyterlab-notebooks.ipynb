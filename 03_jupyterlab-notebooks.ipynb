{
 "cells": [
  {
   "cell_type": "markdown",
   "id": "ec3ba61c-ce5c-44e5-bb05-c2ba016d08d3",
   "metadata": {},
   "source": [
    "# Tutorial 3 - JupyterLab"
   ]
  },
  {
   "cell_type": "markdown",
   "id": "f82b7bd2-12bb-4aa0-9b79-31a54bfa135f",
   "metadata": {},
   "source": [
    "## Prerequisites\n",
    "\n",
    "To take advantage of JupyterLab notebooks, you need to have at least a basic knowledge of three languages: Python, Markdown, and Linux shell, and you need to know the Git version control system and the Github cloud collaboration platform.\n",
    "\n",
    "### Python\n",
    "\n",
    "Python is a high-level, interpreted programming language known for its simplicity and readability. It is the most popular programming language in the world today.\n",
    "\n",
    "Its ease of use and strong community support make it a preferred language for data analysis, automation, and AI research.\n",
    "    \n",
    "Python is particularly important for artificial intelligence (AI) due to its extensive data science libraries and frameworks, such as PyTorch and scikit-learn, which simplify the development of machine learning models.    \n",
    "\n",
    "You can learn Python in one or two days with the support of AI:\n",
    "\n",
    "If you are a complete beginner with no previous knowledge of programming languages, this is the best introduction\n",
    "\n",
    "- [AI Python for Beginners by Andrew Ng](https://www.deeplearning.ai/short-courses/ai-python-for-beginners)\n",
    "\n",
    "If you already know other programming languages but are not familiar with Python, there are many good options on the internet\n",
    "\n",
    "- [Learn Python in 5 hours on kaggle.com](https://www.kaggle.com/learn/python)\n",
    "- [learnpython.org - Very simple interactive tutorial](https://www.learnpython.org/)\n",
    "- [Python for Beginners - 44 short videos by Microsoft](https://learn.microsoft.com/en-us/shows/intro-to-python-development/)\n",
    "- [Official Python 3 tutorial](https://docs.python.org/3/tutorial/)\n",
    "\n",
    "### Markdown\n",
    "\n",
    "Markdown is a lightweight markup language designed for easy formatting of plain text. It allows users to add elements like headings, lists, links, and images using simple syntax, making it both readable and writable in its raw form. \n",
    "    \n",
    "Markdown in JupyterLab notebooks enables seamless integration of text and code. It helps document code, explain concepts, and create structured reports, enhancing collaboration and reproducibility. \n",
    "    \n",
    "Its simplicity and versatility make it an essential tool for data scientists, researchers, and developers working in interactive computing environments.\n",
    "\n",
    "You can learn markdown in 30 minutes:\n",
    "\n",
    "  - [What is Markdown ?](https://www.markdownguide.org/getting-started/)\n",
    "  - [Markdown syntax overview](https://www.markdownguide.org/cheat-sheet/)  \n",
    "  - [Markdown Basic syntax](https://www.markdownguide.org/basic-syntax/)\n",
    "  - [Markdown Extended syntax](https://www.markdownguide.org/extended-syntax/)\n",
    "\n",
    "### Linux shell\n",
    "\n",
    "Linux is an open-source operating system known for its stability, security, and flexibility, widely used in servers, cloud computing, and development environments. \n",
    "\n",
    "The Linux shell is a command-line interface that allows users to interact with the operating system by executing commands, automating tasks, and managing files. \n",
    "\n",
    "Wordslab notebooks and all the AI software stack run on Linux: you will sometimes need to interact with the operating system to execute commands or to explore and manage the file system.\n",
    "\n",
    "You can learn the basic Linux commands in two hours:\n",
    "\n",
    "- [The Linux Command Handbook – Learn Linux Commands for Beginners](https://www.freecodecamp.org/news/the-linux-commands-handbook/)\n",
    "\n",
    "### Git version control system and Github cloud collaboration platform\n",
    "\n",
    "Git is a distributed version control system that tracks changes in source code during software development. \n",
    "\n",
    "It allows multiple developers to collaborate efficiently by managing different versions of a project, merging changes, and resolving conflicts. \n",
    "\n",
    "Even if you are the only developer on your project, Git provides a safety net by allowing you to track your progress, revert mistakes, and maintain a structured workflow.\n",
    "\n",
    "For Jupyter Notebooks, Git is important as it helps manage iterative changes, share notebooks with collaborators, and maintain a clear history of experiments and analyses, making the development process more organized and reproducible.\n",
    "\n",
    "You can learn the basics of git in one hour with the following tutorial. To go further, you can read the relevant chapters in this refrence book. And here is also cheat sheet with the most common git commands:\n",
    "\n",
    "- [GitHub and Git Tutorial for Beginners](https://www.datacamp.com/tutorial/github-and-git-tutorial-for-beginners)\n",
    "- [Pro Git book](https://git-scm.com/book/en/v2)\n",
    "- [Git Cheat Sheet](https://git-scm.com/cheat-sheet)\n",
    "\n",
    "GitHub is a web-based platform that hosts Git repositories, providing a cloud-based interface for version control and collaboration. \n",
    "\n",
    "It builds on top of Git by offering additional features like issue tracking, project management tools, and a graphical user interface for managing repositories. GitHub allows developers to store their Git repositories remotely, making it easier to back up code, collaborate with others, and manage projects across teams.\n",
    "\n",
    "When you work on your own machine, it is important to very frequently push your changes from your local git repository to a Github cloud repository, where they are stored in a much more reliable way. With private repos, you can keep your code confidential even if you store it on Github.\n",
    "\n",
    "- [Github docs - Get started](https://docs.github.com/en/get-started/start-your-journey/about-github-and-git)"
   ]
  },
  {
   "cell_type": "markdown",
   "id": "a8c24282-aee8-4cf3-a424-89a1a54a2a43",
   "metadata": {
    "execution": {
     "iopub.execute_input": "2025-10-19T10:40:04.753622Z",
     "iopub.status.busy": "2025-10-19T10:40:04.753080Z",
     "iopub.status.idle": "2025-10-19T10:40:04.780624Z",
     "shell.execute_reply": "2025-10-19T10:40:04.779502Z",
     "shell.execute_reply.started": "2025-10-19T10:40:04.753588Z"
    }
   },
   "source": [
    "## Step 1 - Watch or read a short JupyterLab tutorial\n",
    "\n",
    "6 minutes official Youtube video tutorial\n",
    "\n",
    "- [How to Use JupyterLab](https://www.youtube.com/watch?v=A5YyoCKxEOU)\n",
    "\n",
    "Quick text tutorial from dataquest\n",
    "\n",
    "- [How to Use Jupyter Notebook: A Beginner’s Tutorial](https://www.dataquest.io/blog/jupyter-notebook-tutorial/)                     "
   ]
  },
  {
   "cell_type": "markdown",
   "id": "09cc537f-e6ab-4100-9e8b-0049aebc8c56",
   "metadata": {},
   "source": [
    "## Step 2 - Understand the main concepts of Jupyter Notebooks\n",
    "\n",
    "Jupyter Notebooks provide a powerful and flexible environment for interactive computing. \n",
    "- Immediate Feedback: Execute code and see results instantly.\n",
    "- Variable Inspection: View and modify variables in real-time.\n",
    "- Visualizations: Create and display plots and charts directly in the notebook.\n",
    "\n",
    "Their ability to combine code execution, rich text formatting, and multimedia output makes them an invaluable tool for data scientists, researchers, educators, and anyone working with data. \n",
    "\n",
    "By understanding the core concepts and features of Jupyter Notebooks, users can leverage their full potential to enhance productivity and collaboration in data-driven projects.\n",
    "\n",
    "### What Jupyter Notebooks are\n",
    "\n",
    "- Jupyter Notebooks are interactive documents that mix executable code, narrative text, equations, visualizations, and outputs in a single file. They are widely used for data analysis, machine learning, scientific computing, education, and reproducible research.\n",
    "- Originally the name “Jupyter” comes from Julia, Python, and R, three popular languages for data analysis, but the platform now supports many other languages.\n",
    "\n",
    "### When to choose notebooks vs. scripts\n",
    "\n",
    "- Notebooks excel at interactive exploration, visualization, teaching, and communication.\n",
    "- Scripts or packages are better for production pipelines, libraries, and complex testing.\n",
    "- A healthy pattern is to explore in notebooks, extract stable code into modules, then call those modules from notebooks.\n",
    "- https://nbdev.fast.ai/ is preinstalled in Wordslab notebooks to support this workflow\n",
    "\n",
    "### Core pieces of the system\n",
    "\n",
    "- Notebook file (.ipynb): A JSON document containing cells (code, Markdown), their outputs, and metadata. It’s human-readable through tools, not by hand.\n",
    "- Kernel: The process that runs your code (e.g., Python via IPython). Each notebook connects to one kernel at a time.\n",
    "- Client interface: The app you use to edit and run notebooks (JupyterLab, VS Code, etc.).\n",
    "- Jupyter Server: Serves the notebook UI in your browser and manages kernels. Runs locally or remotely.\n",
    "\n",
    "### Interfaces you can use\n",
    "\n",
    "- JupyterLab: A modern, flexible environment with a file browser, terminals, text editors, consoles, and extensions. Recommended for most users.\n",
    "- Classic Notebook: The original, simpler interface.\n",
    "- Other options: VS Code and PyCharm integrate with Jupyter; hosted services include Google Colab, Kaggle, CoCalc, and enterprise JupyterHub.\n",
    "\n",
    "###  Cells: building blocks of a notebook\n",
    "\n",
    "- Code cells: Hold executable code for the active kernel. Outputs appear directly below the cell (text, tables, plots, images, HTML, etc.).\n",
    "- Markdown cells: Hold formatted text, lists, links, images, and math (LaTeX syntax). Use them to explain ideas, document methods, and present results.\n",
    "- Execution count: Each run increments an “In [ ]” counter. The order matters for state.\n",
    "\n",
    "### The execution model and state\n",
    "\n",
    "- Statefulness: Variables and imports live in the kernel’s memory until you restart it. Running cells out of order can produce confusing results.\n",
    "- Restart and Run All: Use this to ensure the notebook executes cleanly from top to bottom.\n",
    "- Interrupt vs. restart: Interrupt stops a long-running cell; restart wipes all memory and starts fresh.\n",
    "- Long-running tasks: You can let a cell run while you edit others, but be mindful of shared state.\n",
    "\n",
    "### Working effectively with cells\n",
    "\n",
    "- Common actions: Run current cell and advance; insert above/below; delete; split/merge; move up/down.\n",
    "- Outputs: Text, plots, HTML, images, audio, and more are supported via rich display protocols.\n",
    "- Clearing output: Useful before committing to version control or sharing clean copies.\n",
    "- Checkpoints and autosave: Prevent data loss during interactive work.\n",
    "\n",
    "### Keyboard shortcuts and modes\n",
    "\n",
    "- Two modes: Command mode (manipulate cells) and Edit mode (edit content). Escape switches to command mode; Enter to edit.\n",
    "- Useful shortcuts (defaults): \n",
    "  - Run cell and advance: Shift+Enter\n",
    "  - Run cell, don’t advance: Ctrl+Enter\n",
    "  - Insert cell above/below: A/B\n",
    "  - Delete cell: D, D\n",
    "  - Undo cell delete: Z\n",
    "  - Move cell up/down: K/J\n",
    "  - Toggle command/edit: Enter/Esc\n",
    "- Learn the shortcut help panel in your interface; productivity improves dramatically with a few key bindings.\n",
    "\n",
    "### Markdown for documentation\n",
    "\n",
    "- Use Markdown cells for headings, lists, code snippets, links, and images.\n",
    "- Math: LaTeX-style expressions render as equations (inline and display).\n",
    "- Style your notebook to read like a report: introduce the problem, summarize methods, show results, and discuss conclusions.\n",
    "\n",
    "### Visualization and rich outputs\n",
    "\n",
    "- Plotting: Libraries like Matplotlib, Seaborn, Plotly, Altair, Bokeh integrate seamlessly; outputs appear inline.\n",
    "- Rich media: Display HTML, Markdown, SVG, images, audio, and video using display utilities.\n",
    "- Multiple outputs per cell: Cells can display several outputs; consider clarity and notebook size.\n",
    "\n",
    "### Interactivity with widgets\n",
    "\n",
    "- ipywidgets provides sliders, dropdowns, buttons, and more for interactive controls.\n",
    "- Useful for exploratory analysis and demos. They run in the browser, with code executed on the Python kernel.\n",
    "- Parameter exploration: Build simple UIs to adjust parameters and instantly update plots or results.\n",
    "\n",
    "### Magics and shell integration (IPython features)\n",
    "\n",
    "- Shell escapes: Prefix with ! to run a shell command (e.g., !ls). Use with care for portability and security.\n",
    "- Help and introspection: Append ? or ?? to objects to view docstrings and source when available.\n",
    "- Line magics (%something) and cell magics (%%something) provide convenience features while staying in Python.\n",
    "- Examples: %time and %timeit (timing), %matplotlib inline (plotting), %load_ext autoreload and %autoreload 2 (auto-reload modules), %%bash to run shell commands in a cell.\n",
    "\n",
    "### Environments and kernels\n",
    "\n",
    "- Each kernel is tied to a language/runtime and often to a specific environment (conda env or virtualenv).\n",
    "- Create a kernel per environment so notebooks run with the right package versions.\n",
    "- Tools: ipykernel (Python). Install kernels in environments and select them from the UI.\n",
    "\n",
    "### Debugging and profiling\n",
    "\n",
    "- Debugging: In Python, use %debug after an exception to open a post-mortem debugger. JupyterLab supports an integrated debugger with ipykernel 6+ and compatible libraries.\n",
    "- Profiling: %time, %timeit, and %prun help measure performance. Line-profiler and memory-profiler have magics once installed.\n",
    "\n",
    "### Extensions and the broader ecosystem\n",
    "\n",
    "- JupyterLab extensions: Themes, git integration, variable inspectors, table viewers, and more.\n",
    "- nbconvert: Programmatically convert notebooks to HTML, PDF, slides, or scripts.\n",
    "\n",
    "### Typical workflow patterns\n",
    "\n",
    "- Exploration: Load data, explore, visualize, and iterate quickly, capturing insights in Markdown.\n",
    "- Refactoring: Move stable logic into Python modules; keep the notebook lean and narrative-focused.\n",
    "- Reporting: Clean outputs, add a summary, and export to HTML or PDF for stakeholders.\n",
    "\n",
    "### Common pitfalls and how to avoid them\n",
    "\n",
    "- Out-of-order execution: Leads to hidden state and confusing results. Regularly restart and run all.\n",
    "- Bloated files: Many large outputs or embedded images make notebooks heavy. Clear or limit outputs and avoid storing big data inside.\n",
    "- Environment drift: Results change as dependencies evolve. Pin versions and capture environments.\n",
    "- Mixing exploratory and production code: Keep notebooks for exploration and reporting, move reusable logic into modules, and add tests outside the notebook.\n",
    "\n",
    "### Summary - Quick mental model\n",
    "\n",
    "- Notebook: a literate computing document of cells.\n",
    "- Kernel: the live process that runs your code.\n",
    "- Server/UI: the browser-based editor that talks to the kernel.\n",
    "- Ecosystem: tools for visualization, interactivity, conversion, deployment, and scaling."
   ]
  },
  {
   "cell_type": "markdown",
   "id": "d6c89daa-b3ba-4ad8-bb49-4430a6d60e48",
   "metadata": {},
   "source": [
    "## Step 3 - Discover the JupyterLab User Interface\n",
    "\n",
    "The interface is pretty intuitive, but you can get up to speed faster if you read the following key pages from the JupyterLab reference documentation\n",
    "\n",
    "- [The JupyterLab Interface](https://jupyterlab.readthedocs.io/en/latest/user/interface.html)\n",
    "- [Working with Files](https://jupyterlab.readthedocs.io/en/latest/user/files.html)\n",
    "- [Notebooks](https://jupyterlab.readthedocs.io/en/latest/user/notebook.html)\n",
    "- [Terminals](https://jupyterlab.readthedocs.io/en/latest/user/terminal.html)\n",
    "- [Managing Kernels and Terminals](https://jupyterlab.readthedocs.io/en/latest/user/running.html)\n",
    "- [Debugger](https://jupyterlab.readthedocs.io/en/latest/user/debugger.html#usage)"
   ]
  },
  {
   "cell_type": "markdown",
   "id": "24cc27b9-4937-4e0b-8ca8-e69b048c5dbe",
   "metadata": {},
   "source": [
    "## Step 4 - Discover the JupyterLab extensions\n",
    "\n",
    "Wordslab notebooks installs a few important JupyterLab extensions to help you work with AI applications\n",
    "\n",
    "### Git version control - jupyterlab-git\n",
    "\n",
    "A JupyterLab extension for version control using Git.\n",
    "\n",
    "[jupyterlab-git on Github](https://github.com/jupyterlab/jupyterlab-git#jupyterlab-git)\n",
    "\n",
    "You first need to open a git repository in the JupyterLab file browser. \n",
    "\n",
    "Then click on the 4th icon with the Git logo in the left side menu to open the jupyterlab-git user interface.\n",
    "\n",
    "The UI is pretty intuitive: you will see the current opened repository, the current branch, and the files which were modified and their current status: Untracked, Changed, Staged.\n",
    "\n",
    "Click on the + or - buttons next to the files names to add them (Untracked -> Changed) and then stage them for the next commit (Changed -> Staged). Click on the comparison button to view a diff with the previous commit of the file.\n",
    "\n",
    "When everything is OK, write a Summary and an optional description at the bottom of the screen, and click on the big COMMIT button.\n",
    "\n",
    "The History Tab lets you view the commit history, and you can add tags with a righ click on a specific commit.\n",
    "\n",
    "If you cloned your local repository from a remote location on Github, two little cloud icons on the top right of the windows with incmoming or outgoing arrows enable you to pull or push changes from or to Github in on click.\n",
    "\n",
    "The first time you commit code in a repo, jupyterlab-git will ask your Name and email. Each time you push code to Github, you will need to provide your Github user account name and a valid Github classic token.\n",
    "\n",
    "You can create a Github classic token at this URL: https://github.com/settings/tokens\n",
    "\n",
    "### Cells execution time - jupyterlab-execute-time\n",
    "\n",
    "A JupyterLab extension to display the execution time just below each code cell.\n",
    "\n",
    "[jupyterlab-execute-time on Github](https://github.com/deshaw/jupyterlab-execute-time?tab=readme-ov-file#jupyterlab-execute-time)\n",
    "\n",
    "When you work on data science, machine learning or generative AI projects, the execution time of you code cells is often quite long, and need to monitor it or to compare performance between different approaches.\n",
    "\n",
    "This extension is very simple and very useful: it directly displays the execution time of each code cell just below its contents.\n",
    "\n",
    "### CPU and GPU usage dashboards - jupyterlab-nvdashboard\n",
    "\n",
    "NVDashboard is a JupyterLab extension for displaying GPU usage dashboards. It enables JupyterLab users to visualize system hardware metrics within the same interactive environment they use for development. Supported metrics include:\n",
    "- GPU-compute utilization\n",
    "- GPU-memory consumption\n",
    "- PCIe throughput\n",
    "- NVLink throughput\n",
    "\n",
    "[jupyterlab-nvdashboard on Github](https://github.com/rapidsai/jupyterlab-nvdashboard#jupyterlab-nvdashboard)\n",
    "\n",
    "The Wordslab notebooks dashboard already enables CPU and GPU utilization and memory consumption monitoring. But it lives in a separate application. NVDashboard enables you to monitor your CPU and GPU metrics right next to your code inside the JupyterLab user interface.\n",
    "\n",
    "Click on the 3rd icon with a graphics card shape in the left side menu to open the NVDashboard user interface.\n",
    "\n",
    "### Interactive plots with Matplotlib - ipympl\n",
    "\n",
    "Matplotlib is a widely-used Python plotting library. \n",
    "\n",
    "ipympl enables using the interactive features of matplotlib in Jupyter Notebooks, Jupyter Lab, Google Colab, VSCode notebooks.\n",
    "\n",
    "Take a look at this [usage example](https://matplotlib.org/ipympl/#basic-example)."
   ]
  },
  {
   "cell_type": "markdown",
   "id": "b38b8eb3-6b3f-4954-8d7c-bba83eabb99b",
   "metadata": {
    "execution": {
     "iopub.execute_input": "2025-10-19T15:23:22.775031Z",
     "iopub.status.busy": "2025-10-19T15:23:22.774682Z",
     "iopub.status.idle": "2025-10-19T15:23:22.779283Z",
     "shell.execute_reply": "2025-10-19T15:23:22.778388Z",
     "shell.execute_reply.started": "2025-10-19T15:23:22.775005Z"
    }
   },
   "source": [
    "## Step 5 - Clone an existing Github repository\n",
    "\n",
    "Coming soon ..."
   ]
  },
  {
   "cell_type": "markdown",
   "id": "b695a834-9bb0-4bb6-b490-cc0e64613a10",
   "metadata": {},
   "source": [
    "## Step 6 - Create your own Github repository\n",
    "\n",
    "Coming soon ..."
   ]
  },
  {
   "attachments": {},
   "cell_type": "markdown",
   "id": "b5d24f0b-20f0-4eb6-950e-05343823f429",
   "metadata": {},
   "source": [
    "## Step 7 - Use Jupyter AI\n",
    "\n",
    "Jupyter AI connects generative AI with Jupyter notebooks. Jupyter AI provides a user-friendly and powerful way to explore generative AI models in notebooks and improve your productivity in JupyterLab and the Jupyter Notebook. \n",
    "\n",
    "More specifically, Jupyter AI offers:\n",
    "- A native chat UI in JupyterLab that enables you to work with generative AI as a conversational assistant.\n",
    "- An %%ai magic that turns the Jupyter notebook into a reproducible generative AI playground. This works anywhere the IPython kernel runs (JupyterLab, Jupyter Notebook, Google Colab, Kaggle, VSCode, etc.).\n",
    "\n",
    "### Chat with Jupyter AI\n",
    "\n",
    "Click on the 7th icon with a chat shape in the left side menu to open the Jupyter AI Chat conversational interface.\n",
    "\n",
    "To compose a message, type it in the text box at the bottom of the chat interface and press ENTER to send it. You can press SHIFT+ENTER to add a new line. Once you have sent a message, you should see a response from Jupyternaut, the Jupyter AI chatbot.\n",
    "\n",
    "You can start a new conversation by clicking on the + button at the top right of the conversational interface.\n",
    "\n",
    "After typing a prompt, be aware that you can click on the little arrow oriented towards the bottom at the right of the input text box to include the currently selected cells in the context of the question. You can also include a complete file from the workspace. The base path is /home/workspace.\n",
    "\n",
    "- For example: \"summarize @file:wordslab-notebooks-tutorials/03_jupyterlab-notebooks.ipynb\".\n",
    "\n",
    "Wordslab notebooks configures the language models used by default: Gemma3 and Embeddinggemma in version 2025-10.\n",
    "\n",
    "Here is what you can do in Jupyter AI Chat:\n",
    "\n",
    "- [Generating a new notebook](https://jupyter-ai.readthedocs.io/en/latest/users/index.html#generating-a-new-notebook)\n",
    "- [Asking about something in your notebook](https://jupyter-ai.readthedocs.io/en/latest/users/index.html#asking-about-something-in-your-notebook)\n",
    "- [Fixing a code cell with an error](https://jupyter-ai.readthedocs.io/en/latest/users/index.html#fixing-a-code-cell-with-an-error)\n",
    "- [Learning about local data](https://jupyter-ai.readthedocs.io/en/latest/users/index.html#learning-about-local-data)\n",
    "\n",
    "Jupyter AI Chat commands summary:\n",
    "\n",
    "- /ask — Ask a question about your learned data\n",
    "- /clear — Clear the chat window\n",
    "- /export — Export chat history to a Markdown file\n",
    "- /fix — Fix an error cell selected in your notebook\n",
    "- /generate — Generate a Jupyter notebook from a text prompt\n",
    "- /help — Display this help message\n",
    "- /learn — Teach Jupyternaut about files on your system\n",
    "\n",
    "In addition, you can use the following command to add context to your questions:\n",
    "\n",
    "- @file — Include selected file's contents"
   ]
  },
  {
   "cell_type": "markdown",
   "id": "603b562f-5efe-4c97-b186-1532c98b9a6b",
   "metadata": {},
   "source": [
    "### Use the `%%ai` Magic Command"
   ]
  },
  {
   "cell_type": "markdown",
   "id": "569c4c62-2e60-4a0a-b823-d74b56aefdb0",
   "metadata": {},
   "source": [
    "#### Configure the connection to the local ollama inference engine"
   ]
  },
  {
   "cell_type": "code",
   "execution_count": 1,
   "id": "bde1f05f-4aab-4bb7-8661-3c9ddb0d3890",
   "metadata": {
    "execution": {
     "iopub.execute_input": "2025-10-19T16:48:25.718551Z",
     "iopub.status.busy": "2025-10-19T16:48:25.718469Z",
     "iopub.status.idle": "2025-10-19T16:48:25.729481Z",
     "shell.execute_reply": "2025-10-19T16:48:25.728658Z",
     "shell.execute_reply.started": "2025-10-19T16:48:25.718543Z"
    }
   },
   "outputs": [],
   "source": [
    "import os\n",
    "os.environ[\"OLLAMA_HOST\"] = \"http://127.0.0.1:11434\""
   ]
  },
  {
   "cell_type": "markdown",
   "id": "ab77f89b-ab1d-44cb-99d7-67ebfc20b2f8",
   "metadata": {},
   "source": [
    "#### Load the IPython extension in your notebook\n",
    "\n",
    "Before you can use the `%%ai` magic command in your Jupyter notebook, you need to load the IPython extension by running the following code in a notebook cell or IPython shell:\n",
    "\n",
    "```\n",
    "%load_ext jupyter_ai_magics\n",
    "```\n",
    "\n",
    "This command loads the necessary extension that enables the use of AI magics, including `%%ai`."
   ]
  },
  {
   "cell_type": "code",
   "execution_count": null,
   "id": "8b5d8a71-5d38-4191-81de-a70f771c2b43",
   "metadata": {},
   "outputs": [],
   "source": [
    "%load_ext jupyter_ai_magics"
   ]
  },
  {
   "cell_type": "markdown",
   "id": "c8981317-1443-4610-9219-bdd4d7961fa8",
   "metadata": {
    "execution": {
     "iopub.execute_input": "2025-10-19T16:42:28.606237Z",
     "iopub.status.busy": "2025-10-19T16:42:28.605956Z",
     "iopub.status.idle": "2025-10-19T16:42:28.609097Z",
     "shell.execute_reply": "2025-10-19T16:42:28.608494Z",
     "shell.execute_reply.started": "2025-10-19T16:42:28.606221Z"
    }
   },
   "source": [
    "#### Configure Wordslab notebooks language models"
   ]
  },
  {
   "cell_type": "code",
   "execution_count": 3,
   "id": "25f09a92-f7fb-4cfb-acf3-f3eaf1da5b6a",
   "metadata": {
    "execution": {
     "iopub.execute_input": "2025-10-19T16:48:32.584089Z",
     "iopub.status.busy": "2025-10-19T16:48:32.583624Z",
     "iopub.status.idle": "2025-10-19T16:48:32.592702Z",
     "shell.execute_reply": "2025-10-19T16:48:32.591879Z",
     "shell.execute_reply.started": "2025-10-19T16:48:32.584067Z"
    }
   },
   "outputs": [
    {
     "data": {
      "text/plain": [
       "('gemma3:27b', 'qwen3-coder:30b')"
      ]
     },
     "execution_count": 3,
     "metadata": {},
     "output_type": "execute_result"
    }
   ],
   "source": [
    "chat_model = os.getenv(\"OLLAMA_CHAT_MODEL\")\n",
    "code_model = os.getenv(\"OLLAMA_CODE_MODEL\")\n",
    "chat_model,code_model"
   ]
  },
  {
   "cell_type": "code",
   "execution_count": 4,
   "id": "aac94eca-910b-453c-845c-b7f83908f188",
   "metadata": {
    "execution": {
     "iopub.execute_input": "2025-10-19T16:48:33.404982Z",
     "iopub.status.busy": "2025-10-19T16:48:33.404830Z",
     "iopub.status.idle": "2025-10-19T16:48:33.407901Z",
     "shell.execute_reply": "2025-10-19T16:48:33.407527Z",
     "shell.execute_reply.started": "2025-10-19T16:48:33.404973Z"
    }
   },
   "outputs": [],
   "source": [
    "%config AiMagics.default_language_model = \"ollama:{chat_model}\""
   ]
  },
  {
   "cell_type": "code",
   "execution_count": 5,
   "id": "da0eebc3-7268-4949-9578-36b2a01a51d0",
   "metadata": {
    "execution": {
     "iopub.execute_input": "2025-10-19T16:48:34.049703Z",
     "iopub.status.busy": "2025-10-19T16:48:34.049418Z",
     "iopub.status.idle": "2025-10-19T16:48:34.055259Z",
     "shell.execute_reply": "2025-10-19T16:48:34.054619Z",
     "shell.execute_reply.started": "2025-10-19T16:48:34.049684Z"
    }
   },
   "outputs": [
    {
     "data": {
      "text/markdown": [
       "Registered new alias `chat`"
      ],
      "text/plain": [
       "Registered new alias `chat`"
      ]
     },
     "execution_count": 5,
     "metadata": {},
     "output_type": "execute_result"
    }
   ],
   "source": [
    "%ai register chat ollama:{chat_model}"
   ]
  },
  {
   "cell_type": "code",
   "execution_count": 6,
   "id": "fc08c9c5-2f5c-4ef5-94c4-467546e141dd",
   "metadata": {
    "execution": {
     "iopub.execute_input": "2025-10-19T16:48:35.520725Z",
     "iopub.status.busy": "2025-10-19T16:48:35.520358Z",
     "iopub.status.idle": "2025-10-19T16:48:35.527773Z",
     "shell.execute_reply": "2025-10-19T16:48:35.526941Z",
     "shell.execute_reply.started": "2025-10-19T16:48:35.520701Z"
    }
   },
   "outputs": [
    {
     "data": {
      "text/markdown": [
       "Registered new alias `code`"
      ],
      "text/plain": [
       "Registered new alias `code`"
      ]
     },
     "execution_count": 6,
     "metadata": {},
     "output_type": "execute_result"
    }
   ],
   "source": [
    "%ai register code ollama:{code_model}"
   ]
  },
  {
   "cell_type": "markdown",
   "id": "daa57fb2-50fc-4414-ba2f-16765ee87c21",
   "metadata": {},
   "source": [
    "#### Explore %ai commands"
   ]
  },
  {
   "cell_type": "markdown",
   "id": "77447f41-cd7c-42a8-a6d7-5b259fa82d9e",
   "metadata": {},
   "source": [
    "Once the extension is loaded, you can run %%ai cell magic commands and %ai line magic commands. \n",
    "\n",
    "For example, you can get help with syntax by running %%ai help or %ai help. You can also pass --help as an argument to any line magic command (e.g., %ai list --help) to learn about what the command does and how to use it\n",
    "\n",
    "In a code cell within the notebook, type:\n",
    " ```python\n",
    " %ai help\n",
    " ```"
   ]
  },
  {
   "cell_type": "code",
   "execution_count": 7,
   "id": "9aeff342-7b81-4aec-bd90-27c116e9965e",
   "metadata": {
    "execution": {
     "iopub.execute_input": "2025-10-19T16:49:05.319612Z",
     "iopub.status.busy": "2025-10-19T16:49:05.319449Z",
     "iopub.status.idle": "2025-10-19T16:49:05.327413Z",
     "shell.execute_reply": "2025-10-19T16:49:05.327046Z",
     "shell.execute_reply.started": "2025-10-19T16:49:05.319603Z"
    }
   },
   "outputs": [
    {
     "name": "stdout",
     "output_type": "stream",
     "text": [
      "Usage: %%ai [OPTIONS] [MODEL_ID]\n",
      "\n",
      "  Invokes a language model identified by MODEL_ID, with the prompt being\n",
      "  contained in all lines after the first. Both local model IDs and global\n",
      "  model IDs (with the provider ID explicitly prefixed, followed by a colon)\n",
      "  are accepted.\n",
      "\n",
      "  To view available language models, please run `%ai list`.\n",
      "\n",
      "Options:\n",
      "  -f, --format [code|html|image|json|markdown|math|md|text]\n",
      "                                  IPython display to use when rendering\n",
      "                                  output. [default=\"markdown\"]\n",
      "  -n, --region-name TEXT          AWS region name, e.g. 'us-east-1'. Required\n",
      "                                  for SageMaker provider; does nothing with\n",
      "                                  other providers.\n",
      "  -q, --request-schema TEXT       The JSON object the endpoint expects, with\n",
      "                                  the prompt being substituted into any value\n",
      "                                  that matches the string literal '<prompt>'.\n",
      "                                  Required for SageMaker provider; does\n",
      "                                  nothing with other providers.\n",
      "  -p, --response-path TEXT        A JSONPath string that retrieves the\n",
      "                                  language model's output from the endpoint's\n",
      "                                  JSON response. Required for SageMaker\n",
      "                                  provider; does nothing with other providers.\n",
      "  -m, --model-parameters TEXT     A JSON value that specifies extra values\n",
      "                                  that will be passed to the model. The\n",
      "                                  accepted value parsed to a dict, unpacked\n",
      "                                  and passed as-is to the provider class.\n",
      "  --help                          Show this message and exit.\n",
      "------------------------------------------------------------------------------\n",
      "Usage: %ai [OPTIONS] COMMAND [ARGS]...\n",
      "\n",
      "  Invokes a subcommand.\n",
      "\n",
      "Options:\n",
      "  --help  Show this message and exit.\n",
      "\n",
      "Commands:\n",
      "  delete    Delete an alias. See `%ai delete --help` for options.\n",
      "  error     Explains the most recent error.\n",
      "  help      Show this message and exit.\n",
      "  list      List language models. See `%ai list --help` for options.\n",
      "  register  Register a new alias. See `%ai register --help` for options.\n",
      "  reset     Clear the conversation transcript.\n",
      "  update    Update the target of an alias. See `%ai update --help` for\n",
      "            options.\n",
      "  version   Prints Jupyter-AI version\n",
      "\n"
     ]
    }
   ],
   "source": [
    "%ai help"
   ]
  },
  {
   "cell_type": "markdown",
   "id": "91bd9d4a-56b2-4e04-bc56-f9a239550a70",
   "metadata": {},
   "source": [
    "If the `%ai` magic command is recognized and you can run AI-related commands without errors, it confirms that Jupyter AI is properly installed."
   ]
  },
  {
   "cell_type": "code",
   "execution_count": 14,
   "id": "c3fc7c8c-498c-47c3-840b-994399077642",
   "metadata": {
    "execution": {
     "iopub.execute_input": "2025-10-19T16:52:04.232110Z",
     "iopub.status.busy": "2025-10-19T16:52:04.231712Z",
     "iopub.status.idle": "2025-10-19T16:52:05.624301Z",
     "shell.execute_reply": "2025-10-19T16:52:05.623628Z",
     "shell.execute_reply.started": "2025-10-19T16:52:04.232080Z"
    }
   },
   "outputs": [
    {
     "data": {
      "text/markdown": [
       "Jupyter-AI is a suite of JupyterLab extensions that brings AI-powered coding assistance – like code completion, explanation, and generation – directly into your Jupyter Notebook environment."
      ],
      "text/plain": [
       "<IPython.core.display.Markdown object>"
      ]
     },
     "execution_count": 14,
     "metadata": {
      "text/markdown": {
       "jupyter_ai": {
        "model_id": "gemma3:27b",
        "provider_id": "ollama"
       }
      }
     },
     "output_type": "execute_result"
    }
   ],
   "source": [
    "%%ai chat\n",
    "What is jupyter-ai ? Describe the tool in a short sentence"
   ]
  },
  {
   "cell_type": "markdown",
   "id": "622203e8-b108-46b8-b629-1be3947e246f",
   "metadata": {},
   "source": [
    " You can select the format used to render the output with the flag :\n",
    "\n",
    " ```\n",
    " -f code | html | image | json | markdown | math | md | text\n",
    "```"
   ]
  },
  {
   "cell_type": "code",
   "execution_count": 9,
   "id": "c8f0121e-3582-43e7-8fb0-dd89eb42932f",
   "metadata": {
    "execution": {
     "iopub.execute_input": "2025-10-19T16:49:58.966386Z",
     "iopub.status.busy": "2025-10-19T16:49:58.965915Z",
     "iopub.status.idle": "2025-10-19T16:50:19.000663Z",
     "shell.execute_reply": "2025-10-19T16:50:18.998302Z",
     "shell.execute_reply.started": "2025-10-19T16:49:58.966354Z"
    }
   },
   "outputs": [
    {
     "data": {
      "text/html": [
       "AI generated code inserted below &#11015;&#65039;"
      ],
      "text/plain": [
       "<IPython.core.display.HTML object>"
      ]
     },
     "execution_count": 9,
     "metadata": {
      "text/html": {
       "jupyter_ai": {
        "model_id": "qwen3-coder:30b",
        "provider_id": "ollama"
       }
      }
     },
     "output_type": "execute_result"
    }
   ],
   "source": [
    "%%ai code -f code\n",
    "Generate a program to compute pi with low precision"
   ]
  },
  {
   "cell_type": "code",
   "execution_count": 10,
   "id": "3ecec87b-5988-4526-a018-018f7c43331d",
   "metadata": {
    "execution": {
     "iopub.execute_input": "2025-10-19T16:50:38.709272Z",
     "iopub.status.busy": "2025-10-19T16:50:38.708719Z",
     "iopub.status.idle": "2025-10-19T16:50:38.740796Z",
     "shell.execute_reply": "2025-10-19T16:50:38.740394Z",
     "shell.execute_reply.started": "2025-10-19T16:50:38.709226Z"
    }
   },
   "outputs": [
    {
     "name": "stdout",
     "output_type": "stream",
     "text": [
      "π ≈ 3.141583\n",
      "π ≈ 3.141593\n"
     ]
    }
   ],
   "source": [
    "import math\n",
    "\n",
    "def compute_pi_low_precision():\n",
    "    # Using the Leibniz formula for π/4\n",
    "    # π/4 = 1 - 1/3 + 1/5 - 1/7 + 1/9 - 1/11 + ...\n",
    "    pi_over_4 = 0\n",
    "    iterations = 100000\n",
    "    \n",
    "    for i in range(iterations):\n",
    "        term = (-1)**i / (2*i + 1)\n",
    "        pi_over_4 += term\n",
    "    \n",
    "    pi = pi_over_4 * 4\n",
    "    return pi\n",
    "\n",
    "# Compute and print π with low precision\n",
    "result = compute_pi_low_precision()\n",
    "print(f\"π ≈ {result:.6f}\")\n",
    "print(f\"π ≈ {math.pi:.6f}\")"
   ]
  },
  {
   "cell_type": "markdown",
   "id": "5903d887-15bf-4c36-a5e4-ff6590d841f1",
   "metadata": {},
   "source": [
    "By default, two previous Human/AI message exchanges are included in the context of the new prompt.\n",
    "\n",
    "You can change this using the IPython %config magic, for example:"
   ]
  },
  {
   "cell_type": "code",
   "execution_count": 11,
   "id": "096f390d-3d9a-4c41-98c4-7147ccc9b612",
   "metadata": {
    "execution": {
     "iopub.execute_input": "2025-10-19T16:50:54.102720Z",
     "iopub.status.busy": "2025-10-19T16:50:54.102532Z",
     "iopub.status.idle": "2025-10-19T16:50:54.139807Z",
     "shell.execute_reply": "2025-10-19T16:50:54.139169Z",
     "shell.execute_reply.started": "2025-10-19T16:50:54.102711Z"
    }
   },
   "outputs": [],
   "source": [
    "%config AiMagics.max_history = 4"
   ]
  },
  {
   "cell_type": "markdown",
   "id": "cfc51a57-dfb9-4076-a6ec-e08d856c6390",
   "metadata": {},
   "source": [
    "You can reference Python variables in prompt, including In, Out or Error code cells:"
   ]
  },
  {
   "cell_type": "code",
   "execution_count": 13,
   "id": "51570b5b-28e2-4ae9-a70d-97148a9c2d68",
   "metadata": {
    "execution": {
     "iopub.execute_input": "2025-10-19T16:51:28.571904Z",
     "iopub.status.busy": "2025-10-19T16:51:28.571741Z",
     "iopub.status.idle": "2025-10-19T16:51:38.123183Z",
     "shell.execute_reply": "2025-10-19T16:51:38.122557Z",
     "shell.execute_reply.started": "2025-10-19T16:51:28.571895Z"
    }
   },
   "outputs": [
    {
     "data": {
      "text/markdown": [
       "This code calculates an approximation of π using the Leibniz formula for π/4, summing a series of alternating fractions, and then prints the approximate value alongside a standard value of pi.\n",
       "\n",
       "\n",
       "\n"
      ],
      "text/plain": [
       "<IPython.core.display.Markdown object>"
      ]
     },
     "execution_count": 13,
     "metadata": {
      "text/markdown": {
       "jupyter_ai": {
        "model_id": "gemma3:27b",
        "provider_id": "ollama"
       }
      }
     },
     "output_type": "execute_result"
    }
   ],
   "source": [
    "%%ai\n",
    "Please explain the code below in a short sentence:\n",
    "--\n",
    "{In[10]}"
   ]
  },
  {
   "cell_type": "markdown",
   "id": "bc81f001-8434-4f05-9193-6f5db5d7654a",
   "metadata": {},
   "source": [
    "### Choose the language models used by Jupyter AI Chat\n",
    "\n",
    "[Jupyter AI documentation](https://jupyter-ai.readthedocs.io/en/latest/users/index.html#the-chat-interface)\n",
    "\n",
    "You can configure the language model and the embedding model used by Jupyter AI Chat:\n",
    "- open the Jupyter AI chat interface\n",
    "- click on the gear icon in the top right of the window to display the Settings\n",
    "- in the Language Model section, select:\n",
    "  - Completion model: Ollama::*\n",
    "  - Local Model ID: gemma3:27b (or any other model downloaded on your machine)\n",
    "- in the Embedding model section, select:\n",
    "  - Embedding model: Ollama::*\n",
    "  - Local Model ID: embeddinggemma:300m (or any other model downloaded on your machine)\n",
    "- click on Save Changes button at the bottom.\n",
    "- click on the left pointing arrow at the top\n",
    "\n",
    "Test the chat\n",
    "- enter \"hello\" in the Ask Jupyternaut textbox then press Enter\n",
    "- make sure you get a reponse from the AI assistant (it could take a few seconds to load it in memory).\n",
    "\n",
    "Test the embeddings\n",
    "- type \"/learn /home/workspace/wordslab-notebooks-tutorials/03_jupyterlab-notebooks.ipynb\" in the Ask Jupyternaut textbox then press Enter.\n",
    "- make sure the response looks like:\n",
    "```\n",
    "🎉 I have learned documents at /home/workspace/wordslab-notebooks-tutorials/03_jupyterlab-notebooks.ipynb and I am ready to answer questions about them. You can ask questions about these docs by prefixing your message with /ask.\n",
    "```"
   ]
  },
  {
   "cell_type": "markdown",
   "id": "be5702c0-00ea-47d9-a3bf-6f640f0509de",
   "metadata": {},
   "source": [
    "## Step 8 - Explore the pre-installed Python packages\n",
    "\n",
    "Coming soon ..."
   ]
  },
  {
   "cell_type": "markdown",
   "id": "c4417dac-1d7a-4994-a1e7-4f5d18cf841b",
   "metadata": {},
   "source": [
    "## Step 9 - Generate text with vLLM\n",
    "\n",
    "Coming soon ..."
   ]
  },
  {
   "cell_type": "markdown",
   "id": "7817c77c-203c-4df2-9cc7-f86a1bbce26b",
   "metadata": {},
   "source": [
    "## Step 10 - Convert complex documents with Docling\n",
    "\n",
    "Coming soon ..."
   ]
  },
  {
   "cell_type": "markdown",
   "id": "0f311514-c415-4f4a-8203-667c4bb049b6",
   "metadata": {},
   "source": [
    "## Step 11 - Use Docker with Nvidia GPU support\n",
    "\n",
    "Coming soon ..."
   ]
  },
  {
   "cell_type": "markdown",
   "id": "7addb9d1-bed8-46c7-be60-286fdea25a0a",
   "metadata": {},
   "source": [
    "## Step 12 - Develop a Python package with nbdev\n",
    "\n",
    "Coming soon ..."
   ]
  },
  {
   "cell_type": "code",
   "execution_count": null,
   "id": "a9d8ea46-e023-479e-a1d4-7915f7f47907",
   "metadata": {},
   "outputs": [],
   "source": []
  }
 ],
 "metadata": {
  "kernelspec": {
   "display_name": "wordslab-notebooks-tutorials",
   "language": "python",
   "name": "wordslab-notebooks-tutorials"
  },
  "language_info": {
   "codemirror_mode": {
    "name": "ipython",
    "version": 3
   },
   "file_extension": ".py",
   "mimetype": "text/x-python",
   "name": "python",
   "nbconvert_exporter": "python",
   "pygments_lexer": "ipython3",
   "version": "3.12.12"
  }
 },
 "nbformat": 4,
 "nbformat_minor": 5
}
