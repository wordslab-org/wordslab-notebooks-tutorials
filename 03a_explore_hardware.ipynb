{
 "cells": [
  {
   "cell_type": "markdown",
   "id": "8042291e-ff60-4504-b885-13f4b8dc5f40",
   "metadata": {},
   "source": [
    "# 01 - Hardware "
   ]
  },
  {
   "cell_type": "markdown",
   "id": "549d2a89-e1cc-41a5-87be-ceb1b82fe072",
   "metadata": {},
   "source": [
    "## Operating System"
   ]
  },
  {
   "cell_type": "code",
   "execution_count": 1,
   "id": "e34ce0b2-6311-441b-a698-4003a0f1dbe1",
   "metadata": {
    "execution": {
     "iopub.execute_input": "2024-10-07T23:08:04.043595Z",
     "iopub.status.busy": "2024-10-07T23:08:04.043376Z",
     "iopub.status.idle": "2024-10-07T23:08:04.179442Z",
     "shell.execute_reply": "2024-10-07T23:08:04.177555Z",
     "shell.execute_reply.started": "2024-10-07T23:08:04.043578Z"
    }
   },
   "outputs": [
    {
     "name": "stdout",
     "output_type": "stream",
     "text": [
      "Operating System: Linux\n",
      "OS Version      : Linux-5.15.153.1-microsoft-standard-WSL2-x86_64-with-glibc2.39\n",
      "--> running inside Windows Subsystem for Linux virtual machine\n",
      "\n",
      "Linux distribution:\n",
      "\n",
      "PRETTY_NAME=\"Ubuntu 24.04.1 LTS\"\n",
      "NAME=\"Ubuntu\"\n",
      "VERSION_ID=\"24.04\"\n",
      "VERSION=\"24.04.1 LTS (Noble Numbat)\"\n"
     ]
    }
   ],
   "source": [
    "import platform\n",
    "\n",
    "os_name = platform.system()\n",
    "print(f\"Operating System: {os_name}\")\n",
    "\n",
    "os_details = platform.platform()\n",
    "print(f\"OS Version      : {os_details}\")\n",
    "\n",
    "if os_name==\"Linux\":\n",
    "    if \"microsoft\" in os_details:\n",
    "        print(\"--> running inside Windows Subsystem for Linux virtual machine\")\n",
    "    print()\n",
    "    print(\"Linux distribution:\")\n",
    "    print()\n",
    "    !cat /etc/os-release | head -4"
   ]
  },
  {
   "cell_type": "markdown",
   "id": "efc8f582-0dc1-424b-b1c4-9c6513570da8",
   "metadata": {
    "execution": {
     "iopub.execute_input": "2024-06-08T19:04:26.928324Z",
     "iopub.status.busy": "2024-06-08T19:04:26.927939Z",
     "iopub.status.idle": "2024-06-08T19:04:26.931009Z",
     "shell.execute_reply": "2024-06-08T19:04:26.930446Z",
     "shell.execute_reply.started": "2024-06-08T19:04:26.928309Z"
    }
   },
   "source": [
    "## CPU and Memory"
   ]
  },
  {
   "cell_type": "code",
   "execution_count": 2,
   "id": "a7940795-7afd-4860-b520-ce62df3aa8f0",
   "metadata": {
    "execution": {
     "iopub.execute_input": "2024-10-07T23:08:04.198674Z",
     "iopub.status.busy": "2024-10-07T23:08:04.198507Z",
     "iopub.status.idle": "2024-10-07T23:08:04.209854Z",
     "shell.execute_reply": "2024-10-07T23:08:04.209017Z",
     "shell.execute_reply.started": "2024-10-07T23:08:04.198650Z"
    }
   },
   "outputs": [
    {
     "name": "stdout",
     "output_type": "stream",
     "text": [
      "----------------------------\n",
      "CPU\n",
      "----------------------------\n",
      "CPU Model: 12th Gen Intel(R) Core(TM) i7-12700H\n",
      "Physical Cores: 10\n",
      "Logical  Cores: 20\n",
      "Current Clock Speed: 2687.9989999999984 MHz\n",
      "Cache Size: {'L1': '48K', 'L2': '32K', 'L3': '1280K'}\n",
      "\n",
      "----------------------------\n",
      "Memory\n",
      "----------------------------\n",
      "Total RAM: 29.38 GB\n",
      "Used  RAM: 0.64 GB\n",
      "Free  RAM: 28.39 GB\n"
     ]
    }
   ],
   "source": [
    "import psutil\n",
    "import platform\n",
    "import subprocess\n",
    "\n",
    "# Function to get CPU model name\n",
    "def get_cpu_model():\n",
    "    if platform.system() == \"Windows\":\n",
    "        command = \"wmic cpu get Name\"\n",
    "        cpu_model = subprocess.check_output(command).decode().split(\"\\n\")[1].strip()\n",
    "    elif platform.system() == \"Darwin\":\n",
    "        command = \"sysctl -n machdep.cpu.brand_string\"\n",
    "        cpu_model = subprocess.check_output([\"sysctl\", \"-n\", \"machdep.cpu.brand_string\"]).decode().strip()\n",
    "    else:\n",
    "        command = \"cat /proc/cpuinfo | grep 'model name' | uniq\"\n",
    "        cpu_model = subprocess.check_output(command, shell=True).decode().split(\":\")[1].strip()\n",
    "    return cpu_model\n",
    "\n",
    "# Function to get the number of physical cores and logical cores\n",
    "def get_cpu_core_count():\n",
    "    physical_cores = psutil.cpu_count(logical=False)\n",
    "    logical_cores = psutil.cpu_count(logical=True)\n",
    "    return physical_cores, logical_cores\n",
    "\n",
    "# Function to get CPU clock speed\n",
    "def get_cpu_clock_speed():\n",
    "    cpu_freq = psutil.cpu_freq()\n",
    "    return cpu_freq.max, cpu_freq.current\n",
    "\n",
    "# Function to get cache size (Linux specific)\n",
    "def get_cpu_cache_size():\n",
    "    cache_size = {}\n",
    "    try:\n",
    "        with open('/sys/devices/system/cpu/cpu0/cache/index0/size') as f:\n",
    "            cache_size['L1'] = f.read().strip()\n",
    "        with open('/sys/devices/system/cpu/cpu0/cache/index1/size') as f:\n",
    "            cache_size['L2'] = f.read().strip()\n",
    "        with open('/sys/devices/system/cpu/cpu0/cache/index2/size') as f:\n",
    "            cache_size['L3'] = f.read().strip()\n",
    "    except Exception as e:\n",
    "        cache_size = {'L1': 'N/A', 'L2': 'N/A', 'L3': 'N/A'}\n",
    "    return cache_size\n",
    "\n",
    "# Function to get RAM information\n",
    "def get_ram_info():\n",
    "    virtual_memory = psutil.virtual_memory()\n",
    "    total_ram = virtual_memory.total\n",
    "    used_ram = virtual_memory.used\n",
    "    free_ram = virtual_memory.available\n",
    "    return total_ram, used_ram, free_ram\n",
    "\n",
    "# Gathering all information\n",
    "cpu_model = get_cpu_model()\n",
    "physical_cores, logical_cores = get_cpu_core_count()\n",
    "max_clock_speed, current_clock_speed = get_cpu_clock_speed()\n",
    "cache_size = get_cpu_cache_size()\n",
    "total_ram, used_ram, free_ram = get_ram_info()\n",
    "\n",
    "# Printing the information\n",
    "print(\"----------------------------\")\n",
    "print(\"CPU\")\n",
    "print(\"----------------------------\")\n",
    "print(f\"CPU Model: {cpu_model}\")\n",
    "print(f\"Physical Cores: {physical_cores}\")\n",
    "if logical_cores>physical_cores:\n",
    "    print(f\"Logical  Cores: {logical_cores}\")\n",
    "if max_clock_speed > 0:\n",
    "    print(f\"Max Clock Speed: {max_clock_speed} MHz\")\n",
    "print(f\"Current Clock Speed: {current_clock_speed} MHz\")\n",
    "print(f\"Cache Size: {cache_size}\")\n",
    "print()\n",
    "print(\"----------------------------\")\n",
    "print(\"Memory\")\n",
    "print(\"----------------------------\")\n",
    "print(f\"Total RAM: {total_ram / (1024 ** 3):.2f} GB\")\n",
    "print(f\"Used  RAM: {used_ram / (1024 ** 3):.2f} GB\")\n",
    "print(f\"Free  RAM: {free_ram / (1024 ** 3):.2f} GB\")"
   ]
  },
  {
   "cell_type": "markdown",
   "id": "8fa263e1-a8f2-4a17-b551-509da34656da",
   "metadata": {
    "execution": {
     "iopub.execute_input": "2024-06-08T19:18:09.480858Z",
     "iopub.status.busy": "2024-06-08T19:18:09.480643Z",
     "iopub.status.idle": "2024-06-08T19:18:09.483989Z",
     "shell.execute_reply": "2024-06-08T19:18:09.483463Z",
     "shell.execute_reply.started": "2024-06-08T19:18:09.480845Z"
    }
   },
   "source": [
    "### Monitoring your CPU from a terminal"
   ]
  },
  {
   "cell_type": "code",
   "execution_count": 3,
   "id": "158eee70-c462-40a4-86c6-45bbe967f157",
   "metadata": {
    "execution": {
     "iopub.execute_input": "2024-10-07T23:08:04.210770Z",
     "iopub.status.busy": "2024-10-07T23:08:04.210551Z",
     "iopub.status.idle": "2024-10-07T23:08:04.547575Z",
     "shell.execute_reply": "2024-10-07T23:08:04.546163Z",
     "shell.execute_reply.started": "2024-10-07T23:08:04.210715Z"
    }
   },
   "outputs": [
    {
     "name": "stdout",
     "output_type": "stream",
     "text": [
      "top - 01:08:04 up 17 min,  0 user,  load average: 0.08, 0.23, 0.38\n",
      "Tasks:  11 total,   2 running,   9 sleeping,   0 stopped,   0 zombie\n",
      "%Cpu(s):  0.0 us,  0.0 sy,  0.0 ni, 99.5 id,  0.5 wa,  0.0 hi,  0.0 si,  0.0 st \n",
      "MiB Mem :  30082.4 total,  29074.3 free,   1015.0 used,    350.7 buff/cache     \n",
      "MiB Swap:   8192.0 total,   8192.0 free,      0.0 used.  29067.4 avail Mem \n",
      "\n",
      "  PID USER      PR  NI    VIRT    RES    SHR S  %CPU  %MEM     TIME+ COMMAND\n",
      "    1 root      20   0    2616   1756   1636 S   0.0   0.0   0:00.00 init(word+\n",
      "    5 root      20   0    2616      4      0 S   0.0   0.0   0:00.00 init\n",
      "    8 root      20   0    2620    124      0 S   0.0   0.0   0:00.00 SessionLe+\n",
      "    9 root      20   0    2620    128      0 S   0.0   0.0   0:00.00 Relay(10)\n",
      "   10 root      20   0    7872   3548   3172 S   0.0   0.0   0:00.01 bash\n",
      "   31 root      20   0 2357320  79388  50972 S   0.0   0.3   0:00.27 dockerd\n",
      "   32 root      20   0  504740 131016  21440 S   0.0   0.4   0:02.66 jupyter-l+\n",
      "   43 root      20   0 2243700  51356  29072 S   0.0   0.2   0:00.59 containerd\n",
      "  240 root      20   0  759644  71280  17884 S   0.0   0.2   0:00.46 python\n",
      "  362 root      20   0  760052  73792  17960 R   0.0   0.2   0:00.39 python\n",
      "  382 root      20   0   12352   5028   3108 R   0.0   0.0   0:00.00 top\n"
     ]
    }
   ],
   "source": [
    "!top -b -n 1"
   ]
  },
  {
   "cell_type": "markdown",
   "id": "790c8a38-4ecd-4a54-a7fc-1f48f78ba1e0",
   "metadata": {},
   "source": [
    "### Monitoring your CPU from a notebook"
   ]
  },
  {
   "cell_type": "code",
   "execution_count": 4,
   "id": "6af90a80-a406-456f-9e97-ecac09041cf0",
   "metadata": {
    "execution": {
     "iopub.execute_input": "2024-10-07T23:08:04.549035Z",
     "iopub.status.busy": "2024-10-07T23:08:04.548721Z",
     "iopub.status.idle": "2024-10-07T23:08:05.557267Z",
     "shell.execute_reply": "2024-10-07T23:08:05.555991Z",
     "shell.execute_reply.started": "2024-10-07T23:08:04.549003Z"
    }
   },
   "outputs": [
    {
     "name": "stdout",
     "output_type": "stream",
     "text": [
      "- CPU load   : 0.0 %\n",
      "- Used memory: 0.64 GB\n",
      "- Free memory: 28.39 GB\n"
     ]
    }
   ],
   "source": [
    "import psutil\n",
    "\n",
    "# Get CPU usage percentage\n",
    "cpu_usage = psutil.cpu_percent(interval=1)\n",
    "\n",
    "# Get memory usage percentage\n",
    "memory_info = psutil.virtual_memory()\n",
    "\n",
    "# Display the results\n",
    "print(f\"- CPU load   : {cpu_usage} %\")\n",
    "print(f\"- Used memory: {memory_info.used/1024**3:.2f} GB\")\n",
    "print(f\"- Free memory: {memory_info.free/1024**3:.2f} GB\")"
   ]
  },
  {
   "cell_type": "markdown",
   "id": "0a560ce3-7860-4327-bf0f-7eb5e54e4d6f",
   "metadata": {},
   "source": [
    "## Nvidia GPU"
   ]
  },
  {
   "cell_type": "markdown",
   "id": "0af02e31-9527-4082-a2d6-2c2310f547c0",
   "metadata": {
    "execution": {
     "iopub.execute_input": "2023-09-16T07:06:57.142982Z",
     "iopub.status.busy": "2023-09-16T07:06:57.142667Z",
     "iopub.status.idle": "2023-09-16T07:06:57.148749Z",
     "shell.execute_reply": "2023-09-16T07:06:57.147687Z",
     "shell.execute_reply.started": "2023-09-16T07:06:57.142964Z"
    },
    "tags": []
   },
   "source": [
    "NVLM API reference: https://docs.nvidia.com/deploy/nvml-api/index.html"
   ]
  },
  {
   "cell_type": "code",
   "execution_count": 5,
   "id": "4328b429-8a5a-46df-95c1-d75581bebb7d",
   "metadata": {
    "execution": {
     "iopub.execute_input": "2024-10-07T23:08:05.562222Z",
     "iopub.status.busy": "2024-10-07T23:08:05.562047Z",
     "iopub.status.idle": "2024-10-07T23:08:06.361256Z",
     "shell.execute_reply": "2024-10-07T23:08:06.360606Z",
     "shell.execute_reply.started": "2024-10-07T23:08:05.562206Z"
    }
   },
   "outputs": [
    {
     "name": "stdout",
     "output_type": "stream",
     "text": [
      "----------------------------\n",
      "GPU\n",
      "----------------------------\n",
      "Device 0 : NVIDIA GeForce RTX 3070 Ti Laptop GPU\n",
      "- Total memory  : 8192 MB\n",
      "- Driver Version: 565.90\n",
      "- Driver CUDA   : 12.7\n",
      "\n"
     ]
    }
   ],
   "source": [
    "from pynvml import *\n",
    "\n",
    "nvmlInit()\n",
    "\n",
    "deviceCount = nvmlDeviceGetCount()\n",
    "for i in range(deviceCount):\n",
    "    print(\"----------------------------\")\n",
    "    print(\"GPU\")\n",
    "    print(\"----------------------------\")\n",
    "    handle = nvmlDeviceGetHandleByIndex(i)\n",
    "    # Fix bug: https://github.com/gpuopenanalytics/pynvml/issues/53\n",
    "    if nvmlSystemGetDriverVersion() != \"555.99\": \n",
    "        print(\"Device\", i, \":\", nvmlDeviceGetName(handle))\n",
    "    else:\n",
    "        arch_map = { 1: \"Kepler\", 2: \"Maxwell\", 3: \"Pascal\", 4: \"Volta\", 5: \"Turing\", 6: \"Ampere\", 7: \"Ada\", 8: \"Hopper\", 0: \"Unknown\" }\n",
    "        print(\"Device\", i, \": architecture\", arch_map[nvmlDeviceGetArchitecture(handle)])  \n",
    "    info = nvmlDeviceGetMemoryInfo(handle)\n",
    "    print(\"- Total memory  :\",int(info.total/1024/1024), \"MB\")    \n",
    "    print(\"- Driver Version:\", nvmlSystemGetDriverVersion())\n",
    "    cuda_driver_version = nvmlSystemGetCudaDriverVersion()\n",
    "    print(f\"- Driver CUDA   : {cuda_driver_version//1000}.{(cuda_driver_version%1000)//10}\")\n",
    "    print()"
   ]
  },
  {
   "cell_type": "markdown",
   "id": "f20ae3de-e025-4919-bbe0-e9e939ab2405",
   "metadata": {},
   "source": [
    "### Monitoring your GPU from Terminal "
   ]
  },
  {
   "cell_type": "code",
   "execution_count": 6,
   "id": "94ca79f9-9ab4-4daa-b0f4-46257b0a0ffc",
   "metadata": {
    "execution": {
     "iopub.execute_input": "2024-10-07T23:08:06.361972Z",
     "iopub.status.busy": "2024-10-07T23:08:06.361836Z",
     "iopub.status.idle": "2024-10-07T23:08:06.532883Z",
     "shell.execute_reply": "2024-10-07T23:08:06.531548Z",
     "shell.execute_reply.started": "2024-10-07T23:08:06.361961Z"
    },
    "tags": []
   },
   "outputs": [
    {
     "name": "stdout",
     "output_type": "stream",
     "text": [
      "Tue Oct  8 01:08:06 2024       \n",
      "+-----------------------------------------------------------------------------------------+\n",
      "| NVIDIA-SMI 565.51.01              Driver Version: 565.90         CUDA Version: 12.7     |\n",
      "|-----------------------------------------+------------------------+----------------------+\n",
      "| GPU  Name                 Persistence-M | Bus-Id          Disp.A | Volatile Uncorr. ECC |\n",
      "| Fan  Temp   Perf          Pwr:Usage/Cap |           Memory-Usage | GPU-Util  Compute M. |\n",
      "|                                         |                        |               MIG M. |\n",
      "|=========================================+========================+======================|\n",
      "|   0  NVIDIA GeForce RTX 3070 ...    On  |   00000000:01:00.0 Off |                  N/A |\n",
      "| N/A   37C    P8             15W /   25W |       0MiB /   8192MiB |      0%      Default |\n",
      "|                                         |                        |                  N/A |\n",
      "+-----------------------------------------+------------------------+----------------------+\n",
      "                                                                                         \n",
      "+-----------------------------------------------------------------------------------------+\n",
      "| Processes:                                                                              |\n",
      "|  GPU   GI   CI        PID   Type   Process name                              GPU Memory |\n",
      "|        ID   ID                                                               Usage      |\n",
      "|=========================================================================================|\n",
      "|  No running processes found                                                             |\n",
      "+-----------------------------------------------------------------------------------------+\n"
     ]
    }
   ],
   "source": [
    "!nvidia-smi"
   ]
  },
  {
   "cell_type": "markdown",
   "id": "fe32ff7b-86cf-444f-92eb-692c26c4a4a3",
   "metadata": {
    "execution": {
     "iopub.execute_input": "2023-09-16T07:00:11.953075Z",
     "iopub.status.busy": "2023-09-16T07:00:11.952250Z",
     "iopub.status.idle": "2023-09-16T07:00:11.956380Z",
     "shell.execute_reply": "2023-09-16T07:00:11.955409Z",
     "shell.execute_reply.started": "2023-09-16T07:00:11.953054Z"
    },
    "tags": []
   },
   "source": [
    "### Monitoring your GPU from a notebook"
   ]
  },
  {
   "cell_type": "code",
   "execution_count": 7,
   "id": "2a87a1c4-7bd0-4a97-86ee-3feb3d9e7f6e",
   "metadata": {
    "execution": {
     "iopub.execute_input": "2024-10-07T23:08:06.534358Z",
     "iopub.status.busy": "2024-10-07T23:08:06.534096Z",
     "iopub.status.idle": "2024-10-07T23:08:06.540623Z",
     "shell.execute_reply": "2024-10-07T23:08:06.540058Z",
     "shell.execute_reply.started": "2024-10-07T23:08:06.534328Z"
    },
    "tags": []
   },
   "outputs": [
    {
     "name": "stdout",
     "output_type": "stream",
     "text": [
      "GPU 0\n",
      "- GPU load   : 0%\n",
      "- Power usage: 15 W\n",
      "- Used memory: 174 MB\n",
      "- Free memory: 8018 MB\n"
     ]
    }
   ],
   "source": [
    "deviceCount = nvmlDeviceGetCount()\n",
    "for i in range(deviceCount):\n",
    "    handle = nvmlDeviceGetHandleByIndex(i)\n",
    "    print(\"GPU\", i)\n",
    "\n",
    "    utilization = nvmlDeviceGetUtilizationRates(handle)\n",
    "    gpu_utilization = utilization.gpu\n",
    "    print(f\"- GPU load   : {gpu_utilization}%\")\n",
    "    print(f\"- Power usage: {nvmlDeviceGetPowerUsage(handle)//1000} W\")\n",
    "    \n",
    "    info = nvmlDeviceGetMemoryInfo(handle)\n",
    "    print(f\"- Used memory: {int(info.used/1024/1024)} MB\")\n",
    "    print(f\"- Free memory: {int(info.free/1024/1024)} MB\")"
   ]
  },
  {
   "cell_type": "code",
   "execution_count": null,
   "id": "9177e8cd-0f22-4c02-a0a8-1c24eea6a285",
   "metadata": {},
   "outputs": [],
   "source": []
  }
 ],
 "metadata": {
  "kernelspec": {
   "display_name": "Python 3 (ipykernel)",
   "language": "python",
   "name": "python3"
  },
  "language_info": {
   "codemirror_mode": {
    "name": "ipython",
    "version": 3
   },
   "file_extension": ".py",
   "mimetype": "text/x-python",
   "name": "python",
   "nbconvert_exporter": "python",
   "pygments_lexer": "ipython3",
   "version": "3.12.7"
  }
 },
 "nbformat": 4,
 "nbformat_minor": 5
}
