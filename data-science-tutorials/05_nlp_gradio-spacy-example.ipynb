{
 "cells": [
  {
   "cell_type": "markdown",
   "id": "d6c3841e-eb77-4e77-83e4-4e57fae48eb8",
   "metadata": {},
   "source": [
    "# Spacy & Gradio"
   ]
  },
  {
   "cell_type": "code",
   "execution_count": 7,
   "id": "2e07dcec-1731-4b42-be22-6b4db603f35f",
   "metadata": {
    "execution": {
     "iopub.execute_input": "2025-10-05T09:37:51.502319Z",
     "iopub.status.busy": "2025-10-05T09:37:51.501898Z",
     "iopub.status.idle": "2025-10-05T09:37:51.511078Z",
     "shell.execute_reply": "2025-10-05T09:37:51.510782Z",
     "shell.execute_reply.started": "2025-10-05T09:37:51.502290Z"
    }
   },
   "outputs": [
    {
     "data": {
      "text/plain": [
       "'3.8.7'"
      ]
     },
     "execution_count": 7,
     "metadata": {},
     "output_type": "execute_result"
    }
   ],
   "source": [
    "from importlib.metadata import version\n",
    "version('spacy')"
   ]
  },
  {
   "cell_type": "code",
   "execution_count": 3,
   "id": "f6f3d90a-a067-464f-9ada-e5c25eae6c08",
   "metadata": {
    "execution": {
     "iopub.execute_input": "2025-10-05T09:37:04.720804Z",
     "iopub.status.busy": "2025-10-05T09:37:04.720649Z",
     "iopub.status.idle": "2025-10-05T09:37:11.445799Z",
     "shell.execute_reply": "2025-10-05T09:37:11.444974Z",
     "shell.execute_reply.started": "2025-10-05T09:37:04.720793Z"
    },
    "tags": []
   },
   "outputs": [
    {
     "name": "stdout",
     "output_type": "stream",
     "text": [
      "\u001b[1m\u001b[33mwarning\u001b[39m\u001b[0m\u001b[1m:\u001b[0m \u001b[1m`VIRTUAL_ENV=/home/jupyterlab/.venv` does not match the project environment path `/home/workspace/wordslab-notebooks-tutorials/.venv` and will be ignored; use `--active` to target the active environment instead\u001b[0m\n",
      "\u001b[2K\u001b[2mResolved \u001b[1m267 packages\u001b[0m \u001b[2min 1.59s\u001b[0m\u001b[0m                                       \u001b[0m\n",
      "\u001b[2K\u001b[2mPrepared \u001b[1m3 packages\u001b[0m \u001b[2min 4.45s\u001b[0m\u001b[0m                                             \n",
      "\u001b[2K\u001b[2mInstalled \u001b[1m11 packages\u001b[0m \u001b[2min 361ms\u001b[0m\u001b[0m                              \u001b[0m\n",
      " \u001b[32m+\u001b[39m \u001b[1maiofiles\u001b[0m\u001b[2m==24.1.0\u001b[0m\n",
      " \u001b[32m+\u001b[39m \u001b[1mbrotli\u001b[0m\u001b[2m==1.1.0\u001b[0m\n",
      " \u001b[32m+\u001b[39m \u001b[1mffmpy\u001b[0m\u001b[2m==0.6.1\u001b[0m\n",
      " \u001b[32m+\u001b[39m \u001b[1mgradio\u001b[0m\u001b[2m==5.49.0\u001b[0m\n",
      " \u001b[32m+\u001b[39m \u001b[1mgradio-client\u001b[0m\u001b[2m==1.13.3\u001b[0m\n",
      " \u001b[32m+\u001b[39m \u001b[1mgroovy\u001b[0m\u001b[2m==0.1.2\u001b[0m\n",
      " \u001b[32m+\u001b[39m \u001b[1mpydub\u001b[0m\u001b[2m==0.25.1\u001b[0m\n",
      " \u001b[32m+\u001b[39m \u001b[1mruff\u001b[0m\u001b[2m==0.13.3\u001b[0m\n",
      " \u001b[32m+\u001b[39m \u001b[1msafehttpx\u001b[0m\u001b[2m==0.1.6\u001b[0m\n",
      " \u001b[32m+\u001b[39m \u001b[1msemantic-version\u001b[0m\u001b[2m==2.10.0\u001b[0m\n",
      " \u001b[32m+\u001b[39m \u001b[1mtomlkit\u001b[0m\u001b[2m==0.13.3\u001b[0m\n"
     ]
    }
   ],
   "source": [
    "!uv add gradio"
   ]
  },
  {
   "cell_type": "code",
   "execution_count": 6,
   "id": "5237fbad-87cc-4172-8aa3-efb3bfd50776",
   "metadata": {
    "execution": {
     "iopub.execute_input": "2025-10-05T09:37:28.052544Z",
     "iopub.status.busy": "2025-10-05T09:37:28.052384Z",
     "iopub.status.idle": "2025-10-05T09:37:28.056748Z",
     "shell.execute_reply": "2025-10-05T09:37:28.056247Z",
     "shell.execute_reply.started": "2025-10-05T09:37:28.052536Z"
    }
   },
   "outputs": [
    {
     "data": {
      "text/plain": [
       "'5.49.0'"
      ]
     },
     "execution_count": 6,
     "metadata": {},
     "output_type": "execute_result"
    }
   ],
   "source": [
    "version('gradio')"
   ]
  },
  {
   "cell_type": "code",
   "execution_count": 8,
   "id": "a220d62f-b52f-4c13-9efd-cbff24a254ea",
   "metadata": {
    "execution": {
     "iopub.execute_input": "2025-10-05T09:38:10.385204Z",
     "iopub.status.busy": "2025-10-05T09:38:10.384791Z",
     "iopub.status.idle": "2025-10-05T09:38:10.400798Z",
     "shell.execute_reply": "2025-10-05T09:38:10.400284Z",
     "shell.execute_reply.started": "2025-10-05T09:38:10.385178Z"
    }
   },
   "outputs": [],
   "source": [
    "import importlib.util\n",
    "spec = importlib.util.find_spec('spacy')"
   ]
  },
  {
   "cell_type": "code",
   "execution_count": 9,
   "id": "bcd3c71f-5f07-4866-a0bf-d60e833a1250",
   "metadata": {
    "execution": {
     "iopub.execute_input": "2025-10-05T09:38:11.209180Z",
     "iopub.status.busy": "2025-10-05T09:38:11.208918Z",
     "iopub.status.idle": "2025-10-05T09:38:14.977565Z",
     "shell.execute_reply": "2025-10-05T09:38:14.977183Z",
     "shell.execute_reply.started": "2025-10-05T09:38:11.209163Z"
    },
    "tags": []
   },
   "outputs": [
    {
     "name": "stdout",
     "output_type": "stream",
     "text": [
      "Collecting en-core-web-sm==3.8.0\n",
      "  Downloading https://github.com/explosion/spacy-models/releases/download/en_core_web_sm-3.8.0/en_core_web_sm-3.8.0-py3-none-any.whl (12.8 MB)\n",
      "\u001b[2K     \u001b[90m━━━━━━━━━━━━━━━━━━━━━━━━━━━━━━━━━━━━━━━━\u001b[0m \u001b[32m12.8/12.8 MB\u001b[0m \u001b[31m16.4 MB/s\u001b[0m  \u001b[33m0:00:00\u001b[0mm0:00:01\u001b[0m00:01\u001b[0m\n",
      "\u001b[?25hInstalling collected packages: en-core-web-sm\n",
      "Successfully installed en-core-web-sm-3.8.0\n",
      "\u001b[38;5;2m✔ Download and installation successful\u001b[0m\n",
      "You can now load the package via spacy.load('en_core_web_sm')\n",
      "\u001b[38;5;3m⚠ Restart to reload dependencies\u001b[0m\n",
      "If you are in a Jupyter or Colab notebook, you may need to restart Python in\n",
      "order to load all the package's dependencies. You can do this by selecting the\n",
      "'Restart kernel' or 'Restart runtime' option.\n"
     ]
    }
   ],
   "source": [
    "%run {spec.origin.replace('__init__','__main__')} download en_core_web_sm"
   ]
  },
  {
   "cell_type": "code",
   "execution_count": 10,
   "id": "1fba33f0-2f2d-4af9-a99b-21f89dc7fbea",
   "metadata": {
    "execution": {
     "iopub.execute_input": "2025-10-05T09:38:21.200540Z",
     "iopub.status.busy": "2025-10-05T09:38:21.199896Z",
     "iopub.status.idle": "2025-10-05T09:38:21.534581Z",
     "shell.execute_reply": "2025-10-05T09:38:21.533986Z",
     "shell.execute_reply.started": "2025-10-05T09:38:21.200509Z"
    },
    "tags": []
   },
   "outputs": [],
   "source": [
    "import spacy\n",
    "from spacy import displacy\n",
    "\n",
    "nlp = spacy.load(\"en_core_web_sm\")"
   ]
  },
  {
   "cell_type": "code",
   "execution_count": 20,
   "id": "444f2569-865d-44be-8917-0392fdcb346e",
   "metadata": {
    "execution": {
     "iopub.execute_input": "2025-10-05T09:44:13.677328Z",
     "iopub.status.busy": "2025-10-05T09:44:13.677171Z",
     "iopub.status.idle": "2025-10-05T09:44:13.679604Z",
     "shell.execute_reply": "2025-10-05T09:44:13.679174Z",
     "shell.execute_reply.started": "2025-10-05T09:44:13.677319Z"
    }
   },
   "outputs": [],
   "source": [
    "import os\n",
    "\n",
    "user_app_port = int(os.environ[\"USER_APP1_PORT\"])\n",
    "user_app_url = os.environ[\"USER_APP1_URL\"]"
   ]
  },
  {
   "cell_type": "code",
   "execution_count": 23,
   "id": "05ec92b5-ee8a-48d8-b84f-a59c0e5bf775",
   "metadata": {
    "execution": {
     "iopub.execute_input": "2025-10-05T11:44:07.482827Z",
     "iopub.status.busy": "2025-10-05T11:44:07.482551Z",
     "iopub.status.idle": "2025-10-05T11:44:07.607965Z",
     "shell.execute_reply": "2025-10-05T11:44:07.607586Z",
     "shell.execute_reply.started": "2025-10-05T11:44:07.482812Z"
    },
    "tags": []
   },
   "outputs": [
    {
     "name": "stdout",
     "output_type": "stream",
     "text": [
      "* Running on local URL:  http://0.0.0.0:8883\n",
      "* To create a public link, set `share=True` in `launch()`.\n"
     ]
    },
    {
     "data": {
      "text/plain": []
     },
     "execution_count": 23,
     "metadata": {},
     "output_type": "execute_result"
    }
   ],
   "source": [
    "import gradio as gr\n",
    "\n",
    "def text_analysis(text):\n",
    "    doc = nlp(text)\n",
    "    html = displacy.render(doc, style=\"dep\", page=True)\n",
    "    html = (\n",
    "        \"<div style='max-width:100%; max-height:360px; overflow:auto'>\"\n",
    "        + html\n",
    "        + \"</div>\"\n",
    "    )\n",
    "    pos_count = {\n",
    "        \"char_count\": len(text),\n",
    "        \"token_count\": 0,\n",
    "    }\n",
    "    pos_tokens = []\n",
    "\n",
    "    for token in doc:\n",
    "        pos_tokens.extend([(token.text, token.pos_), (\" \", None)])\n",
    "\n",
    "    return pos_tokens, pos_count, html\n",
    "\n",
    "demo = gr.Interface(\n",
    "    text_analysis,\n",
    "    gr.Textbox(placeholder=\"Enter sentence here...\"),\n",
    "    [\"highlight\", \"json\", \"html\"],\n",
    "    examples=[\n",
    "        [\"What a beautiful morning for a walk!\"],\n",
    "        [\"It was the best of times, it was the worst of times.\"],\n",
    "    ],\n",
    ")\n",
    "\n",
    "demo.launch(inline=False, share=False, server_name=\"0.0.0.0\", server_port=user_app_port)"
   ]
  },
  {
   "cell_type": "code",
   "execution_count": 24,
   "id": "f0b3a903-4c07-49cd-8e76-e6f7c26476d6",
   "metadata": {
    "execution": {
     "iopub.execute_input": "2025-10-05T11:44:15.874586Z",
     "iopub.status.busy": "2025-10-05T11:44:15.874095Z",
     "iopub.status.idle": "2025-10-05T11:44:15.882701Z",
     "shell.execute_reply": "2025-10-05T11:44:15.882310Z",
     "shell.execute_reply.started": "2025-10-05T11:44:15.874564Z"
    },
    "tags": []
   },
   "outputs": [
    {
     "data": {
      "text/html": [
       "<a href=\"https://192.168.1.197:8883\" target=\"_blank\">Click here to access the gradio app</a>"
      ],
      "text/plain": [
       "<IPython.core.display.HTML object>"
      ]
     },
     "metadata": {},
     "output_type": "display_data"
    }
   ],
   "source": [
    "from IPython.display import display, HTML\n",
    "\n",
    "display(HTML(f'<a href=\"{user_app_url}\" target=\"_blank\">Click here to access the gradio app</a>'))"
   ]
  },
  {
   "cell_type": "markdown",
   "id": "0eb5b5d0-dbad-4512-9885-5e9a9fe8e73c",
   "metadata": {},
   "source": [
    "![gradio app screenshot](../images/data-science/spacy-gradio-app.jpg)"
   ]
  },
  {
   "cell_type": "code",
   "execution_count": 25,
   "id": "208c1287-3c0e-4aea-b655-fe30d7453f3c",
   "metadata": {
    "execution": {
     "iopub.execute_input": "2025-10-05T11:44:17.943624Z",
     "iopub.status.busy": "2025-10-05T11:44:17.943191Z",
     "iopub.status.idle": "2025-10-05T11:44:18.135339Z",
     "shell.execute_reply": "2025-10-05T11:44:18.134838Z",
     "shell.execute_reply.started": "2025-10-05T11:44:17.943595Z"
    },
    "tags": []
   },
   "outputs": [
    {
     "name": "stdout",
     "output_type": "stream",
     "text": [
      "Closing server running on port: 8883\n"
     ]
    }
   ],
   "source": [
    "demo.close()"
   ]
  },
  {
   "cell_type": "code",
   "execution_count": null,
   "id": "be3f952c-6c29-4036-bbfc-09147e521f80",
   "metadata": {},
   "outputs": [],
   "source": []
  }
 ],
 "metadata": {
  "kernelspec": {
   "display_name": "wordslab-notebooks-tutorials",
   "language": "python",
   "name": "wordslab-notebooks-tutorials"
  },
  "language_info": {
   "codemirror_mode": {
    "name": "ipython",
    "version": 3
   },
   "file_extension": ".py",
   "mimetype": "text/x-python",
   "name": "python",
   "nbconvert_exporter": "python",
   "pygments_lexer": "ipython3",
   "version": "3.12.11"
  }
 },
 "nbformat": 4,
 "nbformat_minor": 5
}
