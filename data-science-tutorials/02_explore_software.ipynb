{
 "cells": [
  {
   "cell_type": "markdown",
   "id": "9e9b40a5-7d43-4a35-bfa0-037aa2fcd69f",
   "metadata": {},
   "source": [
    "# 02 - Software"
   ]
  },
  {
   "cell_type": "markdown",
   "id": "03a60ba2-23a5-4831-b5f6-9700d3ceb279",
   "metadata": {},
   "source": [
    "## Python packages"
   ]
  },
  {
   "cell_type": "code",
   "execution_count": 1,
   "id": "5c2aa311-5c7b-42b0-bebc-aad0c1c4552c",
   "metadata": {
    "execution": {
     "iopub.execute_input": "2025-10-05T09:13:27.521142Z",
     "iopub.status.busy": "2025-10-05T09:13:27.520973Z",
     "iopub.status.idle": "2025-10-05T09:13:27.524072Z",
     "shell.execute_reply": "2025-10-05T09:13:27.523657Z",
     "shell.execute_reply.started": "2025-10-05T09:13:27.521130Z"
    },
    "tags": []
   },
   "outputs": [],
   "source": [
    "import importlib.metadata"
   ]
  },
  {
   "cell_type": "markdown",
   "id": "5920ae9f-75e5-4908-b370-104b9bee3427",
   "metadata": {
    "execution": {
     "iopub.execute_input": "2023-09-16T12:52:25.153002Z",
     "iopub.status.busy": "2023-09-16T12:52:25.152040Z",
     "iopub.status.idle": "2023-09-16T12:52:25.165138Z",
     "shell.execute_reply": "2023-09-16T12:52:25.163485Z",
     "shell.execute_reply.started": "2023-09-16T12:52:25.152853Z"
    },
    "tags": []
   },
   "source": [
    "### Python runtime & utilities"
   ]
  },
  {
   "cell_type": "markdown",
   "id": "6911e59e-9f74-43a6-882a-c163097309c1",
   "metadata": {},
   "source": [
    "**python**\n",
    "\n",
    "Python is a programming language that lets you work quickly and integrate systems more effectively.\n",
    "\n",
    "https://www.python.org/"
   ]
  },
  {
   "cell_type": "code",
   "execution_count": 2,
   "id": "270d7504-96bc-4804-97f2-2ff236feadb8",
   "metadata": {
    "execution": {
     "iopub.execute_input": "2025-10-05T09:13:31.978144Z",
     "iopub.status.busy": "2025-10-05T09:13:31.977744Z",
     "iopub.status.idle": "2025-10-05T09:13:32.092359Z",
     "shell.execute_reply": "2025-10-05T09:13:32.090515Z",
     "shell.execute_reply.started": "2025-10-05T09:13:31.978113Z"
    },
    "tags": []
   },
   "outputs": [
    {
     "name": "stdout",
     "output_type": "stream",
     "text": [
      "Python 3.12.11\n"
     ]
    }
   ],
   "source": [
    "!python --version"
   ]
  },
  {
   "cell_type": "markdown",
   "id": "3b0c1068-de53-465d-9485-dd6947f66a5a",
   "metadata": {},
   "source": [
    "**ipython**\n",
    "\n",
    "IPython provides a rich toolkit to help you make the most out of using Python interactively.\n",
    "\n",
    "https://ipython.org/"
   ]
  },
  {
   "cell_type": "code",
   "execution_count": 3,
   "id": "c34cc6d1-639d-4ce4-84ea-8b1c1c3ec676",
   "metadata": {
    "execution": {
     "iopub.execute_input": "2025-10-05T09:13:34.745471Z",
     "iopub.status.busy": "2025-10-05T09:13:34.745305Z",
     "iopub.status.idle": "2025-10-05T09:13:34.766900Z",
     "shell.execute_reply": "2025-10-05T09:13:34.766472Z",
     "shell.execute_reply.started": "2025-10-05T09:13:34.745459Z"
    },
    "tags": []
   },
   "outputs": [
    {
     "data": {
      "text/plain": [
       "'9.5.0'"
      ]
     },
     "execution_count": 3,
     "metadata": {},
     "output_type": "execute_result"
    }
   ],
   "source": [
    "importlib.metadata.version('ipython')"
   ]
  },
  {
   "cell_type": "markdown",
   "id": "baf32ae3-fdb1-42fe-8ea5-bbfa4ddebbc1",
   "metadata": {},
   "source": [
    "**uv**\n",
    "\n",
    "uv is the package installer for Python. You can use uv to install packages from the Python Package Index and other indexes.\n",
    "\n",
    "https://docs.astral.sh/uv/"
   ]
  },
  {
   "cell_type": "code",
   "execution_count": 4,
   "id": "2e1fc1c1-8569-48c2-9d0e-9babdc790782",
   "metadata": {
    "execution": {
     "iopub.execute_input": "2025-10-05T09:14:34.404317Z",
     "iopub.status.busy": "2025-10-05T09:14:34.403935Z",
     "iopub.status.idle": "2025-10-05T09:14:34.522382Z",
     "shell.execute_reply": "2025-10-05T09:14:34.521654Z",
     "shell.execute_reply.started": "2025-10-05T09:14:34.404294Z"
    },
    "tags": []
   },
   "outputs": [
    {
     "name": "stdout",
     "output_type": "stream",
     "text": [
      "uv 0.8.22\n"
     ]
    }
   ],
   "source": [
    "!uv --version"
   ]
  },
  {
   "cell_type": "markdown",
   "id": "8bf93a6f-3f79-45b5-9ee7-2a0409442782",
   "metadata": {},
   "source": [
    "### Data analysis"
   ]
  },
  {
   "cell_type": "markdown",
   "id": "876fa6c9-30d0-4617-b82c-b0ca9d6a89fa",
   "metadata": {
    "execution": {
     "iopub.execute_input": "2023-09-16T13:00:37.723742Z",
     "iopub.status.busy": "2023-09-16T13:00:37.723472Z",
     "iopub.status.idle": "2023-09-16T13:00:37.730043Z",
     "shell.execute_reply": "2023-09-16T13:00:37.728896Z",
     "shell.execute_reply.started": "2023-09-16T13:00:37.723723Z"
    },
    "tags": []
   },
   "source": [
    "**pandas**\n",
    "\n",
    "pandas is a Python package that provides fast, flexible, and expressive data structures designed to make working with \"relational\" or \"labeled\" data both easy and intuitive. \n",
    "\n",
    "https://pandas.pydata.org/docs/"
   ]
  },
  {
   "cell_type": "code",
   "execution_count": 5,
   "id": "4283d63a-7882-4d8c-bdb4-bb096326f09e",
   "metadata": {
    "execution": {
     "iopub.execute_input": "2025-10-05T09:14:46.600965Z",
     "iopub.status.busy": "2025-10-05T09:14:46.600518Z",
     "iopub.status.idle": "2025-10-05T09:14:46.632338Z",
     "shell.execute_reply": "2025-10-05T09:14:46.631609Z",
     "shell.execute_reply.started": "2025-10-05T09:14:46.600928Z"
    },
    "tags": []
   },
   "outputs": [
    {
     "data": {
      "text/plain": [
       "'2.3.2'"
      ]
     },
     "execution_count": 5,
     "metadata": {},
     "output_type": "execute_result"
    }
   ],
   "source": [
    "importlib.metadata.version('pandas')"
   ]
  },
  {
   "cell_type": "markdown",
   "id": "dd812ebd-9cb2-4c68-a591-4fca792082e0",
   "metadata": {},
   "source": [
    "**Matplotlib**\n",
    "\n",
    "Matplotlib is a comprehensive library for creating static, animated, and interactive visualizations in Python.\n",
    "\n",
    "https://matplotlib.org/"
   ]
  },
  {
   "cell_type": "code",
   "execution_count": 6,
   "id": "d88fef64-de02-47b0-ad3e-6af64baba7f7",
   "metadata": {
    "execution": {
     "iopub.execute_input": "2025-10-05T09:14:47.979175Z",
     "iopub.status.busy": "2025-10-05T09:14:47.978856Z",
     "iopub.status.idle": "2025-10-05T09:14:47.999316Z",
     "shell.execute_reply": "2025-10-05T09:14:47.998898Z",
     "shell.execute_reply.started": "2025-10-05T09:14:47.979153Z"
    },
    "tags": []
   },
   "outputs": [
    {
     "data": {
      "text/plain": [
       "'3.10.6'"
      ]
     },
     "execution_count": 6,
     "metadata": {},
     "output_type": "execute_result"
    }
   ],
   "source": [
    "importlib.metadata.version('matplotlib')"
   ]
  },
  {
   "cell_type": "markdown",
   "id": "4a2c2f8e-da55-461c-9df1-0dc5850b227f",
   "metadata": {},
   "source": [
    "### Machine learning"
   ]
  },
  {
   "cell_type": "markdown",
   "id": "3f3b3329-d27d-4745-b280-5e273b68a2cf",
   "metadata": {},
   "source": [
    "**scikit-learn**\n",
    "\n",
    "scikit-learn is a Python module for machine learning built on top of SciPy.\n",
    "\n",
    "https://scikit-learn.org/stable/documentation.html"
   ]
  },
  {
   "cell_type": "code",
   "execution_count": 8,
   "id": "87a0e73a-3064-461e-aaaf-2e4c99bee11f",
   "metadata": {
    "execution": {
     "iopub.execute_input": "2025-10-05T09:15:52.516644Z",
     "iopub.status.busy": "2025-10-05T09:15:52.516310Z",
     "iopub.status.idle": "2025-10-05T09:15:52.525111Z",
     "shell.execute_reply": "2025-10-05T09:15:52.524501Z",
     "shell.execute_reply.started": "2025-10-05T09:15:52.516620Z"
    },
    "tags": []
   },
   "outputs": [
    {
     "data": {
      "text/plain": [
       "'1.7.2'"
      ]
     },
     "execution_count": 8,
     "metadata": {},
     "output_type": "execute_result"
    }
   ],
   "source": [
    "importlib.metadata.version('scikit-learn')"
   ]
  },
  {
   "cell_type": "markdown",
   "id": "04846f94-6c97-477c-8206-7b86f8f83f1d",
   "metadata": {},
   "source": [
    "**SciPy**\n",
    "\n",
    "SciPy (pronounced “Sigh Pie”) is an open-source software for mathematics, science, and engineering. It includes modules for statistics, optimization, integration, linear algebra, Fourier transforms, signal and image processing, ODE solvers, and more.\n",
    "\n",
    "https://docs.scipy.org/doc/scipy/"
   ]
  },
  {
   "cell_type": "code",
   "execution_count": 9,
   "id": "81b40b9e-585d-4fba-aee6-22aba37c4740",
   "metadata": {
    "execution": {
     "iopub.execute_input": "2025-10-05T09:15:55.196600Z",
     "iopub.status.busy": "2025-10-05T09:15:55.196208Z",
     "iopub.status.idle": "2025-10-05T09:15:55.221308Z",
     "shell.execute_reply": "2025-10-05T09:15:55.220634Z",
     "shell.execute_reply.started": "2025-10-05T09:15:55.196572Z"
    },
    "tags": []
   },
   "outputs": [
    {
     "data": {
      "text/plain": [
       "'1.16.2'"
      ]
     },
     "execution_count": 9,
     "metadata": {},
     "output_type": "execute_result"
    }
   ],
   "source": [
    "importlib.metadata.version('scipy')"
   ]
  },
  {
   "cell_type": "markdown",
   "id": "a7577a43-6e21-46c9-8066-c18531cd03ad",
   "metadata": {},
   "source": [
    "**NumPy**\n",
    "\n",
    "NumPy is the fundamental package for scientific computing with Python.\n",
    "\n",
    "https://numpy.org/doc/stable/"
   ]
  },
  {
   "cell_type": "code",
   "execution_count": 7,
   "id": "5cc6d0e1-646c-4502-862a-713c0d84065d",
   "metadata": {
    "execution": {
     "iopub.execute_input": "2025-10-05T09:14:54.969229Z",
     "iopub.status.busy": "2025-10-05T09:14:54.968880Z",
     "iopub.status.idle": "2025-10-05T09:14:54.997445Z",
     "shell.execute_reply": "2025-10-05T09:14:54.996647Z",
     "shell.execute_reply.started": "2025-10-05T09:14:54.969205Z"
    },
    "scrolled": true,
    "tags": []
   },
   "outputs": [
    {
     "data": {
      "text/plain": [
       "'2.2.6'"
      ]
     },
     "execution_count": 7,
     "metadata": {},
     "output_type": "execute_result"
    }
   ],
   "source": [
    "importlib.metadata.version('numpy')"
   ]
  },
  {
   "cell_type": "markdown",
   "id": "aff4a17f-b62c-4a25-bd14-fca9bd704146",
   "metadata": {
    "execution": {
     "iopub.execute_input": "2024-06-08T18:00:25.541767Z",
     "iopub.status.busy": "2024-06-08T18:00:25.541579Z",
     "iopub.status.idle": "2024-06-08T18:00:25.546212Z",
     "shell.execute_reply": "2024-06-08T18:00:25.545669Z",
     "shell.execute_reply.started": "2024-06-08T18:00:25.541749Z"
    }
   },
   "source": [
    "### Deep learning"
   ]
  },
  {
   "cell_type": "markdown",
   "id": "1569d9d0-c573-4678-8f21-e5189c2fa504",
   "metadata": {},
   "source": [
    "**PyTorch**\n",
    "\n",
    "PyTorch is a Python package that provides two high-level features: Tensor computation (like NumPy) with strong GPU acceleration, Deep neural networks built on a tape-based autograd system.\n",
    "\n",
    "https://pytorch.org/"
   ]
  },
  {
   "cell_type": "code",
   "execution_count": 10,
   "id": "526e6c11-d129-48b3-9e6b-dbbbd63556fa",
   "metadata": {
    "execution": {
     "iopub.execute_input": "2025-10-05T09:16:41.890826Z",
     "iopub.status.busy": "2025-10-05T09:16:41.890331Z",
     "iopub.status.idle": "2025-10-05T09:16:41.916129Z",
     "shell.execute_reply": "2025-10-05T09:16:41.915561Z",
     "shell.execute_reply.started": "2025-10-05T09:16:41.890789Z"
    },
    "tags": []
   },
   "outputs": [
    {
     "data": {
      "text/plain": [
       "'2.8.0+cu128'"
      ]
     },
     "execution_count": 10,
     "metadata": {},
     "output_type": "execute_result"
    }
   ],
   "source": [
    "importlib.metadata.version('torch')"
   ]
  },
  {
   "cell_type": "markdown",
   "id": "7944590e-2154-42ab-ac8f-192ba1abf4c1",
   "metadata": {},
   "source": [
    "**torchvision**\n",
    "\n",
    "The torchvision package consists of popular datasets, model architectures, and common image transformations for computer vision.\n",
    "\n",
    "https://github.com/pytorch/vision"
   ]
  },
  {
   "cell_type": "code",
   "execution_count": 11,
   "id": "7abaac97-a229-4ac2-bbe4-d683f2eacf99",
   "metadata": {
    "execution": {
     "iopub.execute_input": "2025-10-05T09:16:43.648132Z",
     "iopub.status.busy": "2025-10-05T09:16:43.647876Z",
     "iopub.status.idle": "2025-10-05T09:16:43.668943Z",
     "shell.execute_reply": "2025-10-05T09:16:43.668331Z",
     "shell.execute_reply.started": "2025-10-05T09:16:43.648115Z"
    },
    "tags": []
   },
   "outputs": [
    {
     "data": {
      "text/plain": [
       "'0.23.0+cu128'"
      ]
     },
     "execution_count": 11,
     "metadata": {},
     "output_type": "execute_result"
    }
   ],
   "source": [
    "importlib.metadata.version('torchvision')"
   ]
  },
  {
   "cell_type": "markdown",
   "id": "9d15680d-68f5-4a64-92cf-aa01f0ab396b",
   "metadata": {},
   "source": [
    "**torchaudio**\n",
    "\n",
    "The aim of torchaudio is to apply PyTorch to the audio domain.\n",
    "\n",
    "https://github.com/pytorch/audio"
   ]
  },
  {
   "cell_type": "code",
   "execution_count": 12,
   "id": "b4ef7e05-452e-4193-949e-4f889f4d0ec6",
   "metadata": {
    "execution": {
     "iopub.execute_input": "2025-10-05T09:16:45.036986Z",
     "iopub.status.busy": "2025-10-05T09:16:45.036634Z",
     "iopub.status.idle": "2025-10-05T09:16:45.058273Z",
     "shell.execute_reply": "2025-10-05T09:16:45.057865Z",
     "shell.execute_reply.started": "2025-10-05T09:16:45.036961Z"
    }
   },
   "outputs": [
    {
     "data": {
      "text/plain": [
       "'2.8.0+cu128'"
      ]
     },
     "execution_count": 12,
     "metadata": {},
     "output_type": "execute_result"
    }
   ],
   "source": [
    "importlib.metadata.version('torchaudio')"
   ]
  },
  {
   "cell_type": "markdown",
   "id": "cf14d928-6c55-477b-b656-422e7403b658",
   "metadata": {},
   "source": [
    "### Requests & Web scraping"
   ]
  },
  {
   "cell_type": "markdown",
   "id": "4c4ba87a-cec7-4c19-a5ee-6c2f16862570",
   "metadata": {},
   "source": [
    "**requests**\n",
    "\n",
    "Requests allows you to send HTTP/1.1 requests extremely easily. \n",
    "\n",
    "https://requests.readthedocs.io/"
   ]
  },
  {
   "cell_type": "code",
   "execution_count": 13,
   "id": "5916b2bc-2bf4-44b4-bedd-f76bd44c995f",
   "metadata": {
    "execution": {
     "iopub.execute_input": "2025-10-05T09:16:48.630651Z",
     "iopub.status.busy": "2025-10-05T09:16:48.630384Z",
     "iopub.status.idle": "2025-10-05T09:16:48.652728Z",
     "shell.execute_reply": "2025-10-05T09:16:48.652247Z",
     "shell.execute_reply.started": "2025-10-05T09:16:48.630633Z"
    },
    "tags": []
   },
   "outputs": [
    {
     "data": {
      "text/plain": [
       "'2.32.5'"
      ]
     },
     "execution_count": 13,
     "metadata": {},
     "output_type": "execute_result"
    }
   ],
   "source": [
    "importlib.metadata.version('requests')"
   ]
  },
  {
   "cell_type": "markdown",
   "id": "0ed4cd6a-20ed-49af-b989-85b50c123b4d",
   "metadata": {},
   "source": [
    "**urllib3**\n",
    "\n",
    "urllib3 is a powerful, user-friendly HTTP client for Python. Much of the Python ecosystem already uses urllib3 and you should too. urllib3 brings many critical features that are missing from the Python standard libraries.\n",
    "\n",
    "https://urllib3.readthedocs.io/"
   ]
  },
  {
   "cell_type": "code",
   "execution_count": 14,
   "id": "fac1ec89-27a3-4359-94c4-fa240555eab3",
   "metadata": {
    "execution": {
     "iopub.execute_input": "2025-10-05T09:16:50.306060Z",
     "iopub.status.busy": "2025-10-05T09:16:50.305911Z",
     "iopub.status.idle": "2025-10-05T09:16:50.324536Z",
     "shell.execute_reply": "2025-10-05T09:16:50.324190Z",
     "shell.execute_reply.started": "2025-10-05T09:16:50.306050Z"
    },
    "tags": []
   },
   "outputs": [
    {
     "data": {
      "text/plain": [
       "'2.5.0'"
      ]
     },
     "execution_count": 14,
     "metadata": {},
     "output_type": "execute_result"
    }
   ],
   "source": [
    "importlib.metadata.version('urllib3')"
   ]
  },
  {
   "cell_type": "markdown",
   "id": "cc8d1477-3a21-4bd0-96b6-f374d10c7d57",
   "metadata": {},
   "source": [
    "### Jupyterlab & extensions"
   ]
  },
  {
   "cell_type": "markdown",
   "id": "a623ae1d-8a1b-4c2d-8777-35d9e6bfa379",
   "metadata": {},
   "source": [
    "**jupyterlab**\n",
    "\n",
    "An extensible environment for interactive and reproducible computing, based on the Jupyter Notebook and Architecture.\n",
    "\n",
    "https://jupyterlab.readthedocs.io/"
   ]
  },
  {
   "cell_type": "code",
   "execution_count": 22,
   "id": "25c9b75e-4e55-4ab6-a0f6-5dd8e7d43d52",
   "metadata": {
    "execution": {
     "iopub.execute_input": "2025-10-05T09:20:58.410467Z",
     "iopub.status.busy": "2025-10-05T09:20:58.409802Z",
     "iopub.status.idle": "2025-10-05T09:20:59.715728Z",
     "shell.execute_reply": "2025-10-05T09:20:59.714181Z",
     "shell.execute_reply.started": "2025-10-05T09:20:58.410434Z"
    },
    "tags": []
   },
   "outputs": [
    {
     "name": "stdout",
     "output_type": "stream",
     "text": [
      "4.4.9\n"
     ]
    }
   ],
   "source": [
    "!jupyter lab --version"
   ]
  },
  {
   "cell_type": "markdown",
   "id": "f200043d-0206-4c00-b42c-51dbbd2fbc8a",
   "metadata": {},
   "source": [
    "**jupyterlab-execute-time**\n",
    "\n",
    "Display cell timings in Jupyter Lab.\n",
    "\n",
    "https://github.com/deshaw/jupyterlab-execute-time"
   ]
  },
  {
   "cell_type": "markdown",
   "id": "32aca234-4ee2-4319-8bc1-17bf2ded5181",
   "metadata": {},
   "source": [
    "**jupyterlab_git**\n",
    "\n",
    "A JupyterLab extension for version control using Git.\n",
    "\n",
    "https://github.com/jupyterlab/jupyterlab-git"
   ]
  },
  {
   "cell_type": "markdown",
   "id": "783613d1-e788-4d04-b9e2-93c92796d76e",
   "metadata": {},
   "source": [
    "**jupyterlab-nvdashboard**\n",
    "\n",
    "A JupyterLab extension for displaying GPU usage dashboards.\n",
    "\n",
    "https://github.com/rapidsai/jupyterlab-nvdashboard"
   ]
  },
  {
   "cell_type": "markdown",
   "id": "2c0474db-8e90-4fae-85a8-b291692a51df",
   "metadata": {},
   "source": [
    "**Jupyter AI**\n",
    "\n",
    "Jupyter AI provides a user-friendly and powerful way to explore generative AI models in notebooks and improve your productivity in JupyterLab and the Jupyter Notebook.\n",
    "\n",
    "https://github.com/jupyterlab/jupyter-ai"
   ]
  },
  {
   "cell_type": "code",
   "execution_count": 25,
   "id": "53587c8d-7ab2-4f20-aedb-4c2747f07499",
   "metadata": {
    "execution": {
     "iopub.execute_input": "2025-10-05T09:27:44.444448Z",
     "iopub.status.busy": "2025-10-05T09:27:44.444007Z",
     "iopub.status.idle": "2025-10-05T09:27:45.456389Z",
     "shell.execute_reply": "2025-10-05T09:27:45.455082Z",
     "shell.execute_reply.started": "2025-10-05T09:27:44.444412Z"
    },
    "tags": []
   },
   "outputs": [
    {
     "name": "stdout",
     "output_type": "stream",
     "text": [
      "WARNING: Insecure writes have been enabled via environment variable 'JUPYTER_ALLOW_INSECURE_WRITES'! If this is not intended, remove the variable or set its value to 'False'.\n",
      "JupyterLab v4.4.9\n",
      "/home/jupyterlab/.venv/share/jupyter/labextensions\n",
      "        jupyterlab-nvdashboard v0.13.0 \u001b[32menabled\u001b[0m \u001b[32mOK\u001b[0m (python, jupyterlab_nvdashboard)\n",
      "        jupyterlab-execute-time v3.2.0 \u001b[32menabled\u001b[0m \u001b[32mOK\u001b[0m (python, jupyterlab_execute_time)\n",
      "        nbdime-jupyterlab v3.0.2 \u001b[32menabled\u001b[0m \u001b[32mOK\u001b[0m\n",
      "        jupyterlab_pygments v0.3.0 \u001b[32menabled\u001b[0m \u001b[32mOK\u001b[0m (python, jupyterlab_pygments)\n",
      "        jupyter-matplotlib v0.11.7 \u001b[32menabled\u001b[0m \u001b[32mOK\u001b[0m\n",
      "        @jupyter-widgets/jupyterlab-manager v5.0.15 \u001b[32menabled\u001b[0m \u001b[32mOK\u001b[0m (python, jupyterlab_widgets)\n",
      "        @jupyterlab/git v0.51.2 \u001b[32menabled\u001b[0m \u001b[32mOK\u001b[0m (python, jupyterlab-git)\n",
      "        @jupyter-ai/core v2.31.6 \u001b[32menabled\u001b[0m \u001b[32mOK\u001b[0m (python, jupyter_ai)\n",
      "\n"
     ]
    }
   ],
   "source": [
    "!jupyter labextension list"
   ]
  },
  {
   "cell_type": "markdown",
   "id": "864c1a17-d239-47b9-adcf-80e792de0574",
   "metadata": {},
   "source": [
    "### Performance monitoring"
   ]
  },
  {
   "cell_type": "markdown",
   "id": "11cf3f95-ce33-4224-8207-d5b0b9ce86c5",
   "metadata": {},
   "source": [
    "**psutil**\n",
    "\n",
    "Cross-platform lib for process and system monitoring in Python.\n",
    "\n",
    "https://github.com/giampaolo/psutil"
   ]
  },
  {
   "cell_type": "code",
   "execution_count": 26,
   "id": "71251021-3258-474d-8ed0-74da81ab06d0",
   "metadata": {
    "execution": {
     "iopub.execute_input": "2025-10-05T09:29:58.207282Z",
     "iopub.status.busy": "2025-10-05T09:29:58.207130Z",
     "iopub.status.idle": "2025-10-05T09:29:58.212574Z",
     "shell.execute_reply": "2025-10-05T09:29:58.212220Z",
     "shell.execute_reply.started": "2025-10-05T09:29:58.207271Z"
    },
    "tags": []
   },
   "outputs": [
    {
     "data": {
      "text/plain": [
       "'7.1.0'"
      ]
     },
     "execution_count": 26,
     "metadata": {},
     "output_type": "execute_result"
    }
   ],
   "source": [
    "importlib.metadata.version('psutil')"
   ]
  },
  {
   "cell_type": "markdown",
   "id": "1b58d398-ac41-4443-9ed2-6af5c63f5195",
   "metadata": {},
   "source": [
    "**pynvml**\n",
    "\n",
    "Provides a Python interface to GPU management and monitoring functions. This is a wrapper around the NVML library.\n",
    "\n",
    "http://developer.nvidia.com/nvidia-management-library-nvml"
   ]
  },
  {
   "cell_type": "code",
   "execution_count": 27,
   "id": "0eeef6bc-dd1b-4d13-af68-ba33857f93d4",
   "metadata": {
    "execution": {
     "iopub.execute_input": "2025-10-05T09:29:59.862915Z",
     "iopub.status.busy": "2025-10-05T09:29:59.862774Z",
     "iopub.status.idle": "2025-10-05T09:29:59.866579Z",
     "shell.execute_reply": "2025-10-05T09:29:59.866257Z",
     "shell.execute_reply.started": "2025-10-05T09:29:59.862906Z"
    },
    "tags": []
   },
   "outputs": [
    {
     "data": {
      "text/plain": [
       "'12.0.0'"
      ]
     },
     "execution_count": 27,
     "metadata": {},
     "output_type": "execute_result"
    }
   ],
   "source": [
    "importlib.metadata.version('pynvml')"
   ]
  },
  {
   "cell_type": "markdown",
   "id": "8bba67b4-dc94-4efa-ab8f-5c44153dd473",
   "metadata": {},
   "source": [
    "## Linux Packages"
   ]
  },
  {
   "cell_type": "markdown",
   "id": "612beba8-edf6-4600-a8a5-918c83c47ac0",
   "metadata": {},
   "source": [
    "### Operating system"
   ]
  },
  {
   "cell_type": "markdown",
   "id": "17b54d24-4421-4c1d-b4de-938a86be3fa3",
   "metadata": {},
   "source": [
    "**Linux distribution**"
   ]
  },
  {
   "cell_type": "code",
   "execution_count": 29,
   "id": "b4c1f09c-c6d1-4b8e-927b-35dd0f4cc3e2",
   "metadata": {
    "execution": {
     "iopub.execute_input": "2025-10-05T09:30:28.660874Z",
     "iopub.status.busy": "2025-10-05T09:30:28.660581Z",
     "iopub.status.idle": "2025-10-05T09:30:28.791484Z",
     "shell.execute_reply": "2025-10-05T09:30:28.790032Z",
     "shell.execute_reply.started": "2025-10-05T09:30:28.660854Z"
    },
    "tags": []
   },
   "outputs": [
    {
     "name": "stdout",
     "output_type": "stream",
     "text": [
      "DISTRIB_ID=Ubuntu\n",
      "DISTRIB_RELEASE=24.04\n",
      "DISTRIB_CODENAME=noble\n",
      "DISTRIB_DESCRIPTION=\"Ubuntu 24.04.3 LTS\"\n"
     ]
    }
   ],
   "source": [
    "!cat /etc/lsb-release"
   ]
  },
  {
   "cell_type": "markdown",
   "id": "332ffc88-7e4a-4eb2-8b85-b654b93c722a",
   "metadata": {},
   "source": [
    "### Programming languages"
   ]
  },
  {
   "cell_type": "markdown",
   "id": "aef6f5ce-4454-4dba-ac3e-07cf099c2eb7",
   "metadata": {},
   "source": [
    "**python3**"
   ]
  },
  {
   "cell_type": "code",
   "execution_count": 30,
   "id": "bdf4147c-38b2-43ca-add9-42a5b384f502",
   "metadata": {
    "execution": {
     "iopub.execute_input": "2025-10-05T09:30:30.839350Z",
     "iopub.status.busy": "2025-10-05T09:30:30.838896Z",
     "iopub.status.idle": "2025-10-05T09:30:30.979388Z",
     "shell.execute_reply": "2025-10-05T09:30:30.978070Z",
     "shell.execute_reply.started": "2025-10-05T09:30:30.839314Z"
    },
    "tags": []
   },
   "outputs": [
    {
     "name": "stdout",
     "output_type": "stream",
     "text": [
      "Version: 3.12.3-0ubuntu2\n"
     ]
    }
   ],
   "source": [
    "!dpkg -s python3 | grep Version"
   ]
  },
  {
   "cell_type": "markdown",
   "id": "eb475a05-24b0-4593-8bc2-fb9870f6ff3b",
   "metadata": {},
   "source": [
    "**gcc/g++**"
   ]
  },
  {
   "cell_type": "code",
   "execution_count": 31,
   "id": "3fa4d6b1-337f-4d5d-96b8-6bb5b5edc83a",
   "metadata": {
    "execution": {
     "iopub.execute_input": "2025-10-05T09:30:36.802828Z",
     "iopub.status.busy": "2025-10-05T09:30:36.802332Z",
     "iopub.status.idle": "2025-10-05T09:30:36.920812Z",
     "shell.execute_reply": "2025-10-05T09:30:36.919688Z",
     "shell.execute_reply.started": "2025-10-05T09:30:36.802789Z"
    },
    "tags": []
   },
   "outputs": [
    {
     "name": "stdout",
     "output_type": "stream",
     "text": [
      "Version: 4:13.2.0-7ubuntu1\n"
     ]
    }
   ],
   "source": [
    "!dpkg -s gcc | grep Version"
   ]
  },
  {
   "cell_type": "markdown",
   "id": "e0a244c0-4e39-4913-a9b3-d9f396df3bba",
   "metadata": {
    "execution": {
     "iopub.execute_input": "2023-09-16T13:31:27.540063Z",
     "iopub.status.busy": "2023-09-16T13:31:27.539502Z",
     "iopub.status.idle": "2023-09-16T13:31:27.543644Z",
     "shell.execute_reply": "2023-09-16T13:31:27.542842Z",
     "shell.execute_reply.started": "2023-09-16T13:31:27.540040Z"
    },
    "tags": []
   },
   "source": [
    "### Terminal & version control"
   ]
  },
  {
   "cell_type": "markdown",
   "id": "8322579c-9908-4ec1-9acd-268e06491d3a",
   "metadata": {},
   "source": [
    "**bash**"
   ]
  },
  {
   "cell_type": "code",
   "execution_count": 32,
   "id": "7698aab6-d8e7-4d2e-988f-e789a971e9ea",
   "metadata": {
    "execution": {
     "iopub.execute_input": "2025-10-05T09:30:40.575381Z",
     "iopub.status.busy": "2025-10-05T09:30:40.575099Z",
     "iopub.status.idle": "2025-10-05T09:30:40.691353Z",
     "shell.execute_reply": "2025-10-05T09:30:40.689976Z",
     "shell.execute_reply.started": "2025-10-05T09:30:40.575358Z"
    },
    "tags": []
   },
   "outputs": [
    {
     "name": "stdout",
     "output_type": "stream",
     "text": [
      "Version: 5.2.21-2ubuntu4\n"
     ]
    }
   ],
   "source": [
    "!dpkg -s bash | grep Version"
   ]
  },
  {
   "cell_type": "markdown",
   "id": "56fcc603-cb3a-4597-a255-fee79d57d8c4",
   "metadata": {},
   "source": [
    "**tmux**"
   ]
  },
  {
   "cell_type": "code",
   "execution_count": 33,
   "id": "7e6340c7-d177-4312-b007-58617843b55d",
   "metadata": {
    "execution": {
     "iopub.execute_input": "2025-10-05T09:30:45.148024Z",
     "iopub.status.busy": "2025-10-05T09:30:45.147718Z",
     "iopub.status.idle": "2025-10-05T09:30:45.265720Z",
     "shell.execute_reply": "2025-10-05T09:30:45.263940Z",
     "shell.execute_reply.started": "2025-10-05T09:30:45.147999Z"
    },
    "tags": []
   },
   "outputs": [
    {
     "name": "stdout",
     "output_type": "stream",
     "text": [
      "Version: 3.4-1ubuntu0.1\n"
     ]
    }
   ],
   "source": [
    "!dpkg -s tmux | grep Version"
   ]
  },
  {
   "cell_type": "markdown",
   "id": "133c4eef-69d6-4b28-8427-9b53ba8223e7",
   "metadata": {},
   "source": [
    "**git**"
   ]
  },
  {
   "cell_type": "code",
   "execution_count": 34,
   "id": "b8c08735-5102-4a80-919d-92004688ac0f",
   "metadata": {
    "execution": {
     "iopub.execute_input": "2025-10-05T09:30:45.958085Z",
     "iopub.status.busy": "2025-10-05T09:30:45.957639Z",
     "iopub.status.idle": "2025-10-05T09:30:46.078307Z",
     "shell.execute_reply": "2025-10-05T09:30:46.076490Z",
     "shell.execute_reply.started": "2025-10-05T09:30:45.958049Z"
    },
    "tags": []
   },
   "outputs": [
    {
     "name": "stdout",
     "output_type": "stream",
     "text": [
      "Version: 1:2.43.0-1ubuntu7.3\n"
     ]
    }
   ],
   "source": [
    "!dpkg -s git | grep Version"
   ]
  },
  {
   "cell_type": "markdown",
   "id": "396bcb8b-c0f4-4913-9ae2-4880fb98e127",
   "metadata": {},
   "source": [
    "### Files download"
   ]
  },
  {
   "cell_type": "markdown",
   "id": "5d140386-bad6-4032-8df7-1e3dd9c9f882",
   "metadata": {},
   "source": [
    "**curl**"
   ]
  },
  {
   "cell_type": "code",
   "execution_count": 35,
   "id": "7780a784-e35f-455f-9d71-b83cea035324",
   "metadata": {
    "execution": {
     "iopub.execute_input": "2025-10-05T09:30:47.517916Z",
     "iopub.status.busy": "2025-10-05T09:30:47.517761Z",
     "iopub.status.idle": "2025-10-05T09:30:47.632461Z",
     "shell.execute_reply": "2025-10-05T09:30:47.630548Z",
     "shell.execute_reply.started": "2025-10-05T09:30:47.517905Z"
    },
    "tags": []
   },
   "outputs": [
    {
     "name": "stdout",
     "output_type": "stream",
     "text": [
      "Version: 8.5.0-2ubuntu10.6\n"
     ]
    }
   ],
   "source": [
    "!dpkg -s curl | grep Version"
   ]
  },
  {
   "cell_type": "markdown",
   "id": "9d49612d-b9b4-4dca-b67b-07a865693884",
   "metadata": {},
   "source": [
    "**wget**"
   ]
  },
  {
   "cell_type": "code",
   "execution_count": 36,
   "id": "877a3c8d-544b-43cd-9a85-97922d624f03",
   "metadata": {
    "execution": {
     "iopub.execute_input": "2025-10-05T09:30:48.265389Z",
     "iopub.status.busy": "2025-10-05T09:30:48.264931Z",
     "iopub.status.idle": "2025-10-05T09:30:48.383235Z",
     "shell.execute_reply": "2025-10-05T09:30:48.381787Z",
     "shell.execute_reply.started": "2025-10-05T09:30:48.265353Z"
    },
    "tags": []
   },
   "outputs": [
    {
     "name": "stdout",
     "output_type": "stream",
     "text": [
      "Version: 1.21.4-1ubuntu4.1\n"
     ]
    }
   ],
   "source": [
    "!dpkg -s wget | grep Version"
   ]
  },
  {
   "cell_type": "markdown",
   "id": "1033a1ca-f9ab-4665-8c72-c1c1151f6f3a",
   "metadata": {
    "execution": {
     "iopub.execute_input": "2023-09-16T13:32:39.171616Z",
     "iopub.status.busy": "2023-09-16T13:32:39.171343Z",
     "iopub.status.idle": "2023-09-16T13:32:39.175635Z",
     "shell.execute_reply": "2023-09-16T13:32:39.174695Z",
     "shell.execute_reply.started": "2023-09-16T13:32:39.171602Z"
    },
    "tags": []
   },
   "source": [
    "### Files archives & compression"
   ]
  },
  {
   "cell_type": "markdown",
   "id": "05d79094-398d-4ac5-8795-dd8e1f0e1a3d",
   "metadata": {},
   "source": [
    "**bzip2**"
   ]
  },
  {
   "cell_type": "code",
   "execution_count": 37,
   "id": "9efacf69-c891-4aad-9b94-a7b60c91d232",
   "metadata": {
    "execution": {
     "iopub.execute_input": "2025-10-05T09:30:49.856392Z",
     "iopub.status.busy": "2025-10-05T09:30:49.856124Z",
     "iopub.status.idle": "2025-10-05T09:30:49.971047Z",
     "shell.execute_reply": "2025-10-05T09:30:49.969985Z",
     "shell.execute_reply.started": "2025-10-05T09:30:49.856370Z"
    },
    "tags": []
   },
   "outputs": [
    {
     "name": "stdout",
     "output_type": "stream",
     "text": [
      "Version: 1.0.8-5.1build0.1\n"
     ]
    }
   ],
   "source": [
    "!dpkg -s bzip2 | grep Version"
   ]
  },
  {
   "cell_type": "markdown",
   "id": "2d5f54e2-f9fe-43cf-bd30-b633ff1b2e66",
   "metadata": {},
   "source": [
    "**gzip**"
   ]
  },
  {
   "cell_type": "code",
   "execution_count": 38,
   "id": "3988e458-7a81-4ba9-895a-5706618be333",
   "metadata": {
    "execution": {
     "iopub.execute_input": "2025-10-05T09:30:50.658929Z",
     "iopub.status.busy": "2025-10-05T09:30:50.658423Z",
     "iopub.status.idle": "2025-10-05T09:30:50.776407Z",
     "shell.execute_reply": "2025-10-05T09:30:50.775276Z",
     "shell.execute_reply.started": "2025-10-05T09:30:50.658890Z"
    },
    "tags": []
   },
   "outputs": [
    {
     "name": "stdout",
     "output_type": "stream",
     "text": [
      "Version: 1.12-1ubuntu3.1\n"
     ]
    }
   ],
   "source": [
    "!dpkg -s gzip | grep Version"
   ]
  },
  {
   "cell_type": "markdown",
   "id": "824cc23d-acca-4c3b-948b-326ee3e71981",
   "metadata": {},
   "source": [
    "**tar**"
   ]
  },
  {
   "cell_type": "code",
   "execution_count": 39,
   "id": "281a3942-26bc-4b9f-a1e8-fefd0b713724",
   "metadata": {
    "execution": {
     "iopub.execute_input": "2025-10-05T09:30:51.440246Z",
     "iopub.status.busy": "2025-10-05T09:30:51.439791Z",
     "iopub.status.idle": "2025-10-05T09:30:51.556021Z",
     "shell.execute_reply": "2025-10-05T09:30:51.554871Z",
     "shell.execute_reply.started": "2025-10-05T09:30:51.440209Z"
    },
    "tags": []
   },
   "outputs": [
    {
     "name": "stdout",
     "output_type": "stream",
     "text": [
      "Version: 1.35+dfsg-3build1\n"
     ]
    }
   ],
   "source": [
    "!dpkg -s tar | grep Version"
   ]
  },
  {
   "cell_type": "markdown",
   "id": "f9e701f0-2e09-4d56-be98-de9af4a7eac2",
   "metadata": {},
   "source": [
    "**unzip**"
   ]
  },
  {
   "cell_type": "code",
   "execution_count": 40,
   "id": "9c11a6d9-6aa6-4d7c-9b4e-2859fd477360",
   "metadata": {
    "execution": {
     "iopub.execute_input": "2025-10-05T09:30:52.065372Z",
     "iopub.status.busy": "2025-10-05T09:30:52.064925Z",
     "iopub.status.idle": "2025-10-05T09:30:52.183920Z",
     "shell.execute_reply": "2025-10-05T09:30:52.182131Z",
     "shell.execute_reply.started": "2025-10-05T09:30:52.065335Z"
    },
    "tags": []
   },
   "outputs": [
    {
     "name": "stdout",
     "output_type": "stream",
     "text": [
      "Version: 6.0-28ubuntu4.1\n"
     ]
    }
   ],
   "source": [
    "!dpkg -s unzip | grep Version"
   ]
  },
  {
   "cell_type": "markdown",
   "id": "c01c9a62-877a-47f1-8b26-534ad17fede8",
   "metadata": {},
   "source": [
    "### Text editors"
   ]
  },
  {
   "cell_type": "markdown",
   "id": "d296bab5-e989-4d6a-929a-a424c2bd66d6",
   "metadata": {},
   "source": [
    "**vim**"
   ]
  },
  {
   "cell_type": "code",
   "execution_count": 41,
   "id": "8d43e029-6d8a-4662-bdb2-d0b3687d32a8",
   "metadata": {
    "execution": {
     "iopub.execute_input": "2025-10-05T09:30:53.450542Z",
     "iopub.status.busy": "2025-10-05T09:30:53.450111Z",
     "iopub.status.idle": "2025-10-05T09:30:53.567262Z",
     "shell.execute_reply": "2025-10-05T09:30:53.565468Z",
     "shell.execute_reply.started": "2025-10-05T09:30:53.450507Z"
    },
    "tags": []
   },
   "outputs": [
    {
     "name": "stdout",
     "output_type": "stream",
     "text": [
      "Version: 2:9.1.0016-1ubuntu7.9\n"
     ]
    }
   ],
   "source": [
    "!dpkg -s vim | grep Version"
   ]
  },
  {
   "cell_type": "markdown",
   "id": "7773e2d8-c7f6-4e4d-bdba-085181374bc8",
   "metadata": {},
   "source": [
    "### Performance monintoring"
   ]
  },
  {
   "cell_type": "markdown",
   "id": "cd6ffafa-0292-43ba-83d1-6dd15f5a50d4",
   "metadata": {},
   "source": [
    "**htop**"
   ]
  },
  {
   "cell_type": "code",
   "execution_count": 42,
   "id": "8d927a92-db7e-4b76-9ba3-2d20f4a042f8",
   "metadata": {
    "execution": {
     "iopub.execute_input": "2025-10-05T09:30:56.232334Z",
     "iopub.status.busy": "2025-10-05T09:30:56.231988Z",
     "iopub.status.idle": "2025-10-05T09:30:56.348862Z",
     "shell.execute_reply": "2025-10-05T09:30:56.347547Z",
     "shell.execute_reply.started": "2025-10-05T09:30:56.232306Z"
    },
    "tags": []
   },
   "outputs": [
    {
     "name": "stdout",
     "output_type": "stream",
     "text": [
      "Version: 3.3.0-4build1\n"
     ]
    }
   ],
   "source": [
    "!dpkg -s htop | grep Version"
   ]
  },
  {
   "cell_type": "markdown",
   "id": "e98d2914-f0c5-4264-9a6f-29a92d1573ee",
   "metadata": {},
   "source": [
    "**nvtop**"
   ]
  },
  {
   "cell_type": "code",
   "execution_count": 43,
   "id": "9d8d9f86-1a3a-4dc7-b704-586d3a030706",
   "metadata": {
    "execution": {
     "iopub.execute_input": "2025-10-05T09:30:57.111876Z",
     "iopub.status.busy": "2025-10-05T09:30:57.111717Z",
     "iopub.status.idle": "2025-10-05T09:30:57.227019Z",
     "shell.execute_reply": "2025-10-05T09:30:57.224949Z",
     "shell.execute_reply.started": "2025-10-05T09:30:57.111863Z"
    },
    "tags": []
   },
   "outputs": [
    {
     "name": "stdout",
     "output_type": "stream",
     "text": [
      "Version: 3.0.2-1\n"
     ]
    }
   ],
   "source": [
    "!dpkg -s nvtop | grep Version"
   ]
  },
  {
   "cell_type": "code",
   "execution_count": null,
   "id": "bde4186c-a0d1-4b41-9af8-9e3ef2b7c0df",
   "metadata": {},
   "outputs": [],
   "source": []
  }
 ],
 "metadata": {
  "kernelspec": {
   "display_name": "wordslab-notebooks-tutorials",
   "language": "python",
   "name": "wordslab-notebooks-tutorials"
  },
  "language_info": {
   "codemirror_mode": {
    "name": "ipython",
    "version": 3
   },
   "file_extension": ".py",
   "mimetype": "text/x-python",
   "name": "python",
   "nbconvert_exporter": "python",
   "pygments_lexer": "ipython3",
   "version": "3.12.11"
  }
 },
 "nbformat": 4,
 "nbformat_minor": 5
}
