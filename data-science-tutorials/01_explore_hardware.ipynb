{
 "cells": [
  {
   "cell_type": "markdown",
   "id": "8042291e-ff60-4504-b885-13f4b8dc5f40",
   "metadata": {},
   "source": [
    "# 01 - Hardware "
   ]
  },
  {
   "cell_type": "markdown",
   "id": "549d2a89-e1cc-41a5-87be-ceb1b82fe072",
   "metadata": {},
   "source": [
    "## Operating System"
   ]
  },
  {
   "cell_type": "code",
   "execution_count": 1,
   "id": "e34ce0b2-6311-441b-a698-4003a0f1dbe1",
   "metadata": {
    "execution": {
     "iopub.execute_input": "2025-10-05T09:10:22.909736Z",
     "iopub.status.busy": "2025-10-05T09:10:22.909628Z",
     "iopub.status.idle": "2025-10-05T09:10:23.019941Z",
     "shell.execute_reply": "2025-10-05T09:10:23.019592Z",
     "shell.execute_reply.started": "2025-10-05T09:10:22.909727Z"
    }
   },
   "outputs": [
    {
     "name": "stdout",
     "output_type": "stream",
     "text": [
      "Operating System: Linux\n",
      "OS Version      : Linux-6.6.87.2-microsoft-standard-WSL2-x86_64-with-glibc2.39\n",
      "--> running inside Windows Subsystem for Linux virtual machine\n",
      "\n",
      "Linux distribution:\n",
      "\n",
      "PRETTY_NAME=\"Ubuntu 24.04.3 LTS\"\n",
      "NAME=\"Ubuntu\"\n",
      "VERSION_ID=\"24.04\"\n",
      "VERSION=\"24.04.3 LTS (Noble Numbat)\"\n"
     ]
    }
   ],
   "source": [
    "import platform\n",
    "\n",
    "os_name = platform.system()\n",
    "print(f\"Operating System: {os_name}\")\n",
    "\n",
    "os_details = platform.platform()\n",
    "print(f\"OS Version      : {os_details}\")\n",
    "\n",
    "if os_name==\"Linux\":\n",
    "    if \"microsoft\" in os_details:\n",
    "        print(\"--> running inside Windows Subsystem for Linux virtual machine\")\n",
    "    print()\n",
    "    print(\"Linux distribution:\")\n",
    "    print()\n",
    "    !cat /etc/os-release | head -4"
   ]
  },
  {
   "cell_type": "markdown",
   "id": "efc8f582-0dc1-424b-b1c4-9c6513570da8",
   "metadata": {
    "execution": {
     "iopub.execute_input": "2024-06-08T19:04:26.928324Z",
     "iopub.status.busy": "2024-06-08T19:04:26.927939Z",
     "iopub.status.idle": "2024-06-08T19:04:26.931009Z",
     "shell.execute_reply": "2024-06-08T19:04:26.930446Z",
     "shell.execute_reply.started": "2024-06-08T19:04:26.928309Z"
    }
   },
   "source": [
    "## CPU and Memory"
   ]
  },
  {
   "cell_type": "code",
   "execution_count": 2,
   "id": "a7940795-7afd-4860-b520-ce62df3aa8f0",
   "metadata": {
    "execution": {
     "iopub.execute_input": "2025-10-05T09:10:53.871357Z",
     "iopub.status.busy": "2025-10-05T09:10:53.871191Z",
     "iopub.status.idle": "2025-10-05T09:10:53.899129Z",
     "shell.execute_reply": "2025-10-05T09:10:53.898731Z",
     "shell.execute_reply.started": "2025-10-05T09:10:53.871345Z"
    }
   },
   "outputs": [
    {
     "name": "stdout",
     "output_type": "stream",
     "text": [
      "----------------------------\n",
      "CPU\n",
      "----------------------------\n",
      "CPU Model: 13th Gen Intel(R) Core(TM) i7-13700K\n",
      "Physical Cores: 12\n",
      "Logical  Cores: 24\n",
      "Current Clock Speed: 3417.601 MHz\n",
      "Cache Size: {'L1': '48K', 'L2': '32K', 'L3': '2048K'}\n",
      "\n",
      "----------------------------\n",
      "Memory\n",
      "----------------------------\n",
      "Total RAM: 31.03 GB\n",
      "Used  RAM: 1.67 GB\n",
      "Free  RAM: 29.36 GB\n"
     ]
    }
   ],
   "source": [
    "import psutil\n",
    "import platform\n",
    "import subprocess\n",
    "\n",
    "# Function to get CPU model name\n",
    "def get_cpu_model():\n",
    "    if platform.system() == \"Windows\":\n",
    "        command = \"wmic cpu get Name\"\n",
    "        cpu_model = subprocess.check_output(command).decode().split(\"\\n\")[1].strip()\n",
    "    elif platform.system() == \"Darwin\":\n",
    "        command = \"sysctl -n machdep.cpu.brand_string\"\n",
    "        cpu_model = subprocess.check_output([\"sysctl\", \"-n\", \"machdep.cpu.brand_string\"]).decode().strip()\n",
    "    else:\n",
    "        command = \"cat /proc/cpuinfo | grep 'model name' | uniq\"\n",
    "        cpu_model = subprocess.check_output(command, shell=True).decode().split(\":\")[1].strip()\n",
    "    return cpu_model\n",
    "\n",
    "# Function to get the number of physical cores and logical cores\n",
    "def get_cpu_core_count():\n",
    "    physical_cores = psutil.cpu_count(logical=False)\n",
    "    logical_cores = psutil.cpu_count(logical=True)\n",
    "    return physical_cores, logical_cores\n",
    "\n",
    "# Function to get CPU clock speed\n",
    "def get_cpu_clock_speed():\n",
    "    cpu_freq = psutil.cpu_freq()\n",
    "    return cpu_freq.max, cpu_freq.current\n",
    "\n",
    "# Function to get cache size (Linux specific)\n",
    "def get_cpu_cache_size():\n",
    "    cache_size = {}\n",
    "    try:\n",
    "        with open('/sys/devices/system/cpu/cpu0/cache/index0/size') as f:\n",
    "            cache_size['L1'] = f.read().strip()\n",
    "        with open('/sys/devices/system/cpu/cpu0/cache/index1/size') as f:\n",
    "            cache_size['L2'] = f.read().strip()\n",
    "        with open('/sys/devices/system/cpu/cpu0/cache/index2/size') as f:\n",
    "            cache_size['L3'] = f.read().strip()\n",
    "    except Exception as e:\n",
    "        cache_size = {'L1': 'N/A', 'L2': 'N/A', 'L3': 'N/A'}\n",
    "    return cache_size\n",
    "\n",
    "# Function to get RAM information\n",
    "def get_ram_info():\n",
    "    virtual_memory = psutil.virtual_memory()\n",
    "    total_ram = virtual_memory.total\n",
    "    used_ram = virtual_memory.used\n",
    "    free_ram = virtual_memory.available\n",
    "    return total_ram, used_ram, free_ram\n",
    "\n",
    "# Gathering all information\n",
    "cpu_model = get_cpu_model()\n",
    "physical_cores, logical_cores = get_cpu_core_count()\n",
    "max_clock_speed, current_clock_speed = get_cpu_clock_speed()\n",
    "cache_size = get_cpu_cache_size()\n",
    "total_ram, used_ram, free_ram = get_ram_info()\n",
    "\n",
    "# Printing the information\n",
    "print(\"----------------------------\")\n",
    "print(\"CPU\")\n",
    "print(\"----------------------------\")\n",
    "print(f\"CPU Model: {cpu_model}\")\n",
    "print(f\"Physical Cores: {physical_cores}\")\n",
    "if logical_cores>physical_cores:\n",
    "    print(f\"Logical  Cores: {logical_cores}\")\n",
    "if max_clock_speed > 0:\n",
    "    print(f\"Max Clock Speed: {max_clock_speed} MHz\")\n",
    "print(f\"Current Clock Speed: {current_clock_speed} MHz\")\n",
    "print(f\"Cache Size: {cache_size}\")\n",
    "print()\n",
    "print(\"----------------------------\")\n",
    "print(\"Memory\")\n",
    "print(\"----------------------------\")\n",
    "print(f\"Total RAM: {total_ram / (1024 ** 3):.2f} GB\")\n",
    "print(f\"Used  RAM: {used_ram / (1024 ** 3):.2f} GB\")\n",
    "print(f\"Free  RAM: {free_ram / (1024 ** 3):.2f} GB\")"
   ]
  },
  {
   "cell_type": "markdown",
   "id": "8fa263e1-a8f2-4a17-b551-509da34656da",
   "metadata": {
    "execution": {
     "iopub.execute_input": "2024-06-08T19:18:09.480858Z",
     "iopub.status.busy": "2024-06-08T19:18:09.480643Z",
     "iopub.status.idle": "2024-06-08T19:18:09.483989Z",
     "shell.execute_reply": "2024-06-08T19:18:09.483463Z",
     "shell.execute_reply.started": "2024-06-08T19:18:09.480845Z"
    }
   },
   "source": [
    "### Monitoring your CPU from a terminal"
   ]
  },
  {
   "cell_type": "code",
   "execution_count": 3,
   "id": "158eee70-c462-40a4-86c6-45bbe967f157",
   "metadata": {
    "execution": {
     "iopub.execute_input": "2025-10-05T09:11:12.339750Z",
     "iopub.status.busy": "2025-10-05T09:11:12.339350Z",
     "iopub.status.idle": "2025-10-05T09:11:12.687686Z",
     "shell.execute_reply": "2025-10-05T09:11:12.686235Z",
     "shell.execute_reply.started": "2025-10-05T09:11:12.339724Z"
    }
   },
   "outputs": [
    {
     "name": "stdout",
     "output_type": "stream",
     "text": [
      "top - 11:11:12 up 20:46,  0 user,  load average: 0.15, 0.15, 0.17\n",
      "Tasks:  25 total,   1 running,  24 sleeping,   0 stopped,   0 zombie\n",
      "%Cpu(s):  0.4 us,  1.6 sy,  0.0 ni, 97.7 id,  0.4 wa,  0.0 hi,  0.0 si,  0.0 st \n",
      "MiB Mem :  31778.1 total,  29159.8 free,   1713.0 used,   1380.3 buff/cache     \n",
      "MiB Swap:   8192.0 total,   7467.8 free,    724.2 used.  30065.1 avail Mem \n",
      "\n",
      "  PID USER      PR  NI    VIRT    RES    SHR S  %CPU  %MEM     TIME+ COMMAND\n",
      "31630 root      20   0 3016188 215812  18816 D  10.0   0.7  44:26.69 jupyter-l+\n",
      "    1 root      20   0    3072    768    768 S   0.0   0.0   0:00.03 init(word+\n",
      "    6 root      20   0    3072    576    576 S   0.0   0.0   0:00.00 init\n",
      "   22 root      20   0    3092    576    576 S   0.0   0.0   0:00.03 Relay(23)\n",
      "   48 root      20   0 2639668  18780   8832 S   0.0   0.1   0:10.57 dockerd\n",
      "   98 root      20   0 2246708  13992   6912 S   0.0   0.0   1:04.68 containerd\n",
      "  711 root      20   0    8000   3072   2688 S   0.0   0.0   0:00.01 bash\n",
      "  719 root      20   0    8112   3072   2688 S   0.0   0.0   0:00.07 bash\n",
      "14958 root      20   0  147.8g 877876 548780 S   0.0   2.7   0:50.33 ollama\n",
      "18244 root      20   0  769072  66100  16704 S   0.0   0.2   0:00.27 python\n",
      "18271 root      20   0   12364   5184   3072 R   0.0   0.0   0:00.01 top\n",
      "25133 root      20   0    8116   4032   3456 S   0.0   0.0   0:00.06 bash\n",
      "31607 root      20   0    3076    384    384 S   0.0   0.0   0:00.00 SessionLe+\n",
      "31608 root      20   0    3092    576    576 S   0.0   0.0   0:00.54 Relay(316+\n",
      "31609 root      20   0    7872   2496   2496 S   0.0   0.0   0:00.00 bash\n",
      "31617 root      20   0    7744   2304   2304 S   0.0   0.0   0:00.00 start-wor+\n",
      "31621 root      20   0    7876   2496   2496 S   0.0   0.0   0:00.00 5_start-w+\n",
      "31625 root      20   0 1115832   5108   3264 S   0.0   0.0   0:00.31 node\n",
      "31631 root      20   0 2884864 206160  17280 S   0.0   0.6   0:19.33 ollama\n",
      "31636 root      20   0   72.4g  83888  20160 S   0.0   0.3   2:08.21 open-webui\n",
      "31637 root      20   0    7876   2688   2688 S   0.0   0.0   0:00.00 start-das+\n",
      "31642 root      20   0  181720  15932   7680 S   0.0   0.0 150:38.03 python\n",
      "31679 root      20   0 1052684  21692  15168 S   0.0   0.1   0:02.58 node\n",
      "31701 root      20   0   38540   5184   4608 S   0.0   0.0   0:00.01 python\n",
      "31702 root      20   0  537136  86032  12480 S   0.0   0.3   2:51.16 python\n"
     ]
    }
   ],
   "source": [
    "!top -b -n 1"
   ]
  },
  {
   "cell_type": "markdown",
   "id": "790c8a38-4ecd-4a54-a7fc-1f48f78ba1e0",
   "metadata": {},
   "source": [
    "### Monitoring your CPU from a notebook"
   ]
  },
  {
   "cell_type": "code",
   "execution_count": 4,
   "id": "6af90a80-a406-456f-9e97-ecac09041cf0",
   "metadata": {
    "execution": {
     "iopub.execute_input": "2025-10-05T09:11:20.519845Z",
     "iopub.status.busy": "2025-10-05T09:11:20.519365Z",
     "iopub.status.idle": "2025-10-05T09:11:21.526922Z",
     "shell.execute_reply": "2025-10-05T09:11:21.526094Z",
     "shell.execute_reply.started": "2025-10-05T09:11:20.519808Z"
    }
   },
   "outputs": [
    {
     "name": "stdout",
     "output_type": "stream",
     "text": [
      "- CPU load   : 0.8 %\n",
      "- Used memory: 1.66 GB\n",
      "- Free memory: 28.48 GB\n"
     ]
    }
   ],
   "source": [
    "import psutil\n",
    "\n",
    "# Get CPU usage percentage\n",
    "cpu_usage = psutil.cpu_percent(interval=1)\n",
    "\n",
    "# Get memory usage percentage\n",
    "memory_info = psutil.virtual_memory()\n",
    "\n",
    "# Display the results\n",
    "print(f\"- CPU load   : {cpu_usage} %\")\n",
    "print(f\"- Used memory: {memory_info.used/1024**3:.2f} GB\")\n",
    "print(f\"- Free memory: {memory_info.free/1024**3:.2f} GB\")"
   ]
  },
  {
   "cell_type": "markdown",
   "id": "0a560ce3-7860-4327-bf0f-7eb5e54e4d6f",
   "metadata": {},
   "source": [
    "## Nvidia GPU"
   ]
  },
  {
   "cell_type": "markdown",
   "id": "0af02e31-9527-4082-a2d6-2c2310f547c0",
   "metadata": {
    "execution": {
     "iopub.execute_input": "2023-09-16T07:06:57.142982Z",
     "iopub.status.busy": "2023-09-16T07:06:57.142667Z",
     "iopub.status.idle": "2023-09-16T07:06:57.148749Z",
     "shell.execute_reply": "2023-09-16T07:06:57.147687Z",
     "shell.execute_reply.started": "2023-09-16T07:06:57.142964Z"
    },
    "tags": []
   },
   "source": [
    "NVLM API reference: https://docs.nvidia.com/deploy/nvml-api/index.html"
   ]
  },
  {
   "cell_type": "code",
   "execution_count": 6,
   "id": "3019fe3f-7bb4-4f35-beec-e850efcdb31f",
   "metadata": {
    "execution": {
     "iopub.execute_input": "2025-10-05T09:12:09.867896Z",
     "iopub.status.busy": "2025-10-05T09:12:09.867432Z",
     "iopub.status.idle": "2025-10-05T09:12:11.643906Z",
     "shell.execute_reply": "2025-10-05T09:12:11.642884Z",
     "shell.execute_reply.started": "2025-10-05T09:12:09.867865Z"
    }
   },
   "outputs": [
    {
     "name": "stdout",
     "output_type": "stream",
     "text": [
      "\u001b[1m\u001b[33mwarning\u001b[39m\u001b[0m\u001b[1m:\u001b[0m \u001b[1m`VIRTUAL_ENV=/home/jupyterlab/.venv` does not match the project environment path `/home/workspace/wordslab-notebooks-tutorials/.venv` and will be ignored; use `--active` to target the active environment instead\u001b[0m\n",
      "\u001b[2K\u001b[2mResolved \u001b[1m256 packages\u001b[0m \u001b[2min 1.51s\u001b[0m\u001b[0m                                       \u001b[0m\n",
      "\u001b[2K\u001b[2mInstalled \u001b[1m2 packages\u001b[0m \u001b[2min 5ms\u001b[0m\u001b[0m.51                              \u001b[0m\n",
      " \u001b[32m+\u001b[39m \u001b[1mnvidia-ml-py\u001b[0m\u001b[2m==12.575.51\u001b[0m\n",
      " \u001b[32m+\u001b[39m \u001b[1mpynvml\u001b[0m\u001b[2m==12.0.0\u001b[0m\n"
     ]
    }
   ],
   "source": [
    "!uv add pynvml==12.0.0"
   ]
  },
  {
   "cell_type": "code",
   "execution_count": 7,
   "id": "4328b429-8a5a-46df-95c1-d75581bebb7d",
   "metadata": {
    "execution": {
     "iopub.execute_input": "2025-10-05T09:12:17.275883Z",
     "iopub.status.busy": "2025-10-05T09:12:17.275408Z",
     "iopub.status.idle": "2025-10-05T09:12:17.368659Z",
     "shell.execute_reply": "2025-10-05T09:12:17.368272Z",
     "shell.execute_reply.started": "2025-10-05T09:12:17.275845Z"
    }
   },
   "outputs": [
    {
     "name": "stdout",
     "output_type": "stream",
     "text": [
      "----------------------------\n",
      "GPU\n",
      "----------------------------\n",
      "Device 0 : NVIDIA GeForce RTX 4090\n",
      "- Total memory  : 24564 MB\n",
      "- Driver Version: 581.42\n",
      "- Driver CUDA   : 13.0\n",
      "\n"
     ]
    }
   ],
   "source": [
    "from pynvml import *\n",
    "\n",
    "nvmlInit()\n",
    "\n",
    "deviceCount = nvmlDeviceGetCount()\n",
    "for i in range(deviceCount):\n",
    "    print(\"----------------------------\")\n",
    "    print(\"GPU\")\n",
    "    print(\"----------------------------\")\n",
    "    handle = nvmlDeviceGetHandleByIndex(i)\n",
    "    # Fix bug: https://github.com/gpuopenanalytics/pynvml/issues/53\n",
    "    if nvmlSystemGetDriverVersion() != \"555.99\": \n",
    "        print(\"Device\", i, \":\", nvmlDeviceGetName(handle))\n",
    "    else:\n",
    "        arch_map = { 1: \"Kepler\", 2: \"Maxwell\", 3: \"Pascal\", 4: \"Volta\", 5: \"Turing\", 6: \"Ampere\", 7: \"Ada\", 8: \"Hopper\", 0: \"Unknown\" }\n",
    "        print(\"Device\", i, \": architecture\", arch_map[nvmlDeviceGetArchitecture(handle)])  \n",
    "    info = nvmlDeviceGetMemoryInfo(handle)\n",
    "    print(\"- Total memory  :\",int(info.total/1024/1024), \"MB\")    \n",
    "    print(\"- Driver Version:\", nvmlSystemGetDriverVersion())\n",
    "    cuda_driver_version = nvmlSystemGetCudaDriverVersion()\n",
    "    print(f\"- Driver CUDA   : {cuda_driver_version//1000}.{(cuda_driver_version%1000)//10}\")\n",
    "    print()"
   ]
  },
  {
   "cell_type": "markdown",
   "id": "f20ae3de-e025-4919-bbe0-e9e939ab2405",
   "metadata": {},
   "source": [
    "### Monitoring your GPU from Terminal "
   ]
  },
  {
   "cell_type": "code",
   "execution_count": 8,
   "id": "94ca79f9-9ab4-4daa-b0f4-46257b0a0ffc",
   "metadata": {
    "execution": {
     "iopub.execute_input": "2025-10-05T09:12:21.477838Z",
     "iopub.status.busy": "2025-10-05T09:12:21.477392Z",
     "iopub.status.idle": "2025-10-05T09:12:21.690310Z",
     "shell.execute_reply": "2025-10-05T09:12:21.689757Z",
     "shell.execute_reply.started": "2025-10-05T09:12:21.477811Z"
    },
    "tags": []
   },
   "outputs": [
    {
     "name": "stdout",
     "output_type": "stream",
     "text": [
      "Sun Oct  5 11:12:21 2025       \n",
      "+-----------------------------------------------------------------------------------------+\n",
      "| NVIDIA-SMI 580.95.02              Driver Version: 581.42         CUDA Version: 13.0     |\n",
      "+-----------------------------------------+------------------------+----------------------+\n",
      "| GPU  Name                 Persistence-M | Bus-Id          Disp.A | Volatile Uncorr. ECC |\n",
      "| Fan  Temp   Perf          Pwr:Usage/Cap |           Memory-Usage | GPU-Util  Compute M. |\n",
      "|                                         |                        |               MIG M. |\n",
      "|=========================================+========================+======================|\n",
      "|   0  NVIDIA GeForce RTX 4090        On  |   00000000:01:00.0 Off |                  Off |\n",
      "| 31%   25C    P8              9W /  450W |   20674MiB /  24564MiB |      0%      Default |\n",
      "|                                         |                        |                  N/A |\n",
      "+-----------------------------------------+------------------------+----------------------+\n",
      "\n",
      "+-----------------------------------------------------------------------------------------+\n",
      "| Processes:                                                                              |\n",
      "|  GPU   GI   CI              PID   Type   Process name                        GPU Memory |\n",
      "|        ID   ID                                                               Usage      |\n",
      "|=========================================================================================|\n",
      "|    0   N/A  N/A           14958      C   /ollama                               N/A      |\n",
      "+-----------------------------------------------------------------------------------------+\n"
     ]
    }
   ],
   "source": [
    "!nvidia-smi"
   ]
  },
  {
   "cell_type": "markdown",
   "id": "fe32ff7b-86cf-444f-92eb-692c26c4a4a3",
   "metadata": {
    "execution": {
     "iopub.execute_input": "2023-09-16T07:00:11.953075Z",
     "iopub.status.busy": "2023-09-16T07:00:11.952250Z",
     "iopub.status.idle": "2023-09-16T07:00:11.956380Z",
     "shell.execute_reply": "2023-09-16T07:00:11.955409Z",
     "shell.execute_reply.started": "2023-09-16T07:00:11.953054Z"
    },
    "tags": []
   },
   "source": [
    "### Monitoring your GPU from a notebook"
   ]
  },
  {
   "cell_type": "code",
   "execution_count": 9,
   "id": "2a87a1c4-7bd0-4a97-86ee-3feb3d9e7f6e",
   "metadata": {
    "execution": {
     "iopub.execute_input": "2025-10-05T09:12:24.068529Z",
     "iopub.status.busy": "2025-10-05T09:12:24.068366Z",
     "iopub.status.idle": "2025-10-05T09:12:24.079233Z",
     "shell.execute_reply": "2025-10-05T09:12:24.078837Z",
     "shell.execute_reply.started": "2025-10-05T09:12:24.068518Z"
    },
    "tags": []
   },
   "outputs": [
    {
     "name": "stdout",
     "output_type": "stream",
     "text": [
      "GPU 0\n",
      "- GPU load   : 0%\n",
      "- Power usage: 8 W\n",
      "- Used memory: 21095 MB\n",
      "- Free memory: 3468 MB\n"
     ]
    }
   ],
   "source": [
    "deviceCount = nvmlDeviceGetCount()\n",
    "for i in range(deviceCount):\n",
    "    handle = nvmlDeviceGetHandleByIndex(i)\n",
    "    print(\"GPU\", i)\n",
    "\n",
    "    utilization = nvmlDeviceGetUtilizationRates(handle)\n",
    "    gpu_utilization = utilization.gpu\n",
    "    print(f\"- GPU load   : {gpu_utilization}%\")\n",
    "    print(f\"- Power usage: {nvmlDeviceGetPowerUsage(handle)//1000} W\")\n",
    "    \n",
    "    info = nvmlDeviceGetMemoryInfo(handle)\n",
    "    print(f\"- Used memory: {int(info.used/1024/1024)} MB\")\n",
    "    print(f\"- Free memory: {int(info.free/1024/1024)} MB\")"
   ]
  },
  {
   "cell_type": "code",
   "execution_count": null,
   "id": "9177e8cd-0f22-4c02-a0a8-1c24eea6a285",
   "metadata": {},
   "outputs": [],
   "source": []
  }
 ],
 "metadata": {
  "kernelspec": {
   "display_name": "wordslab-notebooks-tutorials",
   "language": "python",
   "name": "wordslab-notebooks-tutorials"
  },
  "language_info": {
   "codemirror_mode": {
    "name": "ipython",
    "version": 3
   },
   "file_extension": ".py",
   "mimetype": "text/x-python",
   "name": "python",
   "nbconvert_exporter": "python",
   "pygments_lexer": "ipython3",
   "version": "3.12.11"
  }
 },
 "nbformat": 4,
 "nbformat_minor": 5
}
